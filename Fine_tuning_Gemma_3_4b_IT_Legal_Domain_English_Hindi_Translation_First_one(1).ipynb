{
  "nbformat": 4,
  "nbformat_minor": 0,
  "metadata": {
    "colab": {
      "provenance": [],
      "gpuType": "T4"
    },
    "kernelspec": {
      "name": "python3",
      "display_name": "Python 3"
    },
    "language_info": {
      "name": "python"
    },
    "widgets": {
      "application/vnd.jupyter.widget-state+json": {
        "f0ef7f353cf746639298bb16890ca82d": {
          "model_module": "@jupyter-widgets/controls",
          "model_name": "HBoxModel",
          "model_module_version": "1.5.0",
          "state": {
            "_dom_classes": [],
            "_model_module": "@jupyter-widgets/controls",
            "_model_module_version": "1.5.0",
            "_model_name": "HBoxModel",
            "_view_count": null,
            "_view_module": "@jupyter-widgets/controls",
            "_view_module_version": "1.5.0",
            "_view_name": "HBoxView",
            "box_style": "",
            "children": [
              "IPY_MODEL_347edd90cc124a8ca6439f1f66f97ba9",
              "IPY_MODEL_0ac874030a734723b427909ea8e9cfd1",
              "IPY_MODEL_9b16a5951b0646d58bb4870f13ad743f"
            ],
            "layout": "IPY_MODEL_0a31aef5a4e04c718d7b774baf08f7c1"
          }
        },
        "347edd90cc124a8ca6439f1f66f97ba9": {
          "model_module": "@jupyter-widgets/controls",
          "model_name": "HTMLModel",
          "model_module_version": "1.5.0",
          "state": {
            "_dom_classes": [],
            "_model_module": "@jupyter-widgets/controls",
            "_model_module_version": "1.5.0",
            "_model_name": "HTMLModel",
            "_view_count": null,
            "_view_module": "@jupyter-widgets/controls",
            "_view_module_version": "1.5.0",
            "_view_name": "HTMLView",
            "description": "",
            "description_tooltip": null,
            "layout": "IPY_MODEL_8db216ba8ce44dff9044cb8362a3520f",
            "placeholder": "​",
            "style": "IPY_MODEL_0261845d0a8b4b5590764553e3d724c4",
            "value": "model.safetensors: 100%"
          }
        },
        "0ac874030a734723b427909ea8e9cfd1": {
          "model_module": "@jupyter-widgets/controls",
          "model_name": "FloatProgressModel",
          "model_module_version": "1.5.0",
          "state": {
            "_dom_classes": [],
            "_model_module": "@jupyter-widgets/controls",
            "_model_module_version": "1.5.0",
            "_model_name": "FloatProgressModel",
            "_view_count": null,
            "_view_module": "@jupyter-widgets/controls",
            "_view_module_version": "1.5.0",
            "_view_name": "ProgressView",
            "bar_style": "danger",
            "description": "",
            "description_tooltip": null,
            "layout": "IPY_MODEL_bd219d660cd54672acfdcb6787531520",
            "max": 4562294331,
            "min": 0,
            "orientation": "horizontal",
            "style": "IPY_MODEL_82973229795a470c8535e27d0104abb8",
            "value": 4562293896
          }
        },
        "9b16a5951b0646d58bb4870f13ad743f": {
          "model_module": "@jupyter-widgets/controls",
          "model_name": "HTMLModel",
          "model_module_version": "1.5.0",
          "state": {
            "_dom_classes": [],
            "_model_module": "@jupyter-widgets/controls",
            "_model_module_version": "1.5.0",
            "_model_name": "HTMLModel",
            "_view_count": null,
            "_view_module": "@jupyter-widgets/controls",
            "_view_module_version": "1.5.0",
            "_view_name": "HTMLView",
            "description": "",
            "description_tooltip": null,
            "layout": "IPY_MODEL_fbad0d71a990447383341a0737936ed1",
            "placeholder": "​",
            "style": "IPY_MODEL_b2effccef8dc4c6289856e88bcc4a88c",
            "value": " 4.56G/4.56G [00:26&lt;00:00, 339MB/s]"
          }
        },
        "0a31aef5a4e04c718d7b774baf08f7c1": {
          "model_module": "@jupyter-widgets/base",
          "model_name": "LayoutModel",
          "model_module_version": "1.2.0",
          "state": {
            "_model_module": "@jupyter-widgets/base",
            "_model_module_version": "1.2.0",
            "_model_name": "LayoutModel",
            "_view_count": null,
            "_view_module": "@jupyter-widgets/base",
            "_view_module_version": "1.2.0",
            "_view_name": "LayoutView",
            "align_content": null,
            "align_items": null,
            "align_self": null,
            "border": null,
            "bottom": null,
            "display": null,
            "flex": null,
            "flex_flow": null,
            "grid_area": null,
            "grid_auto_columns": null,
            "grid_auto_flow": null,
            "grid_auto_rows": null,
            "grid_column": null,
            "grid_gap": null,
            "grid_row": null,
            "grid_template_areas": null,
            "grid_template_columns": null,
            "grid_template_rows": null,
            "height": null,
            "justify_content": null,
            "justify_items": null,
            "left": null,
            "margin": null,
            "max_height": null,
            "max_width": null,
            "min_height": null,
            "min_width": null,
            "object_fit": null,
            "object_position": null,
            "order": null,
            "overflow": null,
            "overflow_x": null,
            "overflow_y": null,
            "padding": null,
            "right": null,
            "top": null,
            "visibility": null,
            "width": null
          }
        },
        "8db216ba8ce44dff9044cb8362a3520f": {
          "model_module": "@jupyter-widgets/base",
          "model_name": "LayoutModel",
          "model_module_version": "1.2.0",
          "state": {
            "_model_module": "@jupyter-widgets/base",
            "_model_module_version": "1.2.0",
            "_model_name": "LayoutModel",
            "_view_count": null,
            "_view_module": "@jupyter-widgets/base",
            "_view_module_version": "1.2.0",
            "_view_name": "LayoutView",
            "align_content": null,
            "align_items": null,
            "align_self": null,
            "border": null,
            "bottom": null,
            "display": null,
            "flex": null,
            "flex_flow": null,
            "grid_area": null,
            "grid_auto_columns": null,
            "grid_auto_flow": null,
            "grid_auto_rows": null,
            "grid_column": null,
            "grid_gap": null,
            "grid_row": null,
            "grid_template_areas": null,
            "grid_template_columns": null,
            "grid_template_rows": null,
            "height": null,
            "justify_content": null,
            "justify_items": null,
            "left": null,
            "margin": null,
            "max_height": null,
            "max_width": null,
            "min_height": null,
            "min_width": null,
            "object_fit": null,
            "object_position": null,
            "order": null,
            "overflow": null,
            "overflow_x": null,
            "overflow_y": null,
            "padding": null,
            "right": null,
            "top": null,
            "visibility": null,
            "width": null
          }
        },
        "0261845d0a8b4b5590764553e3d724c4": {
          "model_module": "@jupyter-widgets/controls",
          "model_name": "DescriptionStyleModel",
          "model_module_version": "1.5.0",
          "state": {
            "_model_module": "@jupyter-widgets/controls",
            "_model_module_version": "1.5.0",
            "_model_name": "DescriptionStyleModel",
            "_view_count": null,
            "_view_module": "@jupyter-widgets/base",
            "_view_module_version": "1.2.0",
            "_view_name": "StyleView",
            "description_width": ""
          }
        },
        "bd219d660cd54672acfdcb6787531520": {
          "model_module": "@jupyter-widgets/base",
          "model_name": "LayoutModel",
          "model_module_version": "1.2.0",
          "state": {
            "_model_module": "@jupyter-widgets/base",
            "_model_module_version": "1.2.0",
            "_model_name": "LayoutModel",
            "_view_count": null,
            "_view_module": "@jupyter-widgets/base",
            "_view_module_version": "1.2.0",
            "_view_name": "LayoutView",
            "align_content": null,
            "align_items": null,
            "align_self": null,
            "border": null,
            "bottom": null,
            "display": null,
            "flex": null,
            "flex_flow": null,
            "grid_area": null,
            "grid_auto_columns": null,
            "grid_auto_flow": null,
            "grid_auto_rows": null,
            "grid_column": null,
            "grid_gap": null,
            "grid_row": null,
            "grid_template_areas": null,
            "grid_template_columns": null,
            "grid_template_rows": null,
            "height": null,
            "justify_content": null,
            "justify_items": null,
            "left": null,
            "margin": null,
            "max_height": null,
            "max_width": null,
            "min_height": null,
            "min_width": null,
            "object_fit": null,
            "object_position": null,
            "order": null,
            "overflow": null,
            "overflow_x": null,
            "overflow_y": null,
            "padding": null,
            "right": null,
            "top": null,
            "visibility": null,
            "width": null
          }
        },
        "82973229795a470c8535e27d0104abb8": {
          "model_module": "@jupyter-widgets/controls",
          "model_name": "ProgressStyleModel",
          "model_module_version": "1.5.0",
          "state": {
            "_model_module": "@jupyter-widgets/controls",
            "_model_module_version": "1.5.0",
            "_model_name": "ProgressStyleModel",
            "_view_count": null,
            "_view_module": "@jupyter-widgets/base",
            "_view_module_version": "1.2.0",
            "_view_name": "StyleView",
            "bar_color": null,
            "description_width": ""
          }
        },
        "fbad0d71a990447383341a0737936ed1": {
          "model_module": "@jupyter-widgets/base",
          "model_name": "LayoutModel",
          "model_module_version": "1.2.0",
          "state": {
            "_model_module": "@jupyter-widgets/base",
            "_model_module_version": "1.2.0",
            "_model_name": "LayoutModel",
            "_view_count": null,
            "_view_module": "@jupyter-widgets/base",
            "_view_module_version": "1.2.0",
            "_view_name": "LayoutView",
            "align_content": null,
            "align_items": null,
            "align_self": null,
            "border": null,
            "bottom": null,
            "display": null,
            "flex": null,
            "flex_flow": null,
            "grid_area": null,
            "grid_auto_columns": null,
            "grid_auto_flow": null,
            "grid_auto_rows": null,
            "grid_column": null,
            "grid_gap": null,
            "grid_row": null,
            "grid_template_areas": null,
            "grid_template_columns": null,
            "grid_template_rows": null,
            "height": null,
            "justify_content": null,
            "justify_items": null,
            "left": null,
            "margin": null,
            "max_height": null,
            "max_width": null,
            "min_height": null,
            "min_width": null,
            "object_fit": null,
            "object_position": null,
            "order": null,
            "overflow": null,
            "overflow_x": null,
            "overflow_y": null,
            "padding": null,
            "right": null,
            "top": null,
            "visibility": null,
            "width": null
          }
        },
        "b2effccef8dc4c6289856e88bcc4a88c": {
          "model_module": "@jupyter-widgets/controls",
          "model_name": "DescriptionStyleModel",
          "model_module_version": "1.5.0",
          "state": {
            "_model_module": "@jupyter-widgets/controls",
            "_model_module_version": "1.5.0",
            "_model_name": "DescriptionStyleModel",
            "_view_count": null,
            "_view_module": "@jupyter-widgets/base",
            "_view_module_version": "1.2.0",
            "_view_name": "StyleView",
            "description_width": ""
          }
        },
        "693f2878d8d44325944ecec750f4e4a5": {
          "model_module": "@jupyter-widgets/controls",
          "model_name": "HBoxModel",
          "model_module_version": "1.5.0",
          "state": {
            "_dom_classes": [],
            "_model_module": "@jupyter-widgets/controls",
            "_model_module_version": "1.5.0",
            "_model_name": "HBoxModel",
            "_view_count": null,
            "_view_module": "@jupyter-widgets/controls",
            "_view_module_version": "1.5.0",
            "_view_name": "HBoxView",
            "box_style": "",
            "children": [
              "IPY_MODEL_fa51a42398754d5b97efecefa2728a12",
              "IPY_MODEL_2e26f33bed8a43c5ba246d5bbfcb9801",
              "IPY_MODEL_75a8ee37a8c44e62bad7741aaed9676d"
            ],
            "layout": "IPY_MODEL_3bed71360c4e42aa945cc332b0e29971"
          }
        },
        "fa51a42398754d5b97efecefa2728a12": {
          "model_module": "@jupyter-widgets/controls",
          "model_name": "HTMLModel",
          "model_module_version": "1.5.0",
          "state": {
            "_dom_classes": [],
            "_model_module": "@jupyter-widgets/controls",
            "_model_module_version": "1.5.0",
            "_model_name": "HTMLModel",
            "_view_count": null,
            "_view_module": "@jupyter-widgets/controls",
            "_view_module_version": "1.5.0",
            "_view_name": "HTMLView",
            "description": "",
            "description_tooltip": null,
            "layout": "IPY_MODEL_3e2dc476bccc42f8920d4704348668a8",
            "placeholder": "​",
            "style": "IPY_MODEL_1bc7674a3c614b9eb8b8de9a350792e4",
            "value": "generation_config.json: 100%"
          }
        },
        "2e26f33bed8a43c5ba246d5bbfcb9801": {
          "model_module": "@jupyter-widgets/controls",
          "model_name": "FloatProgressModel",
          "model_module_version": "1.5.0",
          "state": {
            "_dom_classes": [],
            "_model_module": "@jupyter-widgets/controls",
            "_model_module_version": "1.5.0",
            "_model_name": "FloatProgressModel",
            "_view_count": null,
            "_view_module": "@jupyter-widgets/controls",
            "_view_module_version": "1.5.0",
            "_view_name": "ProgressView",
            "bar_style": "success",
            "description": "",
            "description_tooltip": null,
            "layout": "IPY_MODEL_9f0dd1cd5780452c9dfd27a398d1d0ff",
            "max": 210,
            "min": 0,
            "orientation": "horizontal",
            "style": "IPY_MODEL_7e16c77e219440ada7216554d45b6601",
            "value": 210
          }
        },
        "75a8ee37a8c44e62bad7741aaed9676d": {
          "model_module": "@jupyter-widgets/controls",
          "model_name": "HTMLModel",
          "model_module_version": "1.5.0",
          "state": {
            "_dom_classes": [],
            "_model_module": "@jupyter-widgets/controls",
            "_model_module_version": "1.5.0",
            "_model_name": "HTMLModel",
            "_view_count": null,
            "_view_module": "@jupyter-widgets/controls",
            "_view_module_version": "1.5.0",
            "_view_name": "HTMLView",
            "description": "",
            "description_tooltip": null,
            "layout": "IPY_MODEL_c891d05a51eb4c4c9614a5ea6d508804",
            "placeholder": "​",
            "style": "IPY_MODEL_14fd1355cbec46b18fc0c3013dde9de3",
            "value": " 210/210 [00:00&lt;00:00, 21.4kB/s]"
          }
        },
        "3bed71360c4e42aa945cc332b0e29971": {
          "model_module": "@jupyter-widgets/base",
          "model_name": "LayoutModel",
          "model_module_version": "1.2.0",
          "state": {
            "_model_module": "@jupyter-widgets/base",
            "_model_module_version": "1.2.0",
            "_model_name": "LayoutModel",
            "_view_count": null,
            "_view_module": "@jupyter-widgets/base",
            "_view_module_version": "1.2.0",
            "_view_name": "LayoutView",
            "align_content": null,
            "align_items": null,
            "align_self": null,
            "border": null,
            "bottom": null,
            "display": null,
            "flex": null,
            "flex_flow": null,
            "grid_area": null,
            "grid_auto_columns": null,
            "grid_auto_flow": null,
            "grid_auto_rows": null,
            "grid_column": null,
            "grid_gap": null,
            "grid_row": null,
            "grid_template_areas": null,
            "grid_template_columns": null,
            "grid_template_rows": null,
            "height": null,
            "justify_content": null,
            "justify_items": null,
            "left": null,
            "margin": null,
            "max_height": null,
            "max_width": null,
            "min_height": null,
            "min_width": null,
            "object_fit": null,
            "object_position": null,
            "order": null,
            "overflow": null,
            "overflow_x": null,
            "overflow_y": null,
            "padding": null,
            "right": null,
            "top": null,
            "visibility": null,
            "width": null
          }
        },
        "3e2dc476bccc42f8920d4704348668a8": {
          "model_module": "@jupyter-widgets/base",
          "model_name": "LayoutModel",
          "model_module_version": "1.2.0",
          "state": {
            "_model_module": "@jupyter-widgets/base",
            "_model_module_version": "1.2.0",
            "_model_name": "LayoutModel",
            "_view_count": null,
            "_view_module": "@jupyter-widgets/base",
            "_view_module_version": "1.2.0",
            "_view_name": "LayoutView",
            "align_content": null,
            "align_items": null,
            "align_self": null,
            "border": null,
            "bottom": null,
            "display": null,
            "flex": null,
            "flex_flow": null,
            "grid_area": null,
            "grid_auto_columns": null,
            "grid_auto_flow": null,
            "grid_auto_rows": null,
            "grid_column": null,
            "grid_gap": null,
            "grid_row": null,
            "grid_template_areas": null,
            "grid_template_columns": null,
            "grid_template_rows": null,
            "height": null,
            "justify_content": null,
            "justify_items": null,
            "left": null,
            "margin": null,
            "max_height": null,
            "max_width": null,
            "min_height": null,
            "min_width": null,
            "object_fit": null,
            "object_position": null,
            "order": null,
            "overflow": null,
            "overflow_x": null,
            "overflow_y": null,
            "padding": null,
            "right": null,
            "top": null,
            "visibility": null,
            "width": null
          }
        },
        "1bc7674a3c614b9eb8b8de9a350792e4": {
          "model_module": "@jupyter-widgets/controls",
          "model_name": "DescriptionStyleModel",
          "model_module_version": "1.5.0",
          "state": {
            "_model_module": "@jupyter-widgets/controls",
            "_model_module_version": "1.5.0",
            "_model_name": "DescriptionStyleModel",
            "_view_count": null,
            "_view_module": "@jupyter-widgets/base",
            "_view_module_version": "1.2.0",
            "_view_name": "StyleView",
            "description_width": ""
          }
        },
        "9f0dd1cd5780452c9dfd27a398d1d0ff": {
          "model_module": "@jupyter-widgets/base",
          "model_name": "LayoutModel",
          "model_module_version": "1.2.0",
          "state": {
            "_model_module": "@jupyter-widgets/base",
            "_model_module_version": "1.2.0",
            "_model_name": "LayoutModel",
            "_view_count": null,
            "_view_module": "@jupyter-widgets/base",
            "_view_module_version": "1.2.0",
            "_view_name": "LayoutView",
            "align_content": null,
            "align_items": null,
            "align_self": null,
            "border": null,
            "bottom": null,
            "display": null,
            "flex": null,
            "flex_flow": null,
            "grid_area": null,
            "grid_auto_columns": null,
            "grid_auto_flow": null,
            "grid_auto_rows": null,
            "grid_column": null,
            "grid_gap": null,
            "grid_row": null,
            "grid_template_areas": null,
            "grid_template_columns": null,
            "grid_template_rows": null,
            "height": null,
            "justify_content": null,
            "justify_items": null,
            "left": null,
            "margin": null,
            "max_height": null,
            "max_width": null,
            "min_height": null,
            "min_width": null,
            "object_fit": null,
            "object_position": null,
            "order": null,
            "overflow": null,
            "overflow_x": null,
            "overflow_y": null,
            "padding": null,
            "right": null,
            "top": null,
            "visibility": null,
            "width": null
          }
        },
        "7e16c77e219440ada7216554d45b6601": {
          "model_module": "@jupyter-widgets/controls",
          "model_name": "ProgressStyleModel",
          "model_module_version": "1.5.0",
          "state": {
            "_model_module": "@jupyter-widgets/controls",
            "_model_module_version": "1.5.0",
            "_model_name": "ProgressStyleModel",
            "_view_count": null,
            "_view_module": "@jupyter-widgets/base",
            "_view_module_version": "1.2.0",
            "_view_name": "StyleView",
            "bar_color": null,
            "description_width": ""
          }
        },
        "c891d05a51eb4c4c9614a5ea6d508804": {
          "model_module": "@jupyter-widgets/base",
          "model_name": "LayoutModel",
          "model_module_version": "1.2.0",
          "state": {
            "_model_module": "@jupyter-widgets/base",
            "_model_module_version": "1.2.0",
            "_model_name": "LayoutModel",
            "_view_count": null,
            "_view_module": "@jupyter-widgets/base",
            "_view_module_version": "1.2.0",
            "_view_name": "LayoutView",
            "align_content": null,
            "align_items": null,
            "align_self": null,
            "border": null,
            "bottom": null,
            "display": null,
            "flex": null,
            "flex_flow": null,
            "grid_area": null,
            "grid_auto_columns": null,
            "grid_auto_flow": null,
            "grid_auto_rows": null,
            "grid_column": null,
            "grid_gap": null,
            "grid_row": null,
            "grid_template_areas": null,
            "grid_template_columns": null,
            "grid_template_rows": null,
            "height": null,
            "justify_content": null,
            "justify_items": null,
            "left": null,
            "margin": null,
            "max_height": null,
            "max_width": null,
            "min_height": null,
            "min_width": null,
            "object_fit": null,
            "object_position": null,
            "order": null,
            "overflow": null,
            "overflow_x": null,
            "overflow_y": null,
            "padding": null,
            "right": null,
            "top": null,
            "visibility": null,
            "width": null
          }
        },
        "14fd1355cbec46b18fc0c3013dde9de3": {
          "model_module": "@jupyter-widgets/controls",
          "model_name": "DescriptionStyleModel",
          "model_module_version": "1.5.0",
          "state": {
            "_model_module": "@jupyter-widgets/controls",
            "_model_module_version": "1.5.0",
            "_model_name": "DescriptionStyleModel",
            "_view_count": null,
            "_view_module": "@jupyter-widgets/base",
            "_view_module_version": "1.2.0",
            "_view_name": "StyleView",
            "description_width": ""
          }
        },
        "7fe58ba0672941ab816bb65207e8d67a": {
          "model_module": "@jupyter-widgets/controls",
          "model_name": "HBoxModel",
          "model_module_version": "1.5.0",
          "state": {
            "_dom_classes": [],
            "_model_module": "@jupyter-widgets/controls",
            "_model_module_version": "1.5.0",
            "_model_name": "HBoxModel",
            "_view_count": null,
            "_view_module": "@jupyter-widgets/controls",
            "_view_module_version": "1.5.0",
            "_view_name": "HBoxView",
            "box_style": "",
            "children": [
              "IPY_MODEL_6c296038b7e543c9bbdd68ade4928fb9",
              "IPY_MODEL_f6910a3095474b2cbbf5e3a125342bd9",
              "IPY_MODEL_c874c899ea154c049d231ceeaf719496"
            ],
            "layout": "IPY_MODEL_2e70ba55280c43b29419487f7e4a13e4"
          }
        },
        "6c296038b7e543c9bbdd68ade4928fb9": {
          "model_module": "@jupyter-widgets/controls",
          "model_name": "HTMLModel",
          "model_module_version": "1.5.0",
          "state": {
            "_dom_classes": [],
            "_model_module": "@jupyter-widgets/controls",
            "_model_module_version": "1.5.0",
            "_model_name": "HTMLModel",
            "_view_count": null,
            "_view_module": "@jupyter-widgets/controls",
            "_view_module_version": "1.5.0",
            "_view_name": "HTMLView",
            "description": "",
            "description_tooltip": null,
            "layout": "IPY_MODEL_105a81fdaeeb4a00ac30ff33024aac21",
            "placeholder": "​",
            "style": "IPY_MODEL_6a135763fb48458e8108d69877b2a9e1",
            "value": "processor_config.json: 100%"
          }
        },
        "f6910a3095474b2cbbf5e3a125342bd9": {
          "model_module": "@jupyter-widgets/controls",
          "model_name": "FloatProgressModel",
          "model_module_version": "1.5.0",
          "state": {
            "_dom_classes": [],
            "_model_module": "@jupyter-widgets/controls",
            "_model_module_version": "1.5.0",
            "_model_name": "FloatProgressModel",
            "_view_count": null,
            "_view_module": "@jupyter-widgets/controls",
            "_view_module_version": "1.5.0",
            "_view_name": "ProgressView",
            "bar_style": "success",
            "description": "",
            "description_tooltip": null,
            "layout": "IPY_MODEL_c75be6e37f354dc9bd1196074ee478b6",
            "max": 70,
            "min": 0,
            "orientation": "horizontal",
            "style": "IPY_MODEL_e86a3f229ab84780ac4a232224ec9294",
            "value": 70
          }
        },
        "c874c899ea154c049d231ceeaf719496": {
          "model_module": "@jupyter-widgets/controls",
          "model_name": "HTMLModel",
          "model_module_version": "1.5.0",
          "state": {
            "_dom_classes": [],
            "_model_module": "@jupyter-widgets/controls",
            "_model_module_version": "1.5.0",
            "_model_name": "HTMLModel",
            "_view_count": null,
            "_view_module": "@jupyter-widgets/controls",
            "_view_module_version": "1.5.0",
            "_view_name": "HTMLView",
            "description": "",
            "description_tooltip": null,
            "layout": "IPY_MODEL_00894c4a86ad4e39ad7163cac81b48df",
            "placeholder": "​",
            "style": "IPY_MODEL_75f6c4af08ee4d19b40f8b1d8bf6791d",
            "value": " 70.0/70.0 [00:00&lt;00:00, 4.81kB/s]"
          }
        },
        "2e70ba55280c43b29419487f7e4a13e4": {
          "model_module": "@jupyter-widgets/base",
          "model_name": "LayoutModel",
          "model_module_version": "1.2.0",
          "state": {
            "_model_module": "@jupyter-widgets/base",
            "_model_module_version": "1.2.0",
            "_model_name": "LayoutModel",
            "_view_count": null,
            "_view_module": "@jupyter-widgets/base",
            "_view_module_version": "1.2.0",
            "_view_name": "LayoutView",
            "align_content": null,
            "align_items": null,
            "align_self": null,
            "border": null,
            "bottom": null,
            "display": null,
            "flex": null,
            "flex_flow": null,
            "grid_area": null,
            "grid_auto_columns": null,
            "grid_auto_flow": null,
            "grid_auto_rows": null,
            "grid_column": null,
            "grid_gap": null,
            "grid_row": null,
            "grid_template_areas": null,
            "grid_template_columns": null,
            "grid_template_rows": null,
            "height": null,
            "justify_content": null,
            "justify_items": null,
            "left": null,
            "margin": null,
            "max_height": null,
            "max_width": null,
            "min_height": null,
            "min_width": null,
            "object_fit": null,
            "object_position": null,
            "order": null,
            "overflow": null,
            "overflow_x": null,
            "overflow_y": null,
            "padding": null,
            "right": null,
            "top": null,
            "visibility": null,
            "width": null
          }
        },
        "105a81fdaeeb4a00ac30ff33024aac21": {
          "model_module": "@jupyter-widgets/base",
          "model_name": "LayoutModel",
          "model_module_version": "1.2.0",
          "state": {
            "_model_module": "@jupyter-widgets/base",
            "_model_module_version": "1.2.0",
            "_model_name": "LayoutModel",
            "_view_count": null,
            "_view_module": "@jupyter-widgets/base",
            "_view_module_version": "1.2.0",
            "_view_name": "LayoutView",
            "align_content": null,
            "align_items": null,
            "align_self": null,
            "border": null,
            "bottom": null,
            "display": null,
            "flex": null,
            "flex_flow": null,
            "grid_area": null,
            "grid_auto_columns": null,
            "grid_auto_flow": null,
            "grid_auto_rows": null,
            "grid_column": null,
            "grid_gap": null,
            "grid_row": null,
            "grid_template_areas": null,
            "grid_template_columns": null,
            "grid_template_rows": null,
            "height": null,
            "justify_content": null,
            "justify_items": null,
            "left": null,
            "margin": null,
            "max_height": null,
            "max_width": null,
            "min_height": null,
            "min_width": null,
            "object_fit": null,
            "object_position": null,
            "order": null,
            "overflow": null,
            "overflow_x": null,
            "overflow_y": null,
            "padding": null,
            "right": null,
            "top": null,
            "visibility": null,
            "width": null
          }
        },
        "6a135763fb48458e8108d69877b2a9e1": {
          "model_module": "@jupyter-widgets/controls",
          "model_name": "DescriptionStyleModel",
          "model_module_version": "1.5.0",
          "state": {
            "_model_module": "@jupyter-widgets/controls",
            "_model_module_version": "1.5.0",
            "_model_name": "DescriptionStyleModel",
            "_view_count": null,
            "_view_module": "@jupyter-widgets/base",
            "_view_module_version": "1.2.0",
            "_view_name": "StyleView",
            "description_width": ""
          }
        },
        "c75be6e37f354dc9bd1196074ee478b6": {
          "model_module": "@jupyter-widgets/base",
          "model_name": "LayoutModel",
          "model_module_version": "1.2.0",
          "state": {
            "_model_module": "@jupyter-widgets/base",
            "_model_module_version": "1.2.0",
            "_model_name": "LayoutModel",
            "_view_count": null,
            "_view_module": "@jupyter-widgets/base",
            "_view_module_version": "1.2.0",
            "_view_name": "LayoutView",
            "align_content": null,
            "align_items": null,
            "align_self": null,
            "border": null,
            "bottom": null,
            "display": null,
            "flex": null,
            "flex_flow": null,
            "grid_area": null,
            "grid_auto_columns": null,
            "grid_auto_flow": null,
            "grid_auto_rows": null,
            "grid_column": null,
            "grid_gap": null,
            "grid_row": null,
            "grid_template_areas": null,
            "grid_template_columns": null,
            "grid_template_rows": null,
            "height": null,
            "justify_content": null,
            "justify_items": null,
            "left": null,
            "margin": null,
            "max_height": null,
            "max_width": null,
            "min_height": null,
            "min_width": null,
            "object_fit": null,
            "object_position": null,
            "order": null,
            "overflow": null,
            "overflow_x": null,
            "overflow_y": null,
            "padding": null,
            "right": null,
            "top": null,
            "visibility": null,
            "width": null
          }
        },
        "e86a3f229ab84780ac4a232224ec9294": {
          "model_module": "@jupyter-widgets/controls",
          "model_name": "ProgressStyleModel",
          "model_module_version": "1.5.0",
          "state": {
            "_model_module": "@jupyter-widgets/controls",
            "_model_module_version": "1.5.0",
            "_model_name": "ProgressStyleModel",
            "_view_count": null,
            "_view_module": "@jupyter-widgets/base",
            "_view_module_version": "1.2.0",
            "_view_name": "StyleView",
            "bar_color": null,
            "description_width": ""
          }
        },
        "00894c4a86ad4e39ad7163cac81b48df": {
          "model_module": "@jupyter-widgets/base",
          "model_name": "LayoutModel",
          "model_module_version": "1.2.0",
          "state": {
            "_model_module": "@jupyter-widgets/base",
            "_model_module_version": "1.2.0",
            "_model_name": "LayoutModel",
            "_view_count": null,
            "_view_module": "@jupyter-widgets/base",
            "_view_module_version": "1.2.0",
            "_view_name": "LayoutView",
            "align_content": null,
            "align_items": null,
            "align_self": null,
            "border": null,
            "bottom": null,
            "display": null,
            "flex": null,
            "flex_flow": null,
            "grid_area": null,
            "grid_auto_columns": null,
            "grid_auto_flow": null,
            "grid_auto_rows": null,
            "grid_column": null,
            "grid_gap": null,
            "grid_row": null,
            "grid_template_areas": null,
            "grid_template_columns": null,
            "grid_template_rows": null,
            "height": null,
            "justify_content": null,
            "justify_items": null,
            "left": null,
            "margin": null,
            "max_height": null,
            "max_width": null,
            "min_height": null,
            "min_width": null,
            "object_fit": null,
            "object_position": null,
            "order": null,
            "overflow": null,
            "overflow_x": null,
            "overflow_y": null,
            "padding": null,
            "right": null,
            "top": null,
            "visibility": null,
            "width": null
          }
        },
        "75f6c4af08ee4d19b40f8b1d8bf6791d": {
          "model_module": "@jupyter-widgets/controls",
          "model_name": "DescriptionStyleModel",
          "model_module_version": "1.5.0",
          "state": {
            "_model_module": "@jupyter-widgets/controls",
            "_model_module_version": "1.5.0",
            "_model_name": "DescriptionStyleModel",
            "_view_count": null,
            "_view_module": "@jupyter-widgets/base",
            "_view_module_version": "1.2.0",
            "_view_name": "StyleView",
            "description_width": ""
          }
        },
        "26192d243c264b7a874a11b9b9324b79": {
          "model_module": "@jupyter-widgets/controls",
          "model_name": "HBoxModel",
          "model_module_version": "1.5.0",
          "state": {
            "_dom_classes": [],
            "_model_module": "@jupyter-widgets/controls",
            "_model_module_version": "1.5.0",
            "_model_name": "HBoxModel",
            "_view_count": null,
            "_view_module": "@jupyter-widgets/controls",
            "_view_module_version": "1.5.0",
            "_view_name": "HBoxView",
            "box_style": "",
            "children": [
              "IPY_MODEL_79407b39eac440378a5f88fe15793c64",
              "IPY_MODEL_ed6bdc0d757c491c9301971c16a544ee",
              "IPY_MODEL_0f255376177842e3926e0629e32fa5b4"
            ],
            "layout": "IPY_MODEL_5da70da5a35a4a17a03975bcbeeee9d8"
          }
        },
        "79407b39eac440378a5f88fe15793c64": {
          "model_module": "@jupyter-widgets/controls",
          "model_name": "HTMLModel",
          "model_module_version": "1.5.0",
          "state": {
            "_dom_classes": [],
            "_model_module": "@jupyter-widgets/controls",
            "_model_module_version": "1.5.0",
            "_model_name": "HTMLModel",
            "_view_count": null,
            "_view_module": "@jupyter-widgets/controls",
            "_view_module_version": "1.5.0",
            "_view_name": "HTMLView",
            "description": "",
            "description_tooltip": null,
            "layout": "IPY_MODEL_8d703356fa0a45d8a5651f19f52a3e1a",
            "placeholder": "​",
            "style": "IPY_MODEL_16606a69b6a4460cbeedbff5a2ceb962",
            "value": "chat_template.json: 100%"
          }
        },
        "ed6bdc0d757c491c9301971c16a544ee": {
          "model_module": "@jupyter-widgets/controls",
          "model_name": "FloatProgressModel",
          "model_module_version": "1.5.0",
          "state": {
            "_dom_classes": [],
            "_model_module": "@jupyter-widgets/controls",
            "_model_module_version": "1.5.0",
            "_model_name": "FloatProgressModel",
            "_view_count": null,
            "_view_module": "@jupyter-widgets/controls",
            "_view_module_version": "1.5.0",
            "_view_name": "ProgressView",
            "bar_style": "success",
            "description": "",
            "description_tooltip": null,
            "layout": "IPY_MODEL_38af1bae8a3b42b18be1941f523484fd",
            "max": 1615,
            "min": 0,
            "orientation": "horizontal",
            "style": "IPY_MODEL_73d73577718d4c4c92bbeaf88f525e76",
            "value": 1615
          }
        },
        "0f255376177842e3926e0629e32fa5b4": {
          "model_module": "@jupyter-widgets/controls",
          "model_name": "HTMLModel",
          "model_module_version": "1.5.0",
          "state": {
            "_dom_classes": [],
            "_model_module": "@jupyter-widgets/controls",
            "_model_module_version": "1.5.0",
            "_model_name": "HTMLModel",
            "_view_count": null,
            "_view_module": "@jupyter-widgets/controls",
            "_view_module_version": "1.5.0",
            "_view_name": "HTMLView",
            "description": "",
            "description_tooltip": null,
            "layout": "IPY_MODEL_82e5721147ff4f87b42f8ac54dcfbf40",
            "placeholder": "​",
            "style": "IPY_MODEL_e0b9bd02bd2d4e27b9e875b56824c3f4",
            "value": " 1.61k/1.61k [00:00&lt;00:00, 115kB/s]"
          }
        },
        "5da70da5a35a4a17a03975bcbeeee9d8": {
          "model_module": "@jupyter-widgets/base",
          "model_name": "LayoutModel",
          "model_module_version": "1.2.0",
          "state": {
            "_model_module": "@jupyter-widgets/base",
            "_model_module_version": "1.2.0",
            "_model_name": "LayoutModel",
            "_view_count": null,
            "_view_module": "@jupyter-widgets/base",
            "_view_module_version": "1.2.0",
            "_view_name": "LayoutView",
            "align_content": null,
            "align_items": null,
            "align_self": null,
            "border": null,
            "bottom": null,
            "display": null,
            "flex": null,
            "flex_flow": null,
            "grid_area": null,
            "grid_auto_columns": null,
            "grid_auto_flow": null,
            "grid_auto_rows": null,
            "grid_column": null,
            "grid_gap": null,
            "grid_row": null,
            "grid_template_areas": null,
            "grid_template_columns": null,
            "grid_template_rows": null,
            "height": null,
            "justify_content": null,
            "justify_items": null,
            "left": null,
            "margin": null,
            "max_height": null,
            "max_width": null,
            "min_height": null,
            "min_width": null,
            "object_fit": null,
            "object_position": null,
            "order": null,
            "overflow": null,
            "overflow_x": null,
            "overflow_y": null,
            "padding": null,
            "right": null,
            "top": null,
            "visibility": null,
            "width": null
          }
        },
        "8d703356fa0a45d8a5651f19f52a3e1a": {
          "model_module": "@jupyter-widgets/base",
          "model_name": "LayoutModel",
          "model_module_version": "1.2.0",
          "state": {
            "_model_module": "@jupyter-widgets/base",
            "_model_module_version": "1.2.0",
            "_model_name": "LayoutModel",
            "_view_count": null,
            "_view_module": "@jupyter-widgets/base",
            "_view_module_version": "1.2.0",
            "_view_name": "LayoutView",
            "align_content": null,
            "align_items": null,
            "align_self": null,
            "border": null,
            "bottom": null,
            "display": null,
            "flex": null,
            "flex_flow": null,
            "grid_area": null,
            "grid_auto_columns": null,
            "grid_auto_flow": null,
            "grid_auto_rows": null,
            "grid_column": null,
            "grid_gap": null,
            "grid_row": null,
            "grid_template_areas": null,
            "grid_template_columns": null,
            "grid_template_rows": null,
            "height": null,
            "justify_content": null,
            "justify_items": null,
            "left": null,
            "margin": null,
            "max_height": null,
            "max_width": null,
            "min_height": null,
            "min_width": null,
            "object_fit": null,
            "object_position": null,
            "order": null,
            "overflow": null,
            "overflow_x": null,
            "overflow_y": null,
            "padding": null,
            "right": null,
            "top": null,
            "visibility": null,
            "width": null
          }
        },
        "16606a69b6a4460cbeedbff5a2ceb962": {
          "model_module": "@jupyter-widgets/controls",
          "model_name": "DescriptionStyleModel",
          "model_module_version": "1.5.0",
          "state": {
            "_model_module": "@jupyter-widgets/controls",
            "_model_module_version": "1.5.0",
            "_model_name": "DescriptionStyleModel",
            "_view_count": null,
            "_view_module": "@jupyter-widgets/base",
            "_view_module_version": "1.2.0",
            "_view_name": "StyleView",
            "description_width": ""
          }
        },
        "38af1bae8a3b42b18be1941f523484fd": {
          "model_module": "@jupyter-widgets/base",
          "model_name": "LayoutModel",
          "model_module_version": "1.2.0",
          "state": {
            "_model_module": "@jupyter-widgets/base",
            "_model_module_version": "1.2.0",
            "_model_name": "LayoutModel",
            "_view_count": null,
            "_view_module": "@jupyter-widgets/base",
            "_view_module_version": "1.2.0",
            "_view_name": "LayoutView",
            "align_content": null,
            "align_items": null,
            "align_self": null,
            "border": null,
            "bottom": null,
            "display": null,
            "flex": null,
            "flex_flow": null,
            "grid_area": null,
            "grid_auto_columns": null,
            "grid_auto_flow": null,
            "grid_auto_rows": null,
            "grid_column": null,
            "grid_gap": null,
            "grid_row": null,
            "grid_template_areas": null,
            "grid_template_columns": null,
            "grid_template_rows": null,
            "height": null,
            "justify_content": null,
            "justify_items": null,
            "left": null,
            "margin": null,
            "max_height": null,
            "max_width": null,
            "min_height": null,
            "min_width": null,
            "object_fit": null,
            "object_position": null,
            "order": null,
            "overflow": null,
            "overflow_x": null,
            "overflow_y": null,
            "padding": null,
            "right": null,
            "top": null,
            "visibility": null,
            "width": null
          }
        },
        "73d73577718d4c4c92bbeaf88f525e76": {
          "model_module": "@jupyter-widgets/controls",
          "model_name": "ProgressStyleModel",
          "model_module_version": "1.5.0",
          "state": {
            "_model_module": "@jupyter-widgets/controls",
            "_model_module_version": "1.5.0",
            "_model_name": "ProgressStyleModel",
            "_view_count": null,
            "_view_module": "@jupyter-widgets/base",
            "_view_module_version": "1.2.0",
            "_view_name": "StyleView",
            "bar_color": null,
            "description_width": ""
          }
        },
        "82e5721147ff4f87b42f8ac54dcfbf40": {
          "model_module": "@jupyter-widgets/base",
          "model_name": "LayoutModel",
          "model_module_version": "1.2.0",
          "state": {
            "_model_module": "@jupyter-widgets/base",
            "_model_module_version": "1.2.0",
            "_model_name": "LayoutModel",
            "_view_count": null,
            "_view_module": "@jupyter-widgets/base",
            "_view_module_version": "1.2.0",
            "_view_name": "LayoutView",
            "align_content": null,
            "align_items": null,
            "align_self": null,
            "border": null,
            "bottom": null,
            "display": null,
            "flex": null,
            "flex_flow": null,
            "grid_area": null,
            "grid_auto_columns": null,
            "grid_auto_flow": null,
            "grid_auto_rows": null,
            "grid_column": null,
            "grid_gap": null,
            "grid_row": null,
            "grid_template_areas": null,
            "grid_template_columns": null,
            "grid_template_rows": null,
            "height": null,
            "justify_content": null,
            "justify_items": null,
            "left": null,
            "margin": null,
            "max_height": null,
            "max_width": null,
            "min_height": null,
            "min_width": null,
            "object_fit": null,
            "object_position": null,
            "order": null,
            "overflow": null,
            "overflow_x": null,
            "overflow_y": null,
            "padding": null,
            "right": null,
            "top": null,
            "visibility": null,
            "width": null
          }
        },
        "e0b9bd02bd2d4e27b9e875b56824c3f4": {
          "model_module": "@jupyter-widgets/controls",
          "model_name": "DescriptionStyleModel",
          "model_module_version": "1.5.0",
          "state": {
            "_model_module": "@jupyter-widgets/controls",
            "_model_module_version": "1.5.0",
            "_model_name": "DescriptionStyleModel",
            "_view_count": null,
            "_view_module": "@jupyter-widgets/base",
            "_view_module_version": "1.2.0",
            "_view_name": "StyleView",
            "description_width": ""
          }
        },
        "8cca9db7e90742ebacd9c6a41f735dd0": {
          "model_module": "@jupyter-widgets/controls",
          "model_name": "HBoxModel",
          "model_module_version": "1.5.0",
          "state": {
            "_dom_classes": [],
            "_model_module": "@jupyter-widgets/controls",
            "_model_module_version": "1.5.0",
            "_model_name": "HBoxModel",
            "_view_count": null,
            "_view_module": "@jupyter-widgets/controls",
            "_view_module_version": "1.5.0",
            "_view_name": "HBoxView",
            "box_style": "",
            "children": [
              "IPY_MODEL_9a1cf41f980141b5a91cbeefab85b7aa",
              "IPY_MODEL_d44d278ee6154d9fb6ce40d598799011",
              "IPY_MODEL_366b971bddf74983be1646af21dd2543"
            ],
            "layout": "IPY_MODEL_12f44331544f41f3a16c1a9894e9d1e4"
          }
        },
        "9a1cf41f980141b5a91cbeefab85b7aa": {
          "model_module": "@jupyter-widgets/controls",
          "model_name": "HTMLModel",
          "model_module_version": "1.5.0",
          "state": {
            "_dom_classes": [],
            "_model_module": "@jupyter-widgets/controls",
            "_model_module_version": "1.5.0",
            "_model_name": "HTMLModel",
            "_view_count": null,
            "_view_module": "@jupyter-widgets/controls",
            "_view_module_version": "1.5.0",
            "_view_name": "HTMLView",
            "description": "",
            "description_tooltip": null,
            "layout": "IPY_MODEL_39118ed4978b4222b4c2da8c4281cd80",
            "placeholder": "​",
            "style": "IPY_MODEL_73e4e91ad19f449d95f6cb83ce3f01b6",
            "value": "chat_template.jinja: 100%"
          }
        },
        "d44d278ee6154d9fb6ce40d598799011": {
          "model_module": "@jupyter-widgets/controls",
          "model_name": "FloatProgressModel",
          "model_module_version": "1.5.0",
          "state": {
            "_dom_classes": [],
            "_model_module": "@jupyter-widgets/controls",
            "_model_module_version": "1.5.0",
            "_model_name": "FloatProgressModel",
            "_view_count": null,
            "_view_module": "@jupyter-widgets/controls",
            "_view_module_version": "1.5.0",
            "_view_name": "ProgressView",
            "bar_style": "success",
            "description": "",
            "description_tooltip": null,
            "layout": "IPY_MODEL_efa513cf9f364a9eb0ba32a43fe87e22",
            "max": 1532,
            "min": 0,
            "orientation": "horizontal",
            "style": "IPY_MODEL_56b9c7bd1886432180081209e68e62db",
            "value": 1532
          }
        },
        "366b971bddf74983be1646af21dd2543": {
          "model_module": "@jupyter-widgets/controls",
          "model_name": "HTMLModel",
          "model_module_version": "1.5.0",
          "state": {
            "_dom_classes": [],
            "_model_module": "@jupyter-widgets/controls",
            "_model_module_version": "1.5.0",
            "_model_name": "HTMLModel",
            "_view_count": null,
            "_view_module": "@jupyter-widgets/controls",
            "_view_module_version": "1.5.0",
            "_view_name": "HTMLView",
            "description": "",
            "description_tooltip": null,
            "layout": "IPY_MODEL_e6f6945f05db46abae208804ab7085bd",
            "placeholder": "​",
            "style": "IPY_MODEL_facc53acf0c4401c9e800edecda58bd0",
            "value": " 1.53k/1.53k [00:00&lt;00:00, 100kB/s]"
          }
        },
        "12f44331544f41f3a16c1a9894e9d1e4": {
          "model_module": "@jupyter-widgets/base",
          "model_name": "LayoutModel",
          "model_module_version": "1.2.0",
          "state": {
            "_model_module": "@jupyter-widgets/base",
            "_model_module_version": "1.2.0",
            "_model_name": "LayoutModel",
            "_view_count": null,
            "_view_module": "@jupyter-widgets/base",
            "_view_module_version": "1.2.0",
            "_view_name": "LayoutView",
            "align_content": null,
            "align_items": null,
            "align_self": null,
            "border": null,
            "bottom": null,
            "display": null,
            "flex": null,
            "flex_flow": null,
            "grid_area": null,
            "grid_auto_columns": null,
            "grid_auto_flow": null,
            "grid_auto_rows": null,
            "grid_column": null,
            "grid_gap": null,
            "grid_row": null,
            "grid_template_areas": null,
            "grid_template_columns": null,
            "grid_template_rows": null,
            "height": null,
            "justify_content": null,
            "justify_items": null,
            "left": null,
            "margin": null,
            "max_height": null,
            "max_width": null,
            "min_height": null,
            "min_width": null,
            "object_fit": null,
            "object_position": null,
            "order": null,
            "overflow": null,
            "overflow_x": null,
            "overflow_y": null,
            "padding": null,
            "right": null,
            "top": null,
            "visibility": null,
            "width": null
          }
        },
        "39118ed4978b4222b4c2da8c4281cd80": {
          "model_module": "@jupyter-widgets/base",
          "model_name": "LayoutModel",
          "model_module_version": "1.2.0",
          "state": {
            "_model_module": "@jupyter-widgets/base",
            "_model_module_version": "1.2.0",
            "_model_name": "LayoutModel",
            "_view_count": null,
            "_view_module": "@jupyter-widgets/base",
            "_view_module_version": "1.2.0",
            "_view_name": "LayoutView",
            "align_content": null,
            "align_items": null,
            "align_self": null,
            "border": null,
            "bottom": null,
            "display": null,
            "flex": null,
            "flex_flow": null,
            "grid_area": null,
            "grid_auto_columns": null,
            "grid_auto_flow": null,
            "grid_auto_rows": null,
            "grid_column": null,
            "grid_gap": null,
            "grid_row": null,
            "grid_template_areas": null,
            "grid_template_columns": null,
            "grid_template_rows": null,
            "height": null,
            "justify_content": null,
            "justify_items": null,
            "left": null,
            "margin": null,
            "max_height": null,
            "max_width": null,
            "min_height": null,
            "min_width": null,
            "object_fit": null,
            "object_position": null,
            "order": null,
            "overflow": null,
            "overflow_x": null,
            "overflow_y": null,
            "padding": null,
            "right": null,
            "top": null,
            "visibility": null,
            "width": null
          }
        },
        "73e4e91ad19f449d95f6cb83ce3f01b6": {
          "model_module": "@jupyter-widgets/controls",
          "model_name": "DescriptionStyleModel",
          "model_module_version": "1.5.0",
          "state": {
            "_model_module": "@jupyter-widgets/controls",
            "_model_module_version": "1.5.0",
            "_model_name": "DescriptionStyleModel",
            "_view_count": null,
            "_view_module": "@jupyter-widgets/base",
            "_view_module_version": "1.2.0",
            "_view_name": "StyleView",
            "description_width": ""
          }
        },
        "efa513cf9f364a9eb0ba32a43fe87e22": {
          "model_module": "@jupyter-widgets/base",
          "model_name": "LayoutModel",
          "model_module_version": "1.2.0",
          "state": {
            "_model_module": "@jupyter-widgets/base",
            "_model_module_version": "1.2.0",
            "_model_name": "LayoutModel",
            "_view_count": null,
            "_view_module": "@jupyter-widgets/base",
            "_view_module_version": "1.2.0",
            "_view_name": "LayoutView",
            "align_content": null,
            "align_items": null,
            "align_self": null,
            "border": null,
            "bottom": null,
            "display": null,
            "flex": null,
            "flex_flow": null,
            "grid_area": null,
            "grid_auto_columns": null,
            "grid_auto_flow": null,
            "grid_auto_rows": null,
            "grid_column": null,
            "grid_gap": null,
            "grid_row": null,
            "grid_template_areas": null,
            "grid_template_columns": null,
            "grid_template_rows": null,
            "height": null,
            "justify_content": null,
            "justify_items": null,
            "left": null,
            "margin": null,
            "max_height": null,
            "max_width": null,
            "min_height": null,
            "min_width": null,
            "object_fit": null,
            "object_position": null,
            "order": null,
            "overflow": null,
            "overflow_x": null,
            "overflow_y": null,
            "padding": null,
            "right": null,
            "top": null,
            "visibility": null,
            "width": null
          }
        },
        "56b9c7bd1886432180081209e68e62db": {
          "model_module": "@jupyter-widgets/controls",
          "model_name": "ProgressStyleModel",
          "model_module_version": "1.5.0",
          "state": {
            "_model_module": "@jupyter-widgets/controls",
            "_model_module_version": "1.5.0",
            "_model_name": "ProgressStyleModel",
            "_view_count": null,
            "_view_module": "@jupyter-widgets/base",
            "_view_module_version": "1.2.0",
            "_view_name": "StyleView",
            "bar_color": null,
            "description_width": ""
          }
        },
        "e6f6945f05db46abae208804ab7085bd": {
          "model_module": "@jupyter-widgets/base",
          "model_name": "LayoutModel",
          "model_module_version": "1.2.0",
          "state": {
            "_model_module": "@jupyter-widgets/base",
            "_model_module_version": "1.2.0",
            "_model_name": "LayoutModel",
            "_view_count": null,
            "_view_module": "@jupyter-widgets/base",
            "_view_module_version": "1.2.0",
            "_view_name": "LayoutView",
            "align_content": null,
            "align_items": null,
            "align_self": null,
            "border": null,
            "bottom": null,
            "display": null,
            "flex": null,
            "flex_flow": null,
            "grid_area": null,
            "grid_auto_columns": null,
            "grid_auto_flow": null,
            "grid_auto_rows": null,
            "grid_column": null,
            "grid_gap": null,
            "grid_row": null,
            "grid_template_areas": null,
            "grid_template_columns": null,
            "grid_template_rows": null,
            "height": null,
            "justify_content": null,
            "justify_items": null,
            "left": null,
            "margin": null,
            "max_height": null,
            "max_width": null,
            "min_height": null,
            "min_width": null,
            "object_fit": null,
            "object_position": null,
            "order": null,
            "overflow": null,
            "overflow_x": null,
            "overflow_y": null,
            "padding": null,
            "right": null,
            "top": null,
            "visibility": null,
            "width": null
          }
        },
        "facc53acf0c4401c9e800edecda58bd0": {
          "model_module": "@jupyter-widgets/controls",
          "model_name": "DescriptionStyleModel",
          "model_module_version": "1.5.0",
          "state": {
            "_model_module": "@jupyter-widgets/controls",
            "_model_module_version": "1.5.0",
            "_model_name": "DescriptionStyleModel",
            "_view_count": null,
            "_view_module": "@jupyter-widgets/base",
            "_view_module_version": "1.2.0",
            "_view_name": "StyleView",
            "description_width": ""
          }
        },
        "c43a30565a4643d5982ed3ec1879f0d4": {
          "model_module": "@jupyter-widgets/controls",
          "model_name": "HBoxModel",
          "model_module_version": "1.5.0",
          "state": {
            "_dom_classes": [],
            "_model_module": "@jupyter-widgets/controls",
            "_model_module_version": "1.5.0",
            "_model_name": "HBoxModel",
            "_view_count": null,
            "_view_module": "@jupyter-widgets/controls",
            "_view_module_version": "1.5.0",
            "_view_name": "HBoxView",
            "box_style": "",
            "children": [
              "IPY_MODEL_a517cd0ae1a146b3aad48ca603e26826",
              "IPY_MODEL_fb66c6ab89474265aca1b53ddda3c066",
              "IPY_MODEL_cc1075fe1fb540ba9c2b392807eb5832"
            ],
            "layout": "IPY_MODEL_d916e6482b294d6a94e07ad42e35382c"
          }
        },
        "a517cd0ae1a146b3aad48ca603e26826": {
          "model_module": "@jupyter-widgets/controls",
          "model_name": "HTMLModel",
          "model_module_version": "1.5.0",
          "state": {
            "_dom_classes": [],
            "_model_module": "@jupyter-widgets/controls",
            "_model_module_version": "1.5.0",
            "_model_name": "HTMLModel",
            "_view_count": null,
            "_view_module": "@jupyter-widgets/controls",
            "_view_module_version": "1.5.0",
            "_view_name": "HTMLView",
            "description": "",
            "description_tooltip": null,
            "layout": "IPY_MODEL_72f8a32b2f1640c7982a2e32916578da",
            "placeholder": "​",
            "style": "IPY_MODEL_ac83940bb0674603b647eb5fe23afa01",
            "value": "preprocessor_config.json: 100%"
          }
        },
        "fb66c6ab89474265aca1b53ddda3c066": {
          "model_module": "@jupyter-widgets/controls",
          "model_name": "FloatProgressModel",
          "model_module_version": "1.5.0",
          "state": {
            "_dom_classes": [],
            "_model_module": "@jupyter-widgets/controls",
            "_model_module_version": "1.5.0",
            "_model_name": "FloatProgressModel",
            "_view_count": null,
            "_view_module": "@jupyter-widgets/controls",
            "_view_module_version": "1.5.0",
            "_view_name": "ProgressView",
            "bar_style": "success",
            "description": "",
            "description_tooltip": null,
            "layout": "IPY_MODEL_043bfe0db90f44109bdbb1b6db0d5cc7",
            "max": 570,
            "min": 0,
            "orientation": "horizontal",
            "style": "IPY_MODEL_1f79ceeccab9422a87d0857ca8adeaa3",
            "value": 570
          }
        },
        "cc1075fe1fb540ba9c2b392807eb5832": {
          "model_module": "@jupyter-widgets/controls",
          "model_name": "HTMLModel",
          "model_module_version": "1.5.0",
          "state": {
            "_dom_classes": [],
            "_model_module": "@jupyter-widgets/controls",
            "_model_module_version": "1.5.0",
            "_model_name": "HTMLModel",
            "_view_count": null,
            "_view_module": "@jupyter-widgets/controls",
            "_view_module_version": "1.5.0",
            "_view_name": "HTMLView",
            "description": "",
            "description_tooltip": null,
            "layout": "IPY_MODEL_9cad559fdef74288adf327436bbb6324",
            "placeholder": "​",
            "style": "IPY_MODEL_228b7d0bc4064e17a1786ad7939c08cd",
            "value": " 570/570 [00:00&lt;00:00, 54.9kB/s]"
          }
        },
        "d916e6482b294d6a94e07ad42e35382c": {
          "model_module": "@jupyter-widgets/base",
          "model_name": "LayoutModel",
          "model_module_version": "1.2.0",
          "state": {
            "_model_module": "@jupyter-widgets/base",
            "_model_module_version": "1.2.0",
            "_model_name": "LayoutModel",
            "_view_count": null,
            "_view_module": "@jupyter-widgets/base",
            "_view_module_version": "1.2.0",
            "_view_name": "LayoutView",
            "align_content": null,
            "align_items": null,
            "align_self": null,
            "border": null,
            "bottom": null,
            "display": null,
            "flex": null,
            "flex_flow": null,
            "grid_area": null,
            "grid_auto_columns": null,
            "grid_auto_flow": null,
            "grid_auto_rows": null,
            "grid_column": null,
            "grid_gap": null,
            "grid_row": null,
            "grid_template_areas": null,
            "grid_template_columns": null,
            "grid_template_rows": null,
            "height": null,
            "justify_content": null,
            "justify_items": null,
            "left": null,
            "margin": null,
            "max_height": null,
            "max_width": null,
            "min_height": null,
            "min_width": null,
            "object_fit": null,
            "object_position": null,
            "order": null,
            "overflow": null,
            "overflow_x": null,
            "overflow_y": null,
            "padding": null,
            "right": null,
            "top": null,
            "visibility": null,
            "width": null
          }
        },
        "72f8a32b2f1640c7982a2e32916578da": {
          "model_module": "@jupyter-widgets/base",
          "model_name": "LayoutModel",
          "model_module_version": "1.2.0",
          "state": {
            "_model_module": "@jupyter-widgets/base",
            "_model_module_version": "1.2.0",
            "_model_name": "LayoutModel",
            "_view_count": null,
            "_view_module": "@jupyter-widgets/base",
            "_view_module_version": "1.2.0",
            "_view_name": "LayoutView",
            "align_content": null,
            "align_items": null,
            "align_self": null,
            "border": null,
            "bottom": null,
            "display": null,
            "flex": null,
            "flex_flow": null,
            "grid_area": null,
            "grid_auto_columns": null,
            "grid_auto_flow": null,
            "grid_auto_rows": null,
            "grid_column": null,
            "grid_gap": null,
            "grid_row": null,
            "grid_template_areas": null,
            "grid_template_columns": null,
            "grid_template_rows": null,
            "height": null,
            "justify_content": null,
            "justify_items": null,
            "left": null,
            "margin": null,
            "max_height": null,
            "max_width": null,
            "min_height": null,
            "min_width": null,
            "object_fit": null,
            "object_position": null,
            "order": null,
            "overflow": null,
            "overflow_x": null,
            "overflow_y": null,
            "padding": null,
            "right": null,
            "top": null,
            "visibility": null,
            "width": null
          }
        },
        "ac83940bb0674603b647eb5fe23afa01": {
          "model_module": "@jupyter-widgets/controls",
          "model_name": "DescriptionStyleModel",
          "model_module_version": "1.5.0",
          "state": {
            "_model_module": "@jupyter-widgets/controls",
            "_model_module_version": "1.5.0",
            "_model_name": "DescriptionStyleModel",
            "_view_count": null,
            "_view_module": "@jupyter-widgets/base",
            "_view_module_version": "1.2.0",
            "_view_name": "StyleView",
            "description_width": ""
          }
        },
        "043bfe0db90f44109bdbb1b6db0d5cc7": {
          "model_module": "@jupyter-widgets/base",
          "model_name": "LayoutModel",
          "model_module_version": "1.2.0",
          "state": {
            "_model_module": "@jupyter-widgets/base",
            "_model_module_version": "1.2.0",
            "_model_name": "LayoutModel",
            "_view_count": null,
            "_view_module": "@jupyter-widgets/base",
            "_view_module_version": "1.2.0",
            "_view_name": "LayoutView",
            "align_content": null,
            "align_items": null,
            "align_self": null,
            "border": null,
            "bottom": null,
            "display": null,
            "flex": null,
            "flex_flow": null,
            "grid_area": null,
            "grid_auto_columns": null,
            "grid_auto_flow": null,
            "grid_auto_rows": null,
            "grid_column": null,
            "grid_gap": null,
            "grid_row": null,
            "grid_template_areas": null,
            "grid_template_columns": null,
            "grid_template_rows": null,
            "height": null,
            "justify_content": null,
            "justify_items": null,
            "left": null,
            "margin": null,
            "max_height": null,
            "max_width": null,
            "min_height": null,
            "min_width": null,
            "object_fit": null,
            "object_position": null,
            "order": null,
            "overflow": null,
            "overflow_x": null,
            "overflow_y": null,
            "padding": null,
            "right": null,
            "top": null,
            "visibility": null,
            "width": null
          }
        },
        "1f79ceeccab9422a87d0857ca8adeaa3": {
          "model_module": "@jupyter-widgets/controls",
          "model_name": "ProgressStyleModel",
          "model_module_version": "1.5.0",
          "state": {
            "_model_module": "@jupyter-widgets/controls",
            "_model_module_version": "1.5.0",
            "_model_name": "ProgressStyleModel",
            "_view_count": null,
            "_view_module": "@jupyter-widgets/base",
            "_view_module_version": "1.2.0",
            "_view_name": "StyleView",
            "bar_color": null,
            "description_width": ""
          }
        },
        "9cad559fdef74288adf327436bbb6324": {
          "model_module": "@jupyter-widgets/base",
          "model_name": "LayoutModel",
          "model_module_version": "1.2.0",
          "state": {
            "_model_module": "@jupyter-widgets/base",
            "_model_module_version": "1.2.0",
            "_model_name": "LayoutModel",
            "_view_count": null,
            "_view_module": "@jupyter-widgets/base",
            "_view_module_version": "1.2.0",
            "_view_name": "LayoutView",
            "align_content": null,
            "align_items": null,
            "align_self": null,
            "border": null,
            "bottom": null,
            "display": null,
            "flex": null,
            "flex_flow": null,
            "grid_area": null,
            "grid_auto_columns": null,
            "grid_auto_flow": null,
            "grid_auto_rows": null,
            "grid_column": null,
            "grid_gap": null,
            "grid_row": null,
            "grid_template_areas": null,
            "grid_template_columns": null,
            "grid_template_rows": null,
            "height": null,
            "justify_content": null,
            "justify_items": null,
            "left": null,
            "margin": null,
            "max_height": null,
            "max_width": null,
            "min_height": null,
            "min_width": null,
            "object_fit": null,
            "object_position": null,
            "order": null,
            "overflow": null,
            "overflow_x": null,
            "overflow_y": null,
            "padding": null,
            "right": null,
            "top": null,
            "visibility": null,
            "width": null
          }
        },
        "228b7d0bc4064e17a1786ad7939c08cd": {
          "model_module": "@jupyter-widgets/controls",
          "model_name": "DescriptionStyleModel",
          "model_module_version": "1.5.0",
          "state": {
            "_model_module": "@jupyter-widgets/controls",
            "_model_module_version": "1.5.0",
            "_model_name": "DescriptionStyleModel",
            "_view_count": null,
            "_view_module": "@jupyter-widgets/base",
            "_view_module_version": "1.2.0",
            "_view_name": "StyleView",
            "description_width": ""
          }
        },
        "f20bdd95a992493abe34e388c62889d9": {
          "model_module": "@jupyter-widgets/controls",
          "model_name": "HBoxModel",
          "model_module_version": "1.5.0",
          "state": {
            "_dom_classes": [],
            "_model_module": "@jupyter-widgets/controls",
            "_model_module_version": "1.5.0",
            "_model_name": "HBoxModel",
            "_view_count": null,
            "_view_module": "@jupyter-widgets/controls",
            "_view_module_version": "1.5.0",
            "_view_name": "HBoxView",
            "box_style": "",
            "children": [
              "IPY_MODEL_25c83095d4154b22ac2624ac4c6fb755",
              "IPY_MODEL_567c08c24dc1462585099a1f5955b627",
              "IPY_MODEL_2c046ce266bc4ffb9c2905676c8ea3b1"
            ],
            "layout": "IPY_MODEL_a6984b30e6e44e5ea3bc9f7a972e402d"
          }
        },
        "25c83095d4154b22ac2624ac4c6fb755": {
          "model_module": "@jupyter-widgets/controls",
          "model_name": "HTMLModel",
          "model_module_version": "1.5.0",
          "state": {
            "_dom_classes": [],
            "_model_module": "@jupyter-widgets/controls",
            "_model_module_version": "1.5.0",
            "_model_name": "HTMLModel",
            "_view_count": null,
            "_view_module": "@jupyter-widgets/controls",
            "_view_module_version": "1.5.0",
            "_view_name": "HTMLView",
            "description": "",
            "description_tooltip": null,
            "layout": "IPY_MODEL_40d46f2aec244634ae5cf021116a5037",
            "placeholder": "​",
            "style": "IPY_MODEL_c543b019659c4867a32c65ec14e6f0fa",
            "value": "tokenizer_config.json: 100%"
          }
        },
        "567c08c24dc1462585099a1f5955b627": {
          "model_module": "@jupyter-widgets/controls",
          "model_name": "FloatProgressModel",
          "model_module_version": "1.5.0",
          "state": {
            "_dom_classes": [],
            "_model_module": "@jupyter-widgets/controls",
            "_model_module_version": "1.5.0",
            "_model_name": "FloatProgressModel",
            "_view_count": null,
            "_view_module": "@jupyter-widgets/controls",
            "_view_module_version": "1.5.0",
            "_view_name": "ProgressView",
            "bar_style": "success",
            "description": "",
            "description_tooltip": null,
            "layout": "IPY_MODEL_90f8c38f40574e08a718bae6dd8ef1ea",
            "max": 1158492,
            "min": 0,
            "orientation": "horizontal",
            "style": "IPY_MODEL_1c68a1c9c87848f7900d469fdbe5a5e6",
            "value": 1158492
          }
        },
        "2c046ce266bc4ffb9c2905676c8ea3b1": {
          "model_module": "@jupyter-widgets/controls",
          "model_name": "HTMLModel",
          "model_module_version": "1.5.0",
          "state": {
            "_dom_classes": [],
            "_model_module": "@jupyter-widgets/controls",
            "_model_module_version": "1.5.0",
            "_model_name": "HTMLModel",
            "_view_count": null,
            "_view_module": "@jupyter-widgets/controls",
            "_view_module_version": "1.5.0",
            "_view_name": "HTMLView",
            "description": "",
            "description_tooltip": null,
            "layout": "IPY_MODEL_b4ee2a32984a41fd91358a418898f663",
            "placeholder": "​",
            "style": "IPY_MODEL_c7099c9b70ce465d9580233c5a551964",
            "value": " 1.16M/1.16M [00:00&lt;00:00, 23.1MB/s]"
          }
        },
        "a6984b30e6e44e5ea3bc9f7a972e402d": {
          "model_module": "@jupyter-widgets/base",
          "model_name": "LayoutModel",
          "model_module_version": "1.2.0",
          "state": {
            "_model_module": "@jupyter-widgets/base",
            "_model_module_version": "1.2.0",
            "_model_name": "LayoutModel",
            "_view_count": null,
            "_view_module": "@jupyter-widgets/base",
            "_view_module_version": "1.2.0",
            "_view_name": "LayoutView",
            "align_content": null,
            "align_items": null,
            "align_self": null,
            "border": null,
            "bottom": null,
            "display": null,
            "flex": null,
            "flex_flow": null,
            "grid_area": null,
            "grid_auto_columns": null,
            "grid_auto_flow": null,
            "grid_auto_rows": null,
            "grid_column": null,
            "grid_gap": null,
            "grid_row": null,
            "grid_template_areas": null,
            "grid_template_columns": null,
            "grid_template_rows": null,
            "height": null,
            "justify_content": null,
            "justify_items": null,
            "left": null,
            "margin": null,
            "max_height": null,
            "max_width": null,
            "min_height": null,
            "min_width": null,
            "object_fit": null,
            "object_position": null,
            "order": null,
            "overflow": null,
            "overflow_x": null,
            "overflow_y": null,
            "padding": null,
            "right": null,
            "top": null,
            "visibility": null,
            "width": null
          }
        },
        "40d46f2aec244634ae5cf021116a5037": {
          "model_module": "@jupyter-widgets/base",
          "model_name": "LayoutModel",
          "model_module_version": "1.2.0",
          "state": {
            "_model_module": "@jupyter-widgets/base",
            "_model_module_version": "1.2.0",
            "_model_name": "LayoutModel",
            "_view_count": null,
            "_view_module": "@jupyter-widgets/base",
            "_view_module_version": "1.2.0",
            "_view_name": "LayoutView",
            "align_content": null,
            "align_items": null,
            "align_self": null,
            "border": null,
            "bottom": null,
            "display": null,
            "flex": null,
            "flex_flow": null,
            "grid_area": null,
            "grid_auto_columns": null,
            "grid_auto_flow": null,
            "grid_auto_rows": null,
            "grid_column": null,
            "grid_gap": null,
            "grid_row": null,
            "grid_template_areas": null,
            "grid_template_columns": null,
            "grid_template_rows": null,
            "height": null,
            "justify_content": null,
            "justify_items": null,
            "left": null,
            "margin": null,
            "max_height": null,
            "max_width": null,
            "min_height": null,
            "min_width": null,
            "object_fit": null,
            "object_position": null,
            "order": null,
            "overflow": null,
            "overflow_x": null,
            "overflow_y": null,
            "padding": null,
            "right": null,
            "top": null,
            "visibility": null,
            "width": null
          }
        },
        "c543b019659c4867a32c65ec14e6f0fa": {
          "model_module": "@jupyter-widgets/controls",
          "model_name": "DescriptionStyleModel",
          "model_module_version": "1.5.0",
          "state": {
            "_model_module": "@jupyter-widgets/controls",
            "_model_module_version": "1.5.0",
            "_model_name": "DescriptionStyleModel",
            "_view_count": null,
            "_view_module": "@jupyter-widgets/base",
            "_view_module_version": "1.2.0",
            "_view_name": "StyleView",
            "description_width": ""
          }
        },
        "90f8c38f40574e08a718bae6dd8ef1ea": {
          "model_module": "@jupyter-widgets/base",
          "model_name": "LayoutModel",
          "model_module_version": "1.2.0",
          "state": {
            "_model_module": "@jupyter-widgets/base",
            "_model_module_version": "1.2.0",
            "_model_name": "LayoutModel",
            "_view_count": null,
            "_view_module": "@jupyter-widgets/base",
            "_view_module_version": "1.2.0",
            "_view_name": "LayoutView",
            "align_content": null,
            "align_items": null,
            "align_self": null,
            "border": null,
            "bottom": null,
            "display": null,
            "flex": null,
            "flex_flow": null,
            "grid_area": null,
            "grid_auto_columns": null,
            "grid_auto_flow": null,
            "grid_auto_rows": null,
            "grid_column": null,
            "grid_gap": null,
            "grid_row": null,
            "grid_template_areas": null,
            "grid_template_columns": null,
            "grid_template_rows": null,
            "height": null,
            "justify_content": null,
            "justify_items": null,
            "left": null,
            "margin": null,
            "max_height": null,
            "max_width": null,
            "min_height": null,
            "min_width": null,
            "object_fit": null,
            "object_position": null,
            "order": null,
            "overflow": null,
            "overflow_x": null,
            "overflow_y": null,
            "padding": null,
            "right": null,
            "top": null,
            "visibility": null,
            "width": null
          }
        },
        "1c68a1c9c87848f7900d469fdbe5a5e6": {
          "model_module": "@jupyter-widgets/controls",
          "model_name": "ProgressStyleModel",
          "model_module_version": "1.5.0",
          "state": {
            "_model_module": "@jupyter-widgets/controls",
            "_model_module_version": "1.5.0",
            "_model_name": "ProgressStyleModel",
            "_view_count": null,
            "_view_module": "@jupyter-widgets/base",
            "_view_module_version": "1.2.0",
            "_view_name": "StyleView",
            "bar_color": null,
            "description_width": ""
          }
        },
        "b4ee2a32984a41fd91358a418898f663": {
          "model_module": "@jupyter-widgets/base",
          "model_name": "LayoutModel",
          "model_module_version": "1.2.0",
          "state": {
            "_model_module": "@jupyter-widgets/base",
            "_model_module_version": "1.2.0",
            "_model_name": "LayoutModel",
            "_view_count": null,
            "_view_module": "@jupyter-widgets/base",
            "_view_module_version": "1.2.0",
            "_view_name": "LayoutView",
            "align_content": null,
            "align_items": null,
            "align_self": null,
            "border": null,
            "bottom": null,
            "display": null,
            "flex": null,
            "flex_flow": null,
            "grid_area": null,
            "grid_auto_columns": null,
            "grid_auto_flow": null,
            "grid_auto_rows": null,
            "grid_column": null,
            "grid_gap": null,
            "grid_row": null,
            "grid_template_areas": null,
            "grid_template_columns": null,
            "grid_template_rows": null,
            "height": null,
            "justify_content": null,
            "justify_items": null,
            "left": null,
            "margin": null,
            "max_height": null,
            "max_width": null,
            "min_height": null,
            "min_width": null,
            "object_fit": null,
            "object_position": null,
            "order": null,
            "overflow": null,
            "overflow_x": null,
            "overflow_y": null,
            "padding": null,
            "right": null,
            "top": null,
            "visibility": null,
            "width": null
          }
        },
        "c7099c9b70ce465d9580233c5a551964": {
          "model_module": "@jupyter-widgets/controls",
          "model_name": "DescriptionStyleModel",
          "model_module_version": "1.5.0",
          "state": {
            "_model_module": "@jupyter-widgets/controls",
            "_model_module_version": "1.5.0",
            "_model_name": "DescriptionStyleModel",
            "_view_count": null,
            "_view_module": "@jupyter-widgets/base",
            "_view_module_version": "1.2.0",
            "_view_name": "StyleView",
            "description_width": ""
          }
        },
        "ed7b8e362368460d8ae933c2a623c725": {
          "model_module": "@jupyter-widgets/controls",
          "model_name": "HBoxModel",
          "model_module_version": "1.5.0",
          "state": {
            "_dom_classes": [],
            "_model_module": "@jupyter-widgets/controls",
            "_model_module_version": "1.5.0",
            "_model_name": "HBoxModel",
            "_view_count": null,
            "_view_module": "@jupyter-widgets/controls",
            "_view_module_version": "1.5.0",
            "_view_name": "HBoxView",
            "box_style": "",
            "children": [
              "IPY_MODEL_fa799e677493463d931cc27d366d2e60",
              "IPY_MODEL_e21bfb427f154cb1b25312e63086f5f0",
              "IPY_MODEL_67161e8e65324ebfa6acd5bc0863a3fc"
            ],
            "layout": "IPY_MODEL_3f0b2599cab140218cfb2d00eec53a69"
          }
        },
        "fa799e677493463d931cc27d366d2e60": {
          "model_module": "@jupyter-widgets/controls",
          "model_name": "HTMLModel",
          "model_module_version": "1.5.0",
          "state": {
            "_dom_classes": [],
            "_model_module": "@jupyter-widgets/controls",
            "_model_module_version": "1.5.0",
            "_model_name": "HTMLModel",
            "_view_count": null,
            "_view_module": "@jupyter-widgets/controls",
            "_view_module_version": "1.5.0",
            "_view_name": "HTMLView",
            "description": "",
            "description_tooltip": null,
            "layout": "IPY_MODEL_b6fd9845ca30491698683864845bb73c",
            "placeholder": "​",
            "style": "IPY_MODEL_5acefa90f0f44721a9b4565d30cbb59b",
            "value": "tokenizer.model: 100%"
          }
        },
        "e21bfb427f154cb1b25312e63086f5f0": {
          "model_module": "@jupyter-widgets/controls",
          "model_name": "FloatProgressModel",
          "model_module_version": "1.5.0",
          "state": {
            "_dom_classes": [],
            "_model_module": "@jupyter-widgets/controls",
            "_model_module_version": "1.5.0",
            "_model_name": "FloatProgressModel",
            "_view_count": null,
            "_view_module": "@jupyter-widgets/controls",
            "_view_module_version": "1.5.0",
            "_view_name": "ProgressView",
            "bar_style": "success",
            "description": "",
            "description_tooltip": null,
            "layout": "IPY_MODEL_89c9fe3acc7a49ad8749da0db76adca8",
            "max": 4689074,
            "min": 0,
            "orientation": "horizontal",
            "style": "IPY_MODEL_2269f17aef4e49d9abcf5d55ca554352",
            "value": 4689074
          }
        },
        "67161e8e65324ebfa6acd5bc0863a3fc": {
          "model_module": "@jupyter-widgets/controls",
          "model_name": "HTMLModel",
          "model_module_version": "1.5.0",
          "state": {
            "_dom_classes": [],
            "_model_module": "@jupyter-widgets/controls",
            "_model_module_version": "1.5.0",
            "_model_name": "HTMLModel",
            "_view_count": null,
            "_view_module": "@jupyter-widgets/controls",
            "_view_module_version": "1.5.0",
            "_view_name": "HTMLView",
            "description": "",
            "description_tooltip": null,
            "layout": "IPY_MODEL_8695d8ccc2604a358a1c30feab009417",
            "placeholder": "​",
            "style": "IPY_MODEL_1c4002239a9042ccb74500576f365d6a",
            "value": " 4.69M/4.69M [00:00&lt;00:00, 68.7MB/s]"
          }
        },
        "3f0b2599cab140218cfb2d00eec53a69": {
          "model_module": "@jupyter-widgets/base",
          "model_name": "LayoutModel",
          "model_module_version": "1.2.0",
          "state": {
            "_model_module": "@jupyter-widgets/base",
            "_model_module_version": "1.2.0",
            "_model_name": "LayoutModel",
            "_view_count": null,
            "_view_module": "@jupyter-widgets/base",
            "_view_module_version": "1.2.0",
            "_view_name": "LayoutView",
            "align_content": null,
            "align_items": null,
            "align_self": null,
            "border": null,
            "bottom": null,
            "display": null,
            "flex": null,
            "flex_flow": null,
            "grid_area": null,
            "grid_auto_columns": null,
            "grid_auto_flow": null,
            "grid_auto_rows": null,
            "grid_column": null,
            "grid_gap": null,
            "grid_row": null,
            "grid_template_areas": null,
            "grid_template_columns": null,
            "grid_template_rows": null,
            "height": null,
            "justify_content": null,
            "justify_items": null,
            "left": null,
            "margin": null,
            "max_height": null,
            "max_width": null,
            "min_height": null,
            "min_width": null,
            "object_fit": null,
            "object_position": null,
            "order": null,
            "overflow": null,
            "overflow_x": null,
            "overflow_y": null,
            "padding": null,
            "right": null,
            "top": null,
            "visibility": null,
            "width": null
          }
        },
        "b6fd9845ca30491698683864845bb73c": {
          "model_module": "@jupyter-widgets/base",
          "model_name": "LayoutModel",
          "model_module_version": "1.2.0",
          "state": {
            "_model_module": "@jupyter-widgets/base",
            "_model_module_version": "1.2.0",
            "_model_name": "LayoutModel",
            "_view_count": null,
            "_view_module": "@jupyter-widgets/base",
            "_view_module_version": "1.2.0",
            "_view_name": "LayoutView",
            "align_content": null,
            "align_items": null,
            "align_self": null,
            "border": null,
            "bottom": null,
            "display": null,
            "flex": null,
            "flex_flow": null,
            "grid_area": null,
            "grid_auto_columns": null,
            "grid_auto_flow": null,
            "grid_auto_rows": null,
            "grid_column": null,
            "grid_gap": null,
            "grid_row": null,
            "grid_template_areas": null,
            "grid_template_columns": null,
            "grid_template_rows": null,
            "height": null,
            "justify_content": null,
            "justify_items": null,
            "left": null,
            "margin": null,
            "max_height": null,
            "max_width": null,
            "min_height": null,
            "min_width": null,
            "object_fit": null,
            "object_position": null,
            "order": null,
            "overflow": null,
            "overflow_x": null,
            "overflow_y": null,
            "padding": null,
            "right": null,
            "top": null,
            "visibility": null,
            "width": null
          }
        },
        "5acefa90f0f44721a9b4565d30cbb59b": {
          "model_module": "@jupyter-widgets/controls",
          "model_name": "DescriptionStyleModel",
          "model_module_version": "1.5.0",
          "state": {
            "_model_module": "@jupyter-widgets/controls",
            "_model_module_version": "1.5.0",
            "_model_name": "DescriptionStyleModel",
            "_view_count": null,
            "_view_module": "@jupyter-widgets/base",
            "_view_module_version": "1.2.0",
            "_view_name": "StyleView",
            "description_width": ""
          }
        },
        "89c9fe3acc7a49ad8749da0db76adca8": {
          "model_module": "@jupyter-widgets/base",
          "model_name": "LayoutModel",
          "model_module_version": "1.2.0",
          "state": {
            "_model_module": "@jupyter-widgets/base",
            "_model_module_version": "1.2.0",
            "_model_name": "LayoutModel",
            "_view_count": null,
            "_view_module": "@jupyter-widgets/base",
            "_view_module_version": "1.2.0",
            "_view_name": "LayoutView",
            "align_content": null,
            "align_items": null,
            "align_self": null,
            "border": null,
            "bottom": null,
            "display": null,
            "flex": null,
            "flex_flow": null,
            "grid_area": null,
            "grid_auto_columns": null,
            "grid_auto_flow": null,
            "grid_auto_rows": null,
            "grid_column": null,
            "grid_gap": null,
            "grid_row": null,
            "grid_template_areas": null,
            "grid_template_columns": null,
            "grid_template_rows": null,
            "height": null,
            "justify_content": null,
            "justify_items": null,
            "left": null,
            "margin": null,
            "max_height": null,
            "max_width": null,
            "min_height": null,
            "min_width": null,
            "object_fit": null,
            "object_position": null,
            "order": null,
            "overflow": null,
            "overflow_x": null,
            "overflow_y": null,
            "padding": null,
            "right": null,
            "top": null,
            "visibility": null,
            "width": null
          }
        },
        "2269f17aef4e49d9abcf5d55ca554352": {
          "model_module": "@jupyter-widgets/controls",
          "model_name": "ProgressStyleModel",
          "model_module_version": "1.5.0",
          "state": {
            "_model_module": "@jupyter-widgets/controls",
            "_model_module_version": "1.5.0",
            "_model_name": "ProgressStyleModel",
            "_view_count": null,
            "_view_module": "@jupyter-widgets/base",
            "_view_module_version": "1.2.0",
            "_view_name": "StyleView",
            "bar_color": null,
            "description_width": ""
          }
        },
        "8695d8ccc2604a358a1c30feab009417": {
          "model_module": "@jupyter-widgets/base",
          "model_name": "LayoutModel",
          "model_module_version": "1.2.0",
          "state": {
            "_model_module": "@jupyter-widgets/base",
            "_model_module_version": "1.2.0",
            "_model_name": "LayoutModel",
            "_view_count": null,
            "_view_module": "@jupyter-widgets/base",
            "_view_module_version": "1.2.0",
            "_view_name": "LayoutView",
            "align_content": null,
            "align_items": null,
            "align_self": null,
            "border": null,
            "bottom": null,
            "display": null,
            "flex": null,
            "flex_flow": null,
            "grid_area": null,
            "grid_auto_columns": null,
            "grid_auto_flow": null,
            "grid_auto_rows": null,
            "grid_column": null,
            "grid_gap": null,
            "grid_row": null,
            "grid_template_areas": null,
            "grid_template_columns": null,
            "grid_template_rows": null,
            "height": null,
            "justify_content": null,
            "justify_items": null,
            "left": null,
            "margin": null,
            "max_height": null,
            "max_width": null,
            "min_height": null,
            "min_width": null,
            "object_fit": null,
            "object_position": null,
            "order": null,
            "overflow": null,
            "overflow_x": null,
            "overflow_y": null,
            "padding": null,
            "right": null,
            "top": null,
            "visibility": null,
            "width": null
          }
        },
        "1c4002239a9042ccb74500576f365d6a": {
          "model_module": "@jupyter-widgets/controls",
          "model_name": "DescriptionStyleModel",
          "model_module_version": "1.5.0",
          "state": {
            "_model_module": "@jupyter-widgets/controls",
            "_model_module_version": "1.5.0",
            "_model_name": "DescriptionStyleModel",
            "_view_count": null,
            "_view_module": "@jupyter-widgets/base",
            "_view_module_version": "1.2.0",
            "_view_name": "StyleView",
            "description_width": ""
          }
        },
        "71b926f0652747b7bacfbf876907b1b2": {
          "model_module": "@jupyter-widgets/controls",
          "model_name": "HBoxModel",
          "model_module_version": "1.5.0",
          "state": {
            "_dom_classes": [],
            "_model_module": "@jupyter-widgets/controls",
            "_model_module_version": "1.5.0",
            "_model_name": "HBoxModel",
            "_view_count": null,
            "_view_module": "@jupyter-widgets/controls",
            "_view_module_version": "1.5.0",
            "_view_name": "HBoxView",
            "box_style": "",
            "children": [
              "IPY_MODEL_b88656a719304c62a253334ec179593a",
              "IPY_MODEL_26299285952c4c9ba87046bcce0f5fbf",
              "IPY_MODEL_4b4820f2acb142f38501aff724a44de1"
            ],
            "layout": "IPY_MODEL_8c5fca743147456abdd84c01f7dcc09f"
          }
        },
        "b88656a719304c62a253334ec179593a": {
          "model_module": "@jupyter-widgets/controls",
          "model_name": "HTMLModel",
          "model_module_version": "1.5.0",
          "state": {
            "_dom_classes": [],
            "_model_module": "@jupyter-widgets/controls",
            "_model_module_version": "1.5.0",
            "_model_name": "HTMLModel",
            "_view_count": null,
            "_view_module": "@jupyter-widgets/controls",
            "_view_module_version": "1.5.0",
            "_view_name": "HTMLView",
            "description": "",
            "description_tooltip": null,
            "layout": "IPY_MODEL_f3349c850a3549b59798f37e046d15f2",
            "placeholder": "​",
            "style": "IPY_MODEL_ed1ea9e840674f2594fa1d8ae088b6de",
            "value": "tokenizer.json: 100%"
          }
        },
        "26299285952c4c9ba87046bcce0f5fbf": {
          "model_module": "@jupyter-widgets/controls",
          "model_name": "FloatProgressModel",
          "model_module_version": "1.5.0",
          "state": {
            "_dom_classes": [],
            "_model_module": "@jupyter-widgets/controls",
            "_model_module_version": "1.5.0",
            "_model_name": "FloatProgressModel",
            "_view_count": null,
            "_view_module": "@jupyter-widgets/controls",
            "_view_module_version": "1.5.0",
            "_view_name": "ProgressView",
            "bar_style": "success",
            "description": "",
            "description_tooltip": null,
            "layout": "IPY_MODEL_f72983aa6e844f0c9c1399bad7f69d66",
            "max": 33384568,
            "min": 0,
            "orientation": "horizontal",
            "style": "IPY_MODEL_3cfcb74b1e924bf0813bab0799c8d1f8",
            "value": 33384568
          }
        },
        "4b4820f2acb142f38501aff724a44de1": {
          "model_module": "@jupyter-widgets/controls",
          "model_name": "HTMLModel",
          "model_module_version": "1.5.0",
          "state": {
            "_dom_classes": [],
            "_model_module": "@jupyter-widgets/controls",
            "_model_module_version": "1.5.0",
            "_model_name": "HTMLModel",
            "_view_count": null,
            "_view_module": "@jupyter-widgets/controls",
            "_view_module_version": "1.5.0",
            "_view_name": "HTMLView",
            "description": "",
            "description_tooltip": null,
            "layout": "IPY_MODEL_06fef93974584d5392fc544fcb0b2aa4",
            "placeholder": "​",
            "style": "IPY_MODEL_32d38cedf62c440389b996d05b4228af",
            "value": " 33.4M/33.4M [00:00&lt;00:00, 281MB/s]"
          }
        },
        "8c5fca743147456abdd84c01f7dcc09f": {
          "model_module": "@jupyter-widgets/base",
          "model_name": "LayoutModel",
          "model_module_version": "1.2.0",
          "state": {
            "_model_module": "@jupyter-widgets/base",
            "_model_module_version": "1.2.0",
            "_model_name": "LayoutModel",
            "_view_count": null,
            "_view_module": "@jupyter-widgets/base",
            "_view_module_version": "1.2.0",
            "_view_name": "LayoutView",
            "align_content": null,
            "align_items": null,
            "align_self": null,
            "border": null,
            "bottom": null,
            "display": null,
            "flex": null,
            "flex_flow": null,
            "grid_area": null,
            "grid_auto_columns": null,
            "grid_auto_flow": null,
            "grid_auto_rows": null,
            "grid_column": null,
            "grid_gap": null,
            "grid_row": null,
            "grid_template_areas": null,
            "grid_template_columns": null,
            "grid_template_rows": null,
            "height": null,
            "justify_content": null,
            "justify_items": null,
            "left": null,
            "margin": null,
            "max_height": null,
            "max_width": null,
            "min_height": null,
            "min_width": null,
            "object_fit": null,
            "object_position": null,
            "order": null,
            "overflow": null,
            "overflow_x": null,
            "overflow_y": null,
            "padding": null,
            "right": null,
            "top": null,
            "visibility": null,
            "width": null
          }
        },
        "f3349c850a3549b59798f37e046d15f2": {
          "model_module": "@jupyter-widgets/base",
          "model_name": "LayoutModel",
          "model_module_version": "1.2.0",
          "state": {
            "_model_module": "@jupyter-widgets/base",
            "_model_module_version": "1.2.0",
            "_model_name": "LayoutModel",
            "_view_count": null,
            "_view_module": "@jupyter-widgets/base",
            "_view_module_version": "1.2.0",
            "_view_name": "LayoutView",
            "align_content": null,
            "align_items": null,
            "align_self": null,
            "border": null,
            "bottom": null,
            "display": null,
            "flex": null,
            "flex_flow": null,
            "grid_area": null,
            "grid_auto_columns": null,
            "grid_auto_flow": null,
            "grid_auto_rows": null,
            "grid_column": null,
            "grid_gap": null,
            "grid_row": null,
            "grid_template_areas": null,
            "grid_template_columns": null,
            "grid_template_rows": null,
            "height": null,
            "justify_content": null,
            "justify_items": null,
            "left": null,
            "margin": null,
            "max_height": null,
            "max_width": null,
            "min_height": null,
            "min_width": null,
            "object_fit": null,
            "object_position": null,
            "order": null,
            "overflow": null,
            "overflow_x": null,
            "overflow_y": null,
            "padding": null,
            "right": null,
            "top": null,
            "visibility": null,
            "width": null
          }
        },
        "ed1ea9e840674f2594fa1d8ae088b6de": {
          "model_module": "@jupyter-widgets/controls",
          "model_name": "DescriptionStyleModel",
          "model_module_version": "1.5.0",
          "state": {
            "_model_module": "@jupyter-widgets/controls",
            "_model_module_version": "1.5.0",
            "_model_name": "DescriptionStyleModel",
            "_view_count": null,
            "_view_module": "@jupyter-widgets/base",
            "_view_module_version": "1.2.0",
            "_view_name": "StyleView",
            "description_width": ""
          }
        },
        "f72983aa6e844f0c9c1399bad7f69d66": {
          "model_module": "@jupyter-widgets/base",
          "model_name": "LayoutModel",
          "model_module_version": "1.2.0",
          "state": {
            "_model_module": "@jupyter-widgets/base",
            "_model_module_version": "1.2.0",
            "_model_name": "LayoutModel",
            "_view_count": null,
            "_view_module": "@jupyter-widgets/base",
            "_view_module_version": "1.2.0",
            "_view_name": "LayoutView",
            "align_content": null,
            "align_items": null,
            "align_self": null,
            "border": null,
            "bottom": null,
            "display": null,
            "flex": null,
            "flex_flow": null,
            "grid_area": null,
            "grid_auto_columns": null,
            "grid_auto_flow": null,
            "grid_auto_rows": null,
            "grid_column": null,
            "grid_gap": null,
            "grid_row": null,
            "grid_template_areas": null,
            "grid_template_columns": null,
            "grid_template_rows": null,
            "height": null,
            "justify_content": null,
            "justify_items": null,
            "left": null,
            "margin": null,
            "max_height": null,
            "max_width": null,
            "min_height": null,
            "min_width": null,
            "object_fit": null,
            "object_position": null,
            "order": null,
            "overflow": null,
            "overflow_x": null,
            "overflow_y": null,
            "padding": null,
            "right": null,
            "top": null,
            "visibility": null,
            "width": null
          }
        },
        "3cfcb74b1e924bf0813bab0799c8d1f8": {
          "model_module": "@jupyter-widgets/controls",
          "model_name": "ProgressStyleModel",
          "model_module_version": "1.5.0",
          "state": {
            "_model_module": "@jupyter-widgets/controls",
            "_model_module_version": "1.5.0",
            "_model_name": "ProgressStyleModel",
            "_view_count": null,
            "_view_module": "@jupyter-widgets/base",
            "_view_module_version": "1.2.0",
            "_view_name": "StyleView",
            "bar_color": null,
            "description_width": ""
          }
        },
        "06fef93974584d5392fc544fcb0b2aa4": {
          "model_module": "@jupyter-widgets/base",
          "model_name": "LayoutModel",
          "model_module_version": "1.2.0",
          "state": {
            "_model_module": "@jupyter-widgets/base",
            "_model_module_version": "1.2.0",
            "_model_name": "LayoutModel",
            "_view_count": null,
            "_view_module": "@jupyter-widgets/base",
            "_view_module_version": "1.2.0",
            "_view_name": "LayoutView",
            "align_content": null,
            "align_items": null,
            "align_self": null,
            "border": null,
            "bottom": null,
            "display": null,
            "flex": null,
            "flex_flow": null,
            "grid_area": null,
            "grid_auto_columns": null,
            "grid_auto_flow": null,
            "grid_auto_rows": null,
            "grid_column": null,
            "grid_gap": null,
            "grid_row": null,
            "grid_template_areas": null,
            "grid_template_columns": null,
            "grid_template_rows": null,
            "height": null,
            "justify_content": null,
            "justify_items": null,
            "left": null,
            "margin": null,
            "max_height": null,
            "max_width": null,
            "min_height": null,
            "min_width": null,
            "object_fit": null,
            "object_position": null,
            "order": null,
            "overflow": null,
            "overflow_x": null,
            "overflow_y": null,
            "padding": null,
            "right": null,
            "top": null,
            "visibility": null,
            "width": null
          }
        },
        "32d38cedf62c440389b996d05b4228af": {
          "model_module": "@jupyter-widgets/controls",
          "model_name": "DescriptionStyleModel",
          "model_module_version": "1.5.0",
          "state": {
            "_model_module": "@jupyter-widgets/controls",
            "_model_module_version": "1.5.0",
            "_model_name": "DescriptionStyleModel",
            "_view_count": null,
            "_view_module": "@jupyter-widgets/base",
            "_view_module_version": "1.2.0",
            "_view_name": "StyleView",
            "description_width": ""
          }
        },
        "9c689d82bb8241b0a52dc1e571f9fc79": {
          "model_module": "@jupyter-widgets/controls",
          "model_name": "HBoxModel",
          "model_module_version": "1.5.0",
          "state": {
            "_dom_classes": [],
            "_model_module": "@jupyter-widgets/controls",
            "_model_module_version": "1.5.0",
            "_model_name": "HBoxModel",
            "_view_count": null,
            "_view_module": "@jupyter-widgets/controls",
            "_view_module_version": "1.5.0",
            "_view_name": "HBoxView",
            "box_style": "",
            "children": [
              "IPY_MODEL_2f0b664a30514a979c261dccce004a15",
              "IPY_MODEL_ad825c5921234db684170c2889685ab8",
              "IPY_MODEL_70557ea6ffc64046bab86461580b1b58"
            ],
            "layout": "IPY_MODEL_9c7f7a9de2cf4558bfcc905b6a508d60"
          }
        },
        "2f0b664a30514a979c261dccce004a15": {
          "model_module": "@jupyter-widgets/controls",
          "model_name": "HTMLModel",
          "model_module_version": "1.5.0",
          "state": {
            "_dom_classes": [],
            "_model_module": "@jupyter-widgets/controls",
            "_model_module_version": "1.5.0",
            "_model_name": "HTMLModel",
            "_view_count": null,
            "_view_module": "@jupyter-widgets/controls",
            "_view_module_version": "1.5.0",
            "_view_name": "HTMLView",
            "description": "",
            "description_tooltip": null,
            "layout": "IPY_MODEL_795815d0ed6047c89571eeaf23c8ea8e",
            "placeholder": "​",
            "style": "IPY_MODEL_38362267221c49d6964186b147fe1339",
            "value": "added_tokens.json: 100%"
          }
        },
        "ad825c5921234db684170c2889685ab8": {
          "model_module": "@jupyter-widgets/controls",
          "model_name": "FloatProgressModel",
          "model_module_version": "1.5.0",
          "state": {
            "_dom_classes": [],
            "_model_module": "@jupyter-widgets/controls",
            "_model_module_version": "1.5.0",
            "_model_name": "FloatProgressModel",
            "_view_count": null,
            "_view_module": "@jupyter-widgets/controls",
            "_view_module_version": "1.5.0",
            "_view_name": "ProgressView",
            "bar_style": "success",
            "description": "",
            "description_tooltip": null,
            "layout": "IPY_MODEL_5db30a5b22b6476daa30d572fc55a906",
            "max": 35,
            "min": 0,
            "orientation": "horizontal",
            "style": "IPY_MODEL_4b07ace73eea4bb283e49bd34410e0ac",
            "value": 35
          }
        },
        "70557ea6ffc64046bab86461580b1b58": {
          "model_module": "@jupyter-widgets/controls",
          "model_name": "HTMLModel",
          "model_module_version": "1.5.0",
          "state": {
            "_dom_classes": [],
            "_model_module": "@jupyter-widgets/controls",
            "_model_module_version": "1.5.0",
            "_model_name": "HTMLModel",
            "_view_count": null,
            "_view_module": "@jupyter-widgets/controls",
            "_view_module_version": "1.5.0",
            "_view_name": "HTMLView",
            "description": "",
            "description_tooltip": null,
            "layout": "IPY_MODEL_fae23ad2311f4fd59db9aec41cc3d606",
            "placeholder": "​",
            "style": "IPY_MODEL_0aa67b8e3ded4a4dac27b1b039c25913",
            "value": " 35.0/35.0 [00:00&lt;00:00, 3.33kB/s]"
          }
        },
        "9c7f7a9de2cf4558bfcc905b6a508d60": {
          "model_module": "@jupyter-widgets/base",
          "model_name": "LayoutModel",
          "model_module_version": "1.2.0",
          "state": {
            "_model_module": "@jupyter-widgets/base",
            "_model_module_version": "1.2.0",
            "_model_name": "LayoutModel",
            "_view_count": null,
            "_view_module": "@jupyter-widgets/base",
            "_view_module_version": "1.2.0",
            "_view_name": "LayoutView",
            "align_content": null,
            "align_items": null,
            "align_self": null,
            "border": null,
            "bottom": null,
            "display": null,
            "flex": null,
            "flex_flow": null,
            "grid_area": null,
            "grid_auto_columns": null,
            "grid_auto_flow": null,
            "grid_auto_rows": null,
            "grid_column": null,
            "grid_gap": null,
            "grid_row": null,
            "grid_template_areas": null,
            "grid_template_columns": null,
            "grid_template_rows": null,
            "height": null,
            "justify_content": null,
            "justify_items": null,
            "left": null,
            "margin": null,
            "max_height": null,
            "max_width": null,
            "min_height": null,
            "min_width": null,
            "object_fit": null,
            "object_position": null,
            "order": null,
            "overflow": null,
            "overflow_x": null,
            "overflow_y": null,
            "padding": null,
            "right": null,
            "top": null,
            "visibility": null,
            "width": null
          }
        },
        "795815d0ed6047c89571eeaf23c8ea8e": {
          "model_module": "@jupyter-widgets/base",
          "model_name": "LayoutModel",
          "model_module_version": "1.2.0",
          "state": {
            "_model_module": "@jupyter-widgets/base",
            "_model_module_version": "1.2.0",
            "_model_name": "LayoutModel",
            "_view_count": null,
            "_view_module": "@jupyter-widgets/base",
            "_view_module_version": "1.2.0",
            "_view_name": "LayoutView",
            "align_content": null,
            "align_items": null,
            "align_self": null,
            "border": null,
            "bottom": null,
            "display": null,
            "flex": null,
            "flex_flow": null,
            "grid_area": null,
            "grid_auto_columns": null,
            "grid_auto_flow": null,
            "grid_auto_rows": null,
            "grid_column": null,
            "grid_gap": null,
            "grid_row": null,
            "grid_template_areas": null,
            "grid_template_columns": null,
            "grid_template_rows": null,
            "height": null,
            "justify_content": null,
            "justify_items": null,
            "left": null,
            "margin": null,
            "max_height": null,
            "max_width": null,
            "min_height": null,
            "min_width": null,
            "object_fit": null,
            "object_position": null,
            "order": null,
            "overflow": null,
            "overflow_x": null,
            "overflow_y": null,
            "padding": null,
            "right": null,
            "top": null,
            "visibility": null,
            "width": null
          }
        },
        "38362267221c49d6964186b147fe1339": {
          "model_module": "@jupyter-widgets/controls",
          "model_name": "DescriptionStyleModel",
          "model_module_version": "1.5.0",
          "state": {
            "_model_module": "@jupyter-widgets/controls",
            "_model_module_version": "1.5.0",
            "_model_name": "DescriptionStyleModel",
            "_view_count": null,
            "_view_module": "@jupyter-widgets/base",
            "_view_module_version": "1.2.0",
            "_view_name": "StyleView",
            "description_width": ""
          }
        },
        "5db30a5b22b6476daa30d572fc55a906": {
          "model_module": "@jupyter-widgets/base",
          "model_name": "LayoutModel",
          "model_module_version": "1.2.0",
          "state": {
            "_model_module": "@jupyter-widgets/base",
            "_model_module_version": "1.2.0",
            "_model_name": "LayoutModel",
            "_view_count": null,
            "_view_module": "@jupyter-widgets/base",
            "_view_module_version": "1.2.0",
            "_view_name": "LayoutView",
            "align_content": null,
            "align_items": null,
            "align_self": null,
            "border": null,
            "bottom": null,
            "display": null,
            "flex": null,
            "flex_flow": null,
            "grid_area": null,
            "grid_auto_columns": null,
            "grid_auto_flow": null,
            "grid_auto_rows": null,
            "grid_column": null,
            "grid_gap": null,
            "grid_row": null,
            "grid_template_areas": null,
            "grid_template_columns": null,
            "grid_template_rows": null,
            "height": null,
            "justify_content": null,
            "justify_items": null,
            "left": null,
            "margin": null,
            "max_height": null,
            "max_width": null,
            "min_height": null,
            "min_width": null,
            "object_fit": null,
            "object_position": null,
            "order": null,
            "overflow": null,
            "overflow_x": null,
            "overflow_y": null,
            "padding": null,
            "right": null,
            "top": null,
            "visibility": null,
            "width": null
          }
        },
        "4b07ace73eea4bb283e49bd34410e0ac": {
          "model_module": "@jupyter-widgets/controls",
          "model_name": "ProgressStyleModel",
          "model_module_version": "1.5.0",
          "state": {
            "_model_module": "@jupyter-widgets/controls",
            "_model_module_version": "1.5.0",
            "_model_name": "ProgressStyleModel",
            "_view_count": null,
            "_view_module": "@jupyter-widgets/base",
            "_view_module_version": "1.2.0",
            "_view_name": "StyleView",
            "bar_color": null,
            "description_width": ""
          }
        },
        "fae23ad2311f4fd59db9aec41cc3d606": {
          "model_module": "@jupyter-widgets/base",
          "model_name": "LayoutModel",
          "model_module_version": "1.2.0",
          "state": {
            "_model_module": "@jupyter-widgets/base",
            "_model_module_version": "1.2.0",
            "_model_name": "LayoutModel",
            "_view_count": null,
            "_view_module": "@jupyter-widgets/base",
            "_view_module_version": "1.2.0",
            "_view_name": "LayoutView",
            "align_content": null,
            "align_items": null,
            "align_self": null,
            "border": null,
            "bottom": null,
            "display": null,
            "flex": null,
            "flex_flow": null,
            "grid_area": null,
            "grid_auto_columns": null,
            "grid_auto_flow": null,
            "grid_auto_rows": null,
            "grid_column": null,
            "grid_gap": null,
            "grid_row": null,
            "grid_template_areas": null,
            "grid_template_columns": null,
            "grid_template_rows": null,
            "height": null,
            "justify_content": null,
            "justify_items": null,
            "left": null,
            "margin": null,
            "max_height": null,
            "max_width": null,
            "min_height": null,
            "min_width": null,
            "object_fit": null,
            "object_position": null,
            "order": null,
            "overflow": null,
            "overflow_x": null,
            "overflow_y": null,
            "padding": null,
            "right": null,
            "top": null,
            "visibility": null,
            "width": null
          }
        },
        "0aa67b8e3ded4a4dac27b1b039c25913": {
          "model_module": "@jupyter-widgets/controls",
          "model_name": "DescriptionStyleModel",
          "model_module_version": "1.5.0",
          "state": {
            "_model_module": "@jupyter-widgets/controls",
            "_model_module_version": "1.5.0",
            "_model_name": "DescriptionStyleModel",
            "_view_count": null,
            "_view_module": "@jupyter-widgets/base",
            "_view_module_version": "1.2.0",
            "_view_name": "StyleView",
            "description_width": ""
          }
        },
        "c6f807c93a2e4d559130cf77c3355995": {
          "model_module": "@jupyter-widgets/controls",
          "model_name": "HBoxModel",
          "model_module_version": "1.5.0",
          "state": {
            "_dom_classes": [],
            "_model_module": "@jupyter-widgets/controls",
            "_model_module_version": "1.5.0",
            "_model_name": "HBoxModel",
            "_view_count": null,
            "_view_module": "@jupyter-widgets/controls",
            "_view_module_version": "1.5.0",
            "_view_name": "HBoxView",
            "box_style": "",
            "children": [
              "IPY_MODEL_220d3fdc6aab42508e7ed9df73b886d6",
              "IPY_MODEL_085457ee336c4c6e81d8812c59ed85f4",
              "IPY_MODEL_2f170c5013df4f8f8ea389c6b3c419d3"
            ],
            "layout": "IPY_MODEL_251d6b09dad9447c90975b95272f7980"
          }
        },
        "220d3fdc6aab42508e7ed9df73b886d6": {
          "model_module": "@jupyter-widgets/controls",
          "model_name": "HTMLModel",
          "model_module_version": "1.5.0",
          "state": {
            "_dom_classes": [],
            "_model_module": "@jupyter-widgets/controls",
            "_model_module_version": "1.5.0",
            "_model_name": "HTMLModel",
            "_view_count": null,
            "_view_module": "@jupyter-widgets/controls",
            "_view_module_version": "1.5.0",
            "_view_name": "HTMLView",
            "description": "",
            "description_tooltip": null,
            "layout": "IPY_MODEL_b88c21493975425293ae47d642b1b1de",
            "placeholder": "​",
            "style": "IPY_MODEL_c6cf05d763e7481ca62faccb2fb4c82e",
            "value": "special_tokens_map.json: 100%"
          }
        },
        "085457ee336c4c6e81d8812c59ed85f4": {
          "model_module": "@jupyter-widgets/controls",
          "model_name": "FloatProgressModel",
          "model_module_version": "1.5.0",
          "state": {
            "_dom_classes": [],
            "_model_module": "@jupyter-widgets/controls",
            "_model_module_version": "1.5.0",
            "_model_name": "FloatProgressModel",
            "_view_count": null,
            "_view_module": "@jupyter-widgets/controls",
            "_view_module_version": "1.5.0",
            "_view_name": "ProgressView",
            "bar_style": "success",
            "description": "",
            "description_tooltip": null,
            "layout": "IPY_MODEL_de72acee49d14a94a5453291587338cb",
            "max": 670,
            "min": 0,
            "orientation": "horizontal",
            "style": "IPY_MODEL_d65d6e785f494b408f2fa936c9d30d07",
            "value": 670
          }
        },
        "2f170c5013df4f8f8ea389c6b3c419d3": {
          "model_module": "@jupyter-widgets/controls",
          "model_name": "HTMLModel",
          "model_module_version": "1.5.0",
          "state": {
            "_dom_classes": [],
            "_model_module": "@jupyter-widgets/controls",
            "_model_module_version": "1.5.0",
            "_model_name": "HTMLModel",
            "_view_count": null,
            "_view_module": "@jupyter-widgets/controls",
            "_view_module_version": "1.5.0",
            "_view_name": "HTMLView",
            "description": "",
            "description_tooltip": null,
            "layout": "IPY_MODEL_84113e3adc9d408e8bc2a21bf2d65de0",
            "placeholder": "​",
            "style": "IPY_MODEL_1ed1b8ba0035459d9f394320772c78fb",
            "value": " 670/670 [00:00&lt;00:00, 71.1kB/s]"
          }
        },
        "251d6b09dad9447c90975b95272f7980": {
          "model_module": "@jupyter-widgets/base",
          "model_name": "LayoutModel",
          "model_module_version": "1.2.0",
          "state": {
            "_model_module": "@jupyter-widgets/base",
            "_model_module_version": "1.2.0",
            "_model_name": "LayoutModel",
            "_view_count": null,
            "_view_module": "@jupyter-widgets/base",
            "_view_module_version": "1.2.0",
            "_view_name": "LayoutView",
            "align_content": null,
            "align_items": null,
            "align_self": null,
            "border": null,
            "bottom": null,
            "display": null,
            "flex": null,
            "flex_flow": null,
            "grid_area": null,
            "grid_auto_columns": null,
            "grid_auto_flow": null,
            "grid_auto_rows": null,
            "grid_column": null,
            "grid_gap": null,
            "grid_row": null,
            "grid_template_areas": null,
            "grid_template_columns": null,
            "grid_template_rows": null,
            "height": null,
            "justify_content": null,
            "justify_items": null,
            "left": null,
            "margin": null,
            "max_height": null,
            "max_width": null,
            "min_height": null,
            "min_width": null,
            "object_fit": null,
            "object_position": null,
            "order": null,
            "overflow": null,
            "overflow_x": null,
            "overflow_y": null,
            "padding": null,
            "right": null,
            "top": null,
            "visibility": null,
            "width": null
          }
        },
        "b88c21493975425293ae47d642b1b1de": {
          "model_module": "@jupyter-widgets/base",
          "model_name": "LayoutModel",
          "model_module_version": "1.2.0",
          "state": {
            "_model_module": "@jupyter-widgets/base",
            "_model_module_version": "1.2.0",
            "_model_name": "LayoutModel",
            "_view_count": null,
            "_view_module": "@jupyter-widgets/base",
            "_view_module_version": "1.2.0",
            "_view_name": "LayoutView",
            "align_content": null,
            "align_items": null,
            "align_self": null,
            "border": null,
            "bottom": null,
            "display": null,
            "flex": null,
            "flex_flow": null,
            "grid_area": null,
            "grid_auto_columns": null,
            "grid_auto_flow": null,
            "grid_auto_rows": null,
            "grid_column": null,
            "grid_gap": null,
            "grid_row": null,
            "grid_template_areas": null,
            "grid_template_columns": null,
            "grid_template_rows": null,
            "height": null,
            "justify_content": null,
            "justify_items": null,
            "left": null,
            "margin": null,
            "max_height": null,
            "max_width": null,
            "min_height": null,
            "min_width": null,
            "object_fit": null,
            "object_position": null,
            "order": null,
            "overflow": null,
            "overflow_x": null,
            "overflow_y": null,
            "padding": null,
            "right": null,
            "top": null,
            "visibility": null,
            "width": null
          }
        },
        "c6cf05d763e7481ca62faccb2fb4c82e": {
          "model_module": "@jupyter-widgets/controls",
          "model_name": "DescriptionStyleModel",
          "model_module_version": "1.5.0",
          "state": {
            "_model_module": "@jupyter-widgets/controls",
            "_model_module_version": "1.5.0",
            "_model_name": "DescriptionStyleModel",
            "_view_count": null,
            "_view_module": "@jupyter-widgets/base",
            "_view_module_version": "1.2.0",
            "_view_name": "StyleView",
            "description_width": ""
          }
        },
        "de72acee49d14a94a5453291587338cb": {
          "model_module": "@jupyter-widgets/base",
          "model_name": "LayoutModel",
          "model_module_version": "1.2.0",
          "state": {
            "_model_module": "@jupyter-widgets/base",
            "_model_module_version": "1.2.0",
            "_model_name": "LayoutModel",
            "_view_count": null,
            "_view_module": "@jupyter-widgets/base",
            "_view_module_version": "1.2.0",
            "_view_name": "LayoutView",
            "align_content": null,
            "align_items": null,
            "align_self": null,
            "border": null,
            "bottom": null,
            "display": null,
            "flex": null,
            "flex_flow": null,
            "grid_area": null,
            "grid_auto_columns": null,
            "grid_auto_flow": null,
            "grid_auto_rows": null,
            "grid_column": null,
            "grid_gap": null,
            "grid_row": null,
            "grid_template_areas": null,
            "grid_template_columns": null,
            "grid_template_rows": null,
            "height": null,
            "justify_content": null,
            "justify_items": null,
            "left": null,
            "margin": null,
            "max_height": null,
            "max_width": null,
            "min_height": null,
            "min_width": null,
            "object_fit": null,
            "object_position": null,
            "order": null,
            "overflow": null,
            "overflow_x": null,
            "overflow_y": null,
            "padding": null,
            "right": null,
            "top": null,
            "visibility": null,
            "width": null
          }
        },
        "d65d6e785f494b408f2fa936c9d30d07": {
          "model_module": "@jupyter-widgets/controls",
          "model_name": "ProgressStyleModel",
          "model_module_version": "1.5.0",
          "state": {
            "_model_module": "@jupyter-widgets/controls",
            "_model_module_version": "1.5.0",
            "_model_name": "ProgressStyleModel",
            "_view_count": null,
            "_view_module": "@jupyter-widgets/base",
            "_view_module_version": "1.2.0",
            "_view_name": "StyleView",
            "bar_color": null,
            "description_width": ""
          }
        },
        "84113e3adc9d408e8bc2a21bf2d65de0": {
          "model_module": "@jupyter-widgets/base",
          "model_name": "LayoutModel",
          "model_module_version": "1.2.0",
          "state": {
            "_model_module": "@jupyter-widgets/base",
            "_model_module_version": "1.2.0",
            "_model_name": "LayoutModel",
            "_view_count": null,
            "_view_module": "@jupyter-widgets/base",
            "_view_module_version": "1.2.0",
            "_view_name": "LayoutView",
            "align_content": null,
            "align_items": null,
            "align_self": null,
            "border": null,
            "bottom": null,
            "display": null,
            "flex": null,
            "flex_flow": null,
            "grid_area": null,
            "grid_auto_columns": null,
            "grid_auto_flow": null,
            "grid_auto_rows": null,
            "grid_column": null,
            "grid_gap": null,
            "grid_row": null,
            "grid_template_areas": null,
            "grid_template_columns": null,
            "grid_template_rows": null,
            "height": null,
            "justify_content": null,
            "justify_items": null,
            "left": null,
            "margin": null,
            "max_height": null,
            "max_width": null,
            "min_height": null,
            "min_width": null,
            "object_fit": null,
            "object_position": null,
            "order": null,
            "overflow": null,
            "overflow_x": null,
            "overflow_y": null,
            "padding": null,
            "right": null,
            "top": null,
            "visibility": null,
            "width": null
          }
        },
        "1ed1b8ba0035459d9f394320772c78fb": {
          "model_module": "@jupyter-widgets/controls",
          "model_name": "DescriptionStyleModel",
          "model_module_version": "1.5.0",
          "state": {
            "_model_module": "@jupyter-widgets/controls",
            "_model_module_version": "1.5.0",
            "_model_name": "DescriptionStyleModel",
            "_view_count": null,
            "_view_module": "@jupyter-widgets/base",
            "_view_module_version": "1.2.0",
            "_view_name": "StyleView",
            "description_width": ""
          }
        },
        "255d4d4f152d4797b9714e107a27d66d": {
          "model_module": "@jupyter-widgets/controls",
          "model_name": "HBoxModel",
          "model_module_version": "1.5.0",
          "state": {
            "_dom_classes": [],
            "_model_module": "@jupyter-widgets/controls",
            "_model_module_version": "1.5.0",
            "_model_name": "HBoxModel",
            "_view_count": null,
            "_view_module": "@jupyter-widgets/controls",
            "_view_module_version": "1.5.0",
            "_view_name": "HBoxView",
            "box_style": "",
            "children": [
              "IPY_MODEL_503c5a76367a45f78e8f5c85a9bbfa92",
              "IPY_MODEL_54afd23feb694d6eb766565d4c0eaa16",
              "IPY_MODEL_f6697dd13e8b411a92e0fe890f86ed74"
            ],
            "layout": "IPY_MODEL_7c4958ab2c97452a8395cdaa225e6ed2"
          }
        },
        "503c5a76367a45f78e8f5c85a9bbfa92": {
          "model_module": "@jupyter-widgets/controls",
          "model_name": "HTMLModel",
          "model_module_version": "1.5.0",
          "state": {
            "_dom_classes": [],
            "_model_module": "@jupyter-widgets/controls",
            "_model_module_version": "1.5.0",
            "_model_name": "HTMLModel",
            "_view_count": null,
            "_view_module": "@jupyter-widgets/controls",
            "_view_module_version": "1.5.0",
            "_view_name": "HTMLView",
            "description": "",
            "description_tooltip": null,
            "layout": "IPY_MODEL_5e3e681fd9104bf2b8bd0c7a902e0115",
            "placeholder": "​",
            "style": "IPY_MODEL_ec2713c59cfd49ef941bd551141e9711",
            "value": "README.md: 100%"
          }
        },
        "54afd23feb694d6eb766565d4c0eaa16": {
          "model_module": "@jupyter-widgets/controls",
          "model_name": "FloatProgressModel",
          "model_module_version": "1.5.0",
          "state": {
            "_dom_classes": [],
            "_model_module": "@jupyter-widgets/controls",
            "_model_module_version": "1.5.0",
            "_model_name": "FloatProgressModel",
            "_view_count": null,
            "_view_module": "@jupyter-widgets/controls",
            "_view_module_version": "1.5.0",
            "_view_name": "ProgressView",
            "bar_style": "success",
            "description": "",
            "description_tooltip": null,
            "layout": "IPY_MODEL_82ac7f97eeb64e9b90f96fac63f35e05",
            "max": 332,
            "min": 0,
            "orientation": "horizontal",
            "style": "IPY_MODEL_9c88305048ec4ef18cb974a0ac3c89a4",
            "value": 332
          }
        },
        "f6697dd13e8b411a92e0fe890f86ed74": {
          "model_module": "@jupyter-widgets/controls",
          "model_name": "HTMLModel",
          "model_module_version": "1.5.0",
          "state": {
            "_dom_classes": [],
            "_model_module": "@jupyter-widgets/controls",
            "_model_module_version": "1.5.0",
            "_model_name": "HTMLModel",
            "_view_count": null,
            "_view_module": "@jupyter-widgets/controls",
            "_view_module_version": "1.5.0",
            "_view_name": "HTMLView",
            "description": "",
            "description_tooltip": null,
            "layout": "IPY_MODEL_8c3856a7dc7e4da4bc71feed776564ae",
            "placeholder": "​",
            "style": "IPY_MODEL_bdc6f6357425433c94b030feb5a32413",
            "value": " 332/332 [00:00&lt;00:00, 31.5kB/s]"
          }
        },
        "7c4958ab2c97452a8395cdaa225e6ed2": {
          "model_module": "@jupyter-widgets/base",
          "model_name": "LayoutModel",
          "model_module_version": "1.2.0",
          "state": {
            "_model_module": "@jupyter-widgets/base",
            "_model_module_version": "1.2.0",
            "_model_name": "LayoutModel",
            "_view_count": null,
            "_view_module": "@jupyter-widgets/base",
            "_view_module_version": "1.2.0",
            "_view_name": "LayoutView",
            "align_content": null,
            "align_items": null,
            "align_self": null,
            "border": null,
            "bottom": null,
            "display": null,
            "flex": null,
            "flex_flow": null,
            "grid_area": null,
            "grid_auto_columns": null,
            "grid_auto_flow": null,
            "grid_auto_rows": null,
            "grid_column": null,
            "grid_gap": null,
            "grid_row": null,
            "grid_template_areas": null,
            "grid_template_columns": null,
            "grid_template_rows": null,
            "height": null,
            "justify_content": null,
            "justify_items": null,
            "left": null,
            "margin": null,
            "max_height": null,
            "max_width": null,
            "min_height": null,
            "min_width": null,
            "object_fit": null,
            "object_position": null,
            "order": null,
            "overflow": null,
            "overflow_x": null,
            "overflow_y": null,
            "padding": null,
            "right": null,
            "top": null,
            "visibility": null,
            "width": null
          }
        },
        "5e3e681fd9104bf2b8bd0c7a902e0115": {
          "model_module": "@jupyter-widgets/base",
          "model_name": "LayoutModel",
          "model_module_version": "1.2.0",
          "state": {
            "_model_module": "@jupyter-widgets/base",
            "_model_module_version": "1.2.0",
            "_model_name": "LayoutModel",
            "_view_count": null,
            "_view_module": "@jupyter-widgets/base",
            "_view_module_version": "1.2.0",
            "_view_name": "LayoutView",
            "align_content": null,
            "align_items": null,
            "align_self": null,
            "border": null,
            "bottom": null,
            "display": null,
            "flex": null,
            "flex_flow": null,
            "grid_area": null,
            "grid_auto_columns": null,
            "grid_auto_flow": null,
            "grid_auto_rows": null,
            "grid_column": null,
            "grid_gap": null,
            "grid_row": null,
            "grid_template_areas": null,
            "grid_template_columns": null,
            "grid_template_rows": null,
            "height": null,
            "justify_content": null,
            "justify_items": null,
            "left": null,
            "margin": null,
            "max_height": null,
            "max_width": null,
            "min_height": null,
            "min_width": null,
            "object_fit": null,
            "object_position": null,
            "order": null,
            "overflow": null,
            "overflow_x": null,
            "overflow_y": null,
            "padding": null,
            "right": null,
            "top": null,
            "visibility": null,
            "width": null
          }
        },
        "ec2713c59cfd49ef941bd551141e9711": {
          "model_module": "@jupyter-widgets/controls",
          "model_name": "DescriptionStyleModel",
          "model_module_version": "1.5.0",
          "state": {
            "_model_module": "@jupyter-widgets/controls",
            "_model_module_version": "1.5.0",
            "_model_name": "DescriptionStyleModel",
            "_view_count": null,
            "_view_module": "@jupyter-widgets/base",
            "_view_module_version": "1.2.0",
            "_view_name": "StyleView",
            "description_width": ""
          }
        },
        "82ac7f97eeb64e9b90f96fac63f35e05": {
          "model_module": "@jupyter-widgets/base",
          "model_name": "LayoutModel",
          "model_module_version": "1.2.0",
          "state": {
            "_model_module": "@jupyter-widgets/base",
            "_model_module_version": "1.2.0",
            "_model_name": "LayoutModel",
            "_view_count": null,
            "_view_module": "@jupyter-widgets/base",
            "_view_module_version": "1.2.0",
            "_view_name": "LayoutView",
            "align_content": null,
            "align_items": null,
            "align_self": null,
            "border": null,
            "bottom": null,
            "display": null,
            "flex": null,
            "flex_flow": null,
            "grid_area": null,
            "grid_auto_columns": null,
            "grid_auto_flow": null,
            "grid_auto_rows": null,
            "grid_column": null,
            "grid_gap": null,
            "grid_row": null,
            "grid_template_areas": null,
            "grid_template_columns": null,
            "grid_template_rows": null,
            "height": null,
            "justify_content": null,
            "justify_items": null,
            "left": null,
            "margin": null,
            "max_height": null,
            "max_width": null,
            "min_height": null,
            "min_width": null,
            "object_fit": null,
            "object_position": null,
            "order": null,
            "overflow": null,
            "overflow_x": null,
            "overflow_y": null,
            "padding": null,
            "right": null,
            "top": null,
            "visibility": null,
            "width": null
          }
        },
        "9c88305048ec4ef18cb974a0ac3c89a4": {
          "model_module": "@jupyter-widgets/controls",
          "model_name": "ProgressStyleModel",
          "model_module_version": "1.5.0",
          "state": {
            "_model_module": "@jupyter-widgets/controls",
            "_model_module_version": "1.5.0",
            "_model_name": "ProgressStyleModel",
            "_view_count": null,
            "_view_module": "@jupyter-widgets/base",
            "_view_module_version": "1.2.0",
            "_view_name": "StyleView",
            "bar_color": null,
            "description_width": ""
          }
        },
        "8c3856a7dc7e4da4bc71feed776564ae": {
          "model_module": "@jupyter-widgets/base",
          "model_name": "LayoutModel",
          "model_module_version": "1.2.0",
          "state": {
            "_model_module": "@jupyter-widgets/base",
            "_model_module_version": "1.2.0",
            "_model_name": "LayoutModel",
            "_view_count": null,
            "_view_module": "@jupyter-widgets/base",
            "_view_module_version": "1.2.0",
            "_view_name": "LayoutView",
            "align_content": null,
            "align_items": null,
            "align_self": null,
            "border": null,
            "bottom": null,
            "display": null,
            "flex": null,
            "flex_flow": null,
            "grid_area": null,
            "grid_auto_columns": null,
            "grid_auto_flow": null,
            "grid_auto_rows": null,
            "grid_column": null,
            "grid_gap": null,
            "grid_row": null,
            "grid_template_areas": null,
            "grid_template_columns": null,
            "grid_template_rows": null,
            "height": null,
            "justify_content": null,
            "justify_items": null,
            "left": null,
            "margin": null,
            "max_height": null,
            "max_width": null,
            "min_height": null,
            "min_width": null,
            "object_fit": null,
            "object_position": null,
            "order": null,
            "overflow": null,
            "overflow_x": null,
            "overflow_y": null,
            "padding": null,
            "right": null,
            "top": null,
            "visibility": null,
            "width": null
          }
        },
        "bdc6f6357425433c94b030feb5a32413": {
          "model_module": "@jupyter-widgets/controls",
          "model_name": "DescriptionStyleModel",
          "model_module_version": "1.5.0",
          "state": {
            "_model_module": "@jupyter-widgets/controls",
            "_model_module_version": "1.5.0",
            "_model_name": "DescriptionStyleModel",
            "_view_count": null,
            "_view_module": "@jupyter-widgets/base",
            "_view_module_version": "1.2.0",
            "_view_name": "StyleView",
            "description_width": ""
          }
        },
        "59fe70a331db4b5d922c6cd3a87a6e64": {
          "model_module": "@jupyter-widgets/controls",
          "model_name": "HBoxModel",
          "model_module_version": "1.5.0",
          "state": {
            "_dom_classes": [],
            "_model_module": "@jupyter-widgets/controls",
            "_model_module_version": "1.5.0",
            "_model_name": "HBoxModel",
            "_view_count": null,
            "_view_module": "@jupyter-widgets/controls",
            "_view_module_version": "1.5.0",
            "_view_name": "HBoxView",
            "box_style": "",
            "children": [
              "IPY_MODEL_c9f9167a794a4077a9ff4d41d01068ed",
              "IPY_MODEL_4ca49b9369e04044bbfdd1295a5a87ac",
              "IPY_MODEL_2d798086ae13475bbc65bbc0b7c0fc56"
            ],
            "layout": "IPY_MODEL_e0c3179d0e4b416fb50f8c153206710a"
          }
        },
        "c9f9167a794a4077a9ff4d41d01068ed": {
          "model_module": "@jupyter-widgets/controls",
          "model_name": "HTMLModel",
          "model_module_version": "1.5.0",
          "state": {
            "_dom_classes": [],
            "_model_module": "@jupyter-widgets/controls",
            "_model_module_version": "1.5.0",
            "_model_name": "HTMLModel",
            "_view_count": null,
            "_view_module": "@jupyter-widgets/controls",
            "_view_module_version": "1.5.0",
            "_view_name": "HTMLView",
            "description": "",
            "description_tooltip": null,
            "layout": "IPY_MODEL_2ec5435e03f74027b5878a1150c604ca",
            "placeholder": "​",
            "style": "IPY_MODEL_7d8a795bdd2440d582b40125b7ebb9be",
            "value": "train-00000-of-00001.parquet: 100%"
          }
        },
        "4ca49b9369e04044bbfdd1295a5a87ac": {
          "model_module": "@jupyter-widgets/controls",
          "model_name": "FloatProgressModel",
          "model_module_version": "1.5.0",
          "state": {
            "_dom_classes": [],
            "_model_module": "@jupyter-widgets/controls",
            "_model_module_version": "1.5.0",
            "_model_name": "FloatProgressModel",
            "_view_count": null,
            "_view_module": "@jupyter-widgets/controls",
            "_view_module_version": "1.5.0",
            "_view_name": "ProgressView",
            "bar_style": "success",
            "description": "",
            "description_tooltip": null,
            "layout": "IPY_MODEL_0f165d94734d4b91afe84c7d2e992997",
            "max": 5871164,
            "min": 0,
            "orientation": "horizontal",
            "style": "IPY_MODEL_3b7ba2da767148a687c4ed972f906705",
            "value": 5871164
          }
        },
        "2d798086ae13475bbc65bbc0b7c0fc56": {
          "model_module": "@jupyter-widgets/controls",
          "model_name": "HTMLModel",
          "model_module_version": "1.5.0",
          "state": {
            "_dom_classes": [],
            "_model_module": "@jupyter-widgets/controls",
            "_model_module_version": "1.5.0",
            "_model_name": "HTMLModel",
            "_view_count": null,
            "_view_module": "@jupyter-widgets/controls",
            "_view_module_version": "1.5.0",
            "_view_name": "HTMLView",
            "description": "",
            "description_tooltip": null,
            "layout": "IPY_MODEL_1edc28109b5c4ef7ba448fd906d324d4",
            "placeholder": "​",
            "style": "IPY_MODEL_93246ee5ac16424198dcbf3244fc8a59",
            "value": " 5.87M/5.87M [00:00&lt;00:00, 87.9MB/s]"
          }
        },
        "e0c3179d0e4b416fb50f8c153206710a": {
          "model_module": "@jupyter-widgets/base",
          "model_name": "LayoutModel",
          "model_module_version": "1.2.0",
          "state": {
            "_model_module": "@jupyter-widgets/base",
            "_model_module_version": "1.2.0",
            "_model_name": "LayoutModel",
            "_view_count": null,
            "_view_module": "@jupyter-widgets/base",
            "_view_module_version": "1.2.0",
            "_view_name": "LayoutView",
            "align_content": null,
            "align_items": null,
            "align_self": null,
            "border": null,
            "bottom": null,
            "display": null,
            "flex": null,
            "flex_flow": null,
            "grid_area": null,
            "grid_auto_columns": null,
            "grid_auto_flow": null,
            "grid_auto_rows": null,
            "grid_column": null,
            "grid_gap": null,
            "grid_row": null,
            "grid_template_areas": null,
            "grid_template_columns": null,
            "grid_template_rows": null,
            "height": null,
            "justify_content": null,
            "justify_items": null,
            "left": null,
            "margin": null,
            "max_height": null,
            "max_width": null,
            "min_height": null,
            "min_width": null,
            "object_fit": null,
            "object_position": null,
            "order": null,
            "overflow": null,
            "overflow_x": null,
            "overflow_y": null,
            "padding": null,
            "right": null,
            "top": null,
            "visibility": null,
            "width": null
          }
        },
        "2ec5435e03f74027b5878a1150c604ca": {
          "model_module": "@jupyter-widgets/base",
          "model_name": "LayoutModel",
          "model_module_version": "1.2.0",
          "state": {
            "_model_module": "@jupyter-widgets/base",
            "_model_module_version": "1.2.0",
            "_model_name": "LayoutModel",
            "_view_count": null,
            "_view_module": "@jupyter-widgets/base",
            "_view_module_version": "1.2.0",
            "_view_name": "LayoutView",
            "align_content": null,
            "align_items": null,
            "align_self": null,
            "border": null,
            "bottom": null,
            "display": null,
            "flex": null,
            "flex_flow": null,
            "grid_area": null,
            "grid_auto_columns": null,
            "grid_auto_flow": null,
            "grid_auto_rows": null,
            "grid_column": null,
            "grid_gap": null,
            "grid_row": null,
            "grid_template_areas": null,
            "grid_template_columns": null,
            "grid_template_rows": null,
            "height": null,
            "justify_content": null,
            "justify_items": null,
            "left": null,
            "margin": null,
            "max_height": null,
            "max_width": null,
            "min_height": null,
            "min_width": null,
            "object_fit": null,
            "object_position": null,
            "order": null,
            "overflow": null,
            "overflow_x": null,
            "overflow_y": null,
            "padding": null,
            "right": null,
            "top": null,
            "visibility": null,
            "width": null
          }
        },
        "7d8a795bdd2440d582b40125b7ebb9be": {
          "model_module": "@jupyter-widgets/controls",
          "model_name": "DescriptionStyleModel",
          "model_module_version": "1.5.0",
          "state": {
            "_model_module": "@jupyter-widgets/controls",
            "_model_module_version": "1.5.0",
            "_model_name": "DescriptionStyleModel",
            "_view_count": null,
            "_view_module": "@jupyter-widgets/base",
            "_view_module_version": "1.2.0",
            "_view_name": "StyleView",
            "description_width": ""
          }
        },
        "0f165d94734d4b91afe84c7d2e992997": {
          "model_module": "@jupyter-widgets/base",
          "model_name": "LayoutModel",
          "model_module_version": "1.2.0",
          "state": {
            "_model_module": "@jupyter-widgets/base",
            "_model_module_version": "1.2.0",
            "_model_name": "LayoutModel",
            "_view_count": null,
            "_view_module": "@jupyter-widgets/base",
            "_view_module_version": "1.2.0",
            "_view_name": "LayoutView",
            "align_content": null,
            "align_items": null,
            "align_self": null,
            "border": null,
            "bottom": null,
            "display": null,
            "flex": null,
            "flex_flow": null,
            "grid_area": null,
            "grid_auto_columns": null,
            "grid_auto_flow": null,
            "grid_auto_rows": null,
            "grid_column": null,
            "grid_gap": null,
            "grid_row": null,
            "grid_template_areas": null,
            "grid_template_columns": null,
            "grid_template_rows": null,
            "height": null,
            "justify_content": null,
            "justify_items": null,
            "left": null,
            "margin": null,
            "max_height": null,
            "max_width": null,
            "min_height": null,
            "min_width": null,
            "object_fit": null,
            "object_position": null,
            "order": null,
            "overflow": null,
            "overflow_x": null,
            "overflow_y": null,
            "padding": null,
            "right": null,
            "top": null,
            "visibility": null,
            "width": null
          }
        },
        "3b7ba2da767148a687c4ed972f906705": {
          "model_module": "@jupyter-widgets/controls",
          "model_name": "ProgressStyleModel",
          "model_module_version": "1.5.0",
          "state": {
            "_model_module": "@jupyter-widgets/controls",
            "_model_module_version": "1.5.0",
            "_model_name": "ProgressStyleModel",
            "_view_count": null,
            "_view_module": "@jupyter-widgets/base",
            "_view_module_version": "1.2.0",
            "_view_name": "StyleView",
            "bar_color": null,
            "description_width": ""
          }
        },
        "1edc28109b5c4ef7ba448fd906d324d4": {
          "model_module": "@jupyter-widgets/base",
          "model_name": "LayoutModel",
          "model_module_version": "1.2.0",
          "state": {
            "_model_module": "@jupyter-widgets/base",
            "_model_module_version": "1.2.0",
            "_model_name": "LayoutModel",
            "_view_count": null,
            "_view_module": "@jupyter-widgets/base",
            "_view_module_version": "1.2.0",
            "_view_name": "LayoutView",
            "align_content": null,
            "align_items": null,
            "align_self": null,
            "border": null,
            "bottom": null,
            "display": null,
            "flex": null,
            "flex_flow": null,
            "grid_area": null,
            "grid_auto_columns": null,
            "grid_auto_flow": null,
            "grid_auto_rows": null,
            "grid_column": null,
            "grid_gap": null,
            "grid_row": null,
            "grid_template_areas": null,
            "grid_template_columns": null,
            "grid_template_rows": null,
            "height": null,
            "justify_content": null,
            "justify_items": null,
            "left": null,
            "margin": null,
            "max_height": null,
            "max_width": null,
            "min_height": null,
            "min_width": null,
            "object_fit": null,
            "object_position": null,
            "order": null,
            "overflow": null,
            "overflow_x": null,
            "overflow_y": null,
            "padding": null,
            "right": null,
            "top": null,
            "visibility": null,
            "width": null
          }
        },
        "93246ee5ac16424198dcbf3244fc8a59": {
          "model_module": "@jupyter-widgets/controls",
          "model_name": "DescriptionStyleModel",
          "model_module_version": "1.5.0",
          "state": {
            "_model_module": "@jupyter-widgets/controls",
            "_model_module_version": "1.5.0",
            "_model_name": "DescriptionStyleModel",
            "_view_count": null,
            "_view_module": "@jupyter-widgets/base",
            "_view_module_version": "1.2.0",
            "_view_name": "StyleView",
            "description_width": ""
          }
        },
        "0ffd9739333c4ab1aa9e968df8ccba9c": {
          "model_module": "@jupyter-widgets/controls",
          "model_name": "HBoxModel",
          "model_module_version": "1.5.0",
          "state": {
            "_dom_classes": [],
            "_model_module": "@jupyter-widgets/controls",
            "_model_module_version": "1.5.0",
            "_model_name": "HBoxModel",
            "_view_count": null,
            "_view_module": "@jupyter-widgets/controls",
            "_view_module_version": "1.5.0",
            "_view_name": "HBoxView",
            "box_style": "",
            "children": [
              "IPY_MODEL_58cf8d9b848c478da57059a8c900bb57",
              "IPY_MODEL_af13879bfef24fcabce24abe21103ed8",
              "IPY_MODEL_d56be52ac8ed43a6a6ab6b7c44b3d83c"
            ],
            "layout": "IPY_MODEL_342ed9bcf39b4ec9ae00bb35bbc598c6"
          }
        },
        "58cf8d9b848c478da57059a8c900bb57": {
          "model_module": "@jupyter-widgets/controls",
          "model_name": "HTMLModel",
          "model_module_version": "1.5.0",
          "state": {
            "_dom_classes": [],
            "_model_module": "@jupyter-widgets/controls",
            "_model_module_version": "1.5.0",
            "_model_name": "HTMLModel",
            "_view_count": null,
            "_view_module": "@jupyter-widgets/controls",
            "_view_module_version": "1.5.0",
            "_view_name": "HTMLView",
            "description": "",
            "description_tooltip": null,
            "layout": "IPY_MODEL_e07199be98b345a6995481dbd75e2c84",
            "placeholder": "​",
            "style": "IPY_MODEL_5c3b0dfa7ac044879bd9355d4c9348d4",
            "value": "Generating train split: 100%"
          }
        },
        "af13879bfef24fcabce24abe21103ed8": {
          "model_module": "@jupyter-widgets/controls",
          "model_name": "FloatProgressModel",
          "model_module_version": "1.5.0",
          "state": {
            "_dom_classes": [],
            "_model_module": "@jupyter-widgets/controls",
            "_model_module_version": "1.5.0",
            "_model_name": "FloatProgressModel",
            "_view_count": null,
            "_view_module": "@jupyter-widgets/controls",
            "_view_module_version": "1.5.0",
            "_view_name": "ProgressView",
            "bar_style": "success",
            "description": "",
            "description_tooltip": null,
            "layout": "IPY_MODEL_e572377643c5420a8413b4e51610f18e",
            "max": 30000,
            "min": 0,
            "orientation": "horizontal",
            "style": "IPY_MODEL_5a7a193d5c014fe88ac26c0f59a39f9e",
            "value": 30000
          }
        },
        "d56be52ac8ed43a6a6ab6b7c44b3d83c": {
          "model_module": "@jupyter-widgets/controls",
          "model_name": "HTMLModel",
          "model_module_version": "1.5.0",
          "state": {
            "_dom_classes": [],
            "_model_module": "@jupyter-widgets/controls",
            "_model_module_version": "1.5.0",
            "_model_name": "HTMLModel",
            "_view_count": null,
            "_view_module": "@jupyter-widgets/controls",
            "_view_module_version": "1.5.0",
            "_view_name": "HTMLView",
            "description": "",
            "description_tooltip": null,
            "layout": "IPY_MODEL_0875ac5306fc4e2298cae99bfcabdc31",
            "placeholder": "​",
            "style": "IPY_MODEL_43f7eb29b2fd4428b361a6c666e48f29",
            "value": " 30000/30000 [00:00&lt;00:00, 8540.94 examples/s]"
          }
        },
        "342ed9bcf39b4ec9ae00bb35bbc598c6": {
          "model_module": "@jupyter-widgets/base",
          "model_name": "LayoutModel",
          "model_module_version": "1.2.0",
          "state": {
            "_model_module": "@jupyter-widgets/base",
            "_model_module_version": "1.2.0",
            "_model_name": "LayoutModel",
            "_view_count": null,
            "_view_module": "@jupyter-widgets/base",
            "_view_module_version": "1.2.0",
            "_view_name": "LayoutView",
            "align_content": null,
            "align_items": null,
            "align_self": null,
            "border": null,
            "bottom": null,
            "display": null,
            "flex": null,
            "flex_flow": null,
            "grid_area": null,
            "grid_auto_columns": null,
            "grid_auto_flow": null,
            "grid_auto_rows": null,
            "grid_column": null,
            "grid_gap": null,
            "grid_row": null,
            "grid_template_areas": null,
            "grid_template_columns": null,
            "grid_template_rows": null,
            "height": null,
            "justify_content": null,
            "justify_items": null,
            "left": null,
            "margin": null,
            "max_height": null,
            "max_width": null,
            "min_height": null,
            "min_width": null,
            "object_fit": null,
            "object_position": null,
            "order": null,
            "overflow": null,
            "overflow_x": null,
            "overflow_y": null,
            "padding": null,
            "right": null,
            "top": null,
            "visibility": null,
            "width": null
          }
        },
        "e07199be98b345a6995481dbd75e2c84": {
          "model_module": "@jupyter-widgets/base",
          "model_name": "LayoutModel",
          "model_module_version": "1.2.0",
          "state": {
            "_model_module": "@jupyter-widgets/base",
            "_model_module_version": "1.2.0",
            "_model_name": "LayoutModel",
            "_view_count": null,
            "_view_module": "@jupyter-widgets/base",
            "_view_module_version": "1.2.0",
            "_view_name": "LayoutView",
            "align_content": null,
            "align_items": null,
            "align_self": null,
            "border": null,
            "bottom": null,
            "display": null,
            "flex": null,
            "flex_flow": null,
            "grid_area": null,
            "grid_auto_columns": null,
            "grid_auto_flow": null,
            "grid_auto_rows": null,
            "grid_column": null,
            "grid_gap": null,
            "grid_row": null,
            "grid_template_areas": null,
            "grid_template_columns": null,
            "grid_template_rows": null,
            "height": null,
            "justify_content": null,
            "justify_items": null,
            "left": null,
            "margin": null,
            "max_height": null,
            "max_width": null,
            "min_height": null,
            "min_width": null,
            "object_fit": null,
            "object_position": null,
            "order": null,
            "overflow": null,
            "overflow_x": null,
            "overflow_y": null,
            "padding": null,
            "right": null,
            "top": null,
            "visibility": null,
            "width": null
          }
        },
        "5c3b0dfa7ac044879bd9355d4c9348d4": {
          "model_module": "@jupyter-widgets/controls",
          "model_name": "DescriptionStyleModel",
          "model_module_version": "1.5.0",
          "state": {
            "_model_module": "@jupyter-widgets/controls",
            "_model_module_version": "1.5.0",
            "_model_name": "DescriptionStyleModel",
            "_view_count": null,
            "_view_module": "@jupyter-widgets/base",
            "_view_module_version": "1.2.0",
            "_view_name": "StyleView",
            "description_width": ""
          }
        },
        "e572377643c5420a8413b4e51610f18e": {
          "model_module": "@jupyter-widgets/base",
          "model_name": "LayoutModel",
          "model_module_version": "1.2.0",
          "state": {
            "_model_module": "@jupyter-widgets/base",
            "_model_module_version": "1.2.0",
            "_model_name": "LayoutModel",
            "_view_count": null,
            "_view_module": "@jupyter-widgets/base",
            "_view_module_version": "1.2.0",
            "_view_name": "LayoutView",
            "align_content": null,
            "align_items": null,
            "align_self": null,
            "border": null,
            "bottom": null,
            "display": null,
            "flex": null,
            "flex_flow": null,
            "grid_area": null,
            "grid_auto_columns": null,
            "grid_auto_flow": null,
            "grid_auto_rows": null,
            "grid_column": null,
            "grid_gap": null,
            "grid_row": null,
            "grid_template_areas": null,
            "grid_template_columns": null,
            "grid_template_rows": null,
            "height": null,
            "justify_content": null,
            "justify_items": null,
            "left": null,
            "margin": null,
            "max_height": null,
            "max_width": null,
            "min_height": null,
            "min_width": null,
            "object_fit": null,
            "object_position": null,
            "order": null,
            "overflow": null,
            "overflow_x": null,
            "overflow_y": null,
            "padding": null,
            "right": null,
            "top": null,
            "visibility": null,
            "width": null
          }
        },
        "5a7a193d5c014fe88ac26c0f59a39f9e": {
          "model_module": "@jupyter-widgets/controls",
          "model_name": "ProgressStyleModel",
          "model_module_version": "1.5.0",
          "state": {
            "_model_module": "@jupyter-widgets/controls",
            "_model_module_version": "1.5.0",
            "_model_name": "ProgressStyleModel",
            "_view_count": null,
            "_view_module": "@jupyter-widgets/base",
            "_view_module_version": "1.2.0",
            "_view_name": "StyleView",
            "bar_color": null,
            "description_width": ""
          }
        },
        "0875ac5306fc4e2298cae99bfcabdc31": {
          "model_module": "@jupyter-widgets/base",
          "model_name": "LayoutModel",
          "model_module_version": "1.2.0",
          "state": {
            "_model_module": "@jupyter-widgets/base",
            "_model_module_version": "1.2.0",
            "_model_name": "LayoutModel",
            "_view_count": null,
            "_view_module": "@jupyter-widgets/base",
            "_view_module_version": "1.2.0",
            "_view_name": "LayoutView",
            "align_content": null,
            "align_items": null,
            "align_self": null,
            "border": null,
            "bottom": null,
            "display": null,
            "flex": null,
            "flex_flow": null,
            "grid_area": null,
            "grid_auto_columns": null,
            "grid_auto_flow": null,
            "grid_auto_rows": null,
            "grid_column": null,
            "grid_gap": null,
            "grid_row": null,
            "grid_template_areas": null,
            "grid_template_columns": null,
            "grid_template_rows": null,
            "height": null,
            "justify_content": null,
            "justify_items": null,
            "left": null,
            "margin": null,
            "max_height": null,
            "max_width": null,
            "min_height": null,
            "min_width": null,
            "object_fit": null,
            "object_position": null,
            "order": null,
            "overflow": null,
            "overflow_x": null,
            "overflow_y": null,
            "padding": null,
            "right": null,
            "top": null,
            "visibility": null,
            "width": null
          }
        },
        "43f7eb29b2fd4428b361a6c666e48f29": {
          "model_module": "@jupyter-widgets/controls",
          "model_name": "DescriptionStyleModel",
          "model_module_version": "1.5.0",
          "state": {
            "_model_module": "@jupyter-widgets/controls",
            "_model_module_version": "1.5.0",
            "_model_name": "DescriptionStyleModel",
            "_view_count": null,
            "_view_module": "@jupyter-widgets/base",
            "_view_module_version": "1.2.0",
            "_view_name": "StyleView",
            "description_width": ""
          }
        },
        "2a1b9264bb844cd89b856353cf2f175c": {
          "model_module": "@jupyter-widgets/controls",
          "model_name": "HBoxModel",
          "model_module_version": "1.5.0",
          "state": {
            "_dom_classes": [],
            "_model_module": "@jupyter-widgets/controls",
            "_model_module_version": "1.5.0",
            "_model_name": "HBoxModel",
            "_view_count": null,
            "_view_module": "@jupyter-widgets/controls",
            "_view_module_version": "1.5.0",
            "_view_name": "HBoxView",
            "box_style": "",
            "children": [
              "IPY_MODEL_699967587a25463ea936f7d1b278ea89",
              "IPY_MODEL_d492e986dec744eca9f881b825b9cc1b",
              "IPY_MODEL_d76d5e8df77f4f00a2d489d884aa4715"
            ],
            "layout": "IPY_MODEL_660dd077ffda4c8993d78d64ca30ffac"
          }
        },
        "699967587a25463ea936f7d1b278ea89": {
          "model_module": "@jupyter-widgets/controls",
          "model_name": "HTMLModel",
          "model_module_version": "1.5.0",
          "state": {
            "_dom_classes": [],
            "_model_module": "@jupyter-widgets/controls",
            "_model_module_version": "1.5.0",
            "_model_name": "HTMLModel",
            "_view_count": null,
            "_view_module": "@jupyter-widgets/controls",
            "_view_module_version": "1.5.0",
            "_view_name": "HTMLView",
            "description": "",
            "description_tooltip": null,
            "layout": "IPY_MODEL_bbe30af8beb249179dbc430f2627bf52",
            "placeholder": "​",
            "style": "IPY_MODEL_7b82bc579f7044b8851dc7c3e14e5dc3",
            "value": "Unsloth: Tokenizing [&quot;text&quot;] (num_proc=4): 100%"
          }
        },
        "d492e986dec744eca9f881b825b9cc1b": {
          "model_module": "@jupyter-widgets/controls",
          "model_name": "FloatProgressModel",
          "model_module_version": "1.5.0",
          "state": {
            "_dom_classes": [],
            "_model_module": "@jupyter-widgets/controls",
            "_model_module_version": "1.5.0",
            "_model_name": "FloatProgressModel",
            "_view_count": null,
            "_view_module": "@jupyter-widgets/controls",
            "_view_module_version": "1.5.0",
            "_view_name": "ProgressView",
            "bar_style": "success",
            "description": "",
            "description_tooltip": null,
            "layout": "IPY_MODEL_a06f363fa8b040ce8f22e6a15d5958eb",
            "max": 28500,
            "min": 0,
            "orientation": "horizontal",
            "style": "IPY_MODEL_b137f6cc64ef4bb2af846232e7cd4263",
            "value": 28500
          }
        },
        "d76d5e8df77f4f00a2d489d884aa4715": {
          "model_module": "@jupyter-widgets/controls",
          "model_name": "HTMLModel",
          "model_module_version": "1.5.0",
          "state": {
            "_dom_classes": [],
            "_model_module": "@jupyter-widgets/controls",
            "_model_module_version": "1.5.0",
            "_model_name": "HTMLModel",
            "_view_count": null,
            "_view_module": "@jupyter-widgets/controls",
            "_view_module_version": "1.5.0",
            "_view_name": "HTMLView",
            "description": "",
            "description_tooltip": null,
            "layout": "IPY_MODEL_89270e432bc9411fa54e74847e48f8c7",
            "placeholder": "​",
            "style": "IPY_MODEL_98cfec2f0f0e4ebc844f1cdb61fe07bf",
            "value": " 28500/28500 [00:20&lt;00:00, 2574.21 examples/s]"
          }
        },
        "660dd077ffda4c8993d78d64ca30ffac": {
          "model_module": "@jupyter-widgets/base",
          "model_name": "LayoutModel",
          "model_module_version": "1.2.0",
          "state": {
            "_model_module": "@jupyter-widgets/base",
            "_model_module_version": "1.2.0",
            "_model_name": "LayoutModel",
            "_view_count": null,
            "_view_module": "@jupyter-widgets/base",
            "_view_module_version": "1.2.0",
            "_view_name": "LayoutView",
            "align_content": null,
            "align_items": null,
            "align_self": null,
            "border": null,
            "bottom": null,
            "display": null,
            "flex": null,
            "flex_flow": null,
            "grid_area": null,
            "grid_auto_columns": null,
            "grid_auto_flow": null,
            "grid_auto_rows": null,
            "grid_column": null,
            "grid_gap": null,
            "grid_row": null,
            "grid_template_areas": null,
            "grid_template_columns": null,
            "grid_template_rows": null,
            "height": null,
            "justify_content": null,
            "justify_items": null,
            "left": null,
            "margin": null,
            "max_height": null,
            "max_width": null,
            "min_height": null,
            "min_width": null,
            "object_fit": null,
            "object_position": null,
            "order": null,
            "overflow": null,
            "overflow_x": null,
            "overflow_y": null,
            "padding": null,
            "right": null,
            "top": null,
            "visibility": null,
            "width": null
          }
        },
        "bbe30af8beb249179dbc430f2627bf52": {
          "model_module": "@jupyter-widgets/base",
          "model_name": "LayoutModel",
          "model_module_version": "1.2.0",
          "state": {
            "_model_module": "@jupyter-widgets/base",
            "_model_module_version": "1.2.0",
            "_model_name": "LayoutModel",
            "_view_count": null,
            "_view_module": "@jupyter-widgets/base",
            "_view_module_version": "1.2.0",
            "_view_name": "LayoutView",
            "align_content": null,
            "align_items": null,
            "align_self": null,
            "border": null,
            "bottom": null,
            "display": null,
            "flex": null,
            "flex_flow": null,
            "grid_area": null,
            "grid_auto_columns": null,
            "grid_auto_flow": null,
            "grid_auto_rows": null,
            "grid_column": null,
            "grid_gap": null,
            "grid_row": null,
            "grid_template_areas": null,
            "grid_template_columns": null,
            "grid_template_rows": null,
            "height": null,
            "justify_content": null,
            "justify_items": null,
            "left": null,
            "margin": null,
            "max_height": null,
            "max_width": null,
            "min_height": null,
            "min_width": null,
            "object_fit": null,
            "object_position": null,
            "order": null,
            "overflow": null,
            "overflow_x": null,
            "overflow_y": null,
            "padding": null,
            "right": null,
            "top": null,
            "visibility": null,
            "width": null
          }
        },
        "7b82bc579f7044b8851dc7c3e14e5dc3": {
          "model_module": "@jupyter-widgets/controls",
          "model_name": "DescriptionStyleModel",
          "model_module_version": "1.5.0",
          "state": {
            "_model_module": "@jupyter-widgets/controls",
            "_model_module_version": "1.5.0",
            "_model_name": "DescriptionStyleModel",
            "_view_count": null,
            "_view_module": "@jupyter-widgets/base",
            "_view_module_version": "1.2.0",
            "_view_name": "StyleView",
            "description_width": ""
          }
        },
        "a06f363fa8b040ce8f22e6a15d5958eb": {
          "model_module": "@jupyter-widgets/base",
          "model_name": "LayoutModel",
          "model_module_version": "1.2.0",
          "state": {
            "_model_module": "@jupyter-widgets/base",
            "_model_module_version": "1.2.0",
            "_model_name": "LayoutModel",
            "_view_count": null,
            "_view_module": "@jupyter-widgets/base",
            "_view_module_version": "1.2.0",
            "_view_name": "LayoutView",
            "align_content": null,
            "align_items": null,
            "align_self": null,
            "border": null,
            "bottom": null,
            "display": null,
            "flex": null,
            "flex_flow": null,
            "grid_area": null,
            "grid_auto_columns": null,
            "grid_auto_flow": null,
            "grid_auto_rows": null,
            "grid_column": null,
            "grid_gap": null,
            "grid_row": null,
            "grid_template_areas": null,
            "grid_template_columns": null,
            "grid_template_rows": null,
            "height": null,
            "justify_content": null,
            "justify_items": null,
            "left": null,
            "margin": null,
            "max_height": null,
            "max_width": null,
            "min_height": null,
            "min_width": null,
            "object_fit": null,
            "object_position": null,
            "order": null,
            "overflow": null,
            "overflow_x": null,
            "overflow_y": null,
            "padding": null,
            "right": null,
            "top": null,
            "visibility": null,
            "width": null
          }
        },
        "b137f6cc64ef4bb2af846232e7cd4263": {
          "model_module": "@jupyter-widgets/controls",
          "model_name": "ProgressStyleModel",
          "model_module_version": "1.5.0",
          "state": {
            "_model_module": "@jupyter-widgets/controls",
            "_model_module_version": "1.5.0",
            "_model_name": "ProgressStyleModel",
            "_view_count": null,
            "_view_module": "@jupyter-widgets/base",
            "_view_module_version": "1.2.0",
            "_view_name": "StyleView",
            "bar_color": null,
            "description_width": ""
          }
        },
        "89270e432bc9411fa54e74847e48f8c7": {
          "model_module": "@jupyter-widgets/base",
          "model_name": "LayoutModel",
          "model_module_version": "1.2.0",
          "state": {
            "_model_module": "@jupyter-widgets/base",
            "_model_module_version": "1.2.0",
            "_model_name": "LayoutModel",
            "_view_count": null,
            "_view_module": "@jupyter-widgets/base",
            "_view_module_version": "1.2.0",
            "_view_name": "LayoutView",
            "align_content": null,
            "align_items": null,
            "align_self": null,
            "border": null,
            "bottom": null,
            "display": null,
            "flex": null,
            "flex_flow": null,
            "grid_area": null,
            "grid_auto_columns": null,
            "grid_auto_flow": null,
            "grid_auto_rows": null,
            "grid_column": null,
            "grid_gap": null,
            "grid_row": null,
            "grid_template_areas": null,
            "grid_template_columns": null,
            "grid_template_rows": null,
            "height": null,
            "justify_content": null,
            "justify_items": null,
            "left": null,
            "margin": null,
            "max_height": null,
            "max_width": null,
            "min_height": null,
            "min_width": null,
            "object_fit": null,
            "object_position": null,
            "order": null,
            "overflow": null,
            "overflow_x": null,
            "overflow_y": null,
            "padding": null,
            "right": null,
            "top": null,
            "visibility": null,
            "width": null
          }
        },
        "98cfec2f0f0e4ebc844f1cdb61fe07bf": {
          "model_module": "@jupyter-widgets/controls",
          "model_name": "DescriptionStyleModel",
          "model_module_version": "1.5.0",
          "state": {
            "_model_module": "@jupyter-widgets/controls",
            "_model_module_version": "1.5.0",
            "_model_name": "DescriptionStyleModel",
            "_view_count": null,
            "_view_module": "@jupyter-widgets/base",
            "_view_module_version": "1.2.0",
            "_view_name": "StyleView",
            "description_width": ""
          }
        },
        "03e831d55e9f419a8bc46e231c2ea1a9": {
          "model_module": "@jupyter-widgets/controls",
          "model_name": "HBoxModel",
          "model_module_version": "1.5.0",
          "state": {
            "_dom_classes": [],
            "_model_module": "@jupyter-widgets/controls",
            "_model_module_version": "1.5.0",
            "_model_name": "HBoxModel",
            "_view_count": null,
            "_view_module": "@jupyter-widgets/controls",
            "_view_module_version": "1.5.0",
            "_view_name": "HBoxView",
            "box_style": "",
            "children": [
              "IPY_MODEL_00d3ea49f73b4cf6b4261e03e7f71ae4",
              "IPY_MODEL_2f9a4b44a5024a9ea98a961ffd4dfbcd",
              "IPY_MODEL_e7d51dacfc0144d6a40c0a99b3d9f9c1"
            ],
            "layout": "IPY_MODEL_0a5a356fbd584bd49643e09328689cf3"
          }
        },
        "00d3ea49f73b4cf6b4261e03e7f71ae4": {
          "model_module": "@jupyter-widgets/controls",
          "model_name": "HTMLModel",
          "model_module_version": "1.5.0",
          "state": {
            "_dom_classes": [],
            "_model_module": "@jupyter-widgets/controls",
            "_model_module_version": "1.5.0",
            "_model_name": "HTMLModel",
            "_view_count": null,
            "_view_module": "@jupyter-widgets/controls",
            "_view_module_version": "1.5.0",
            "_view_name": "HTMLView",
            "description": "",
            "description_tooltip": null,
            "layout": "IPY_MODEL_c2dfd20990724b5a8be3e89221b0778b",
            "placeholder": "​",
            "style": "IPY_MODEL_76aa20af694e4d71b276b22ba23759a4",
            "value": "Unsloth: Tokenizing [&quot;text&quot;] (num_proc=4): 100%"
          }
        },
        "2f9a4b44a5024a9ea98a961ffd4dfbcd": {
          "model_module": "@jupyter-widgets/controls",
          "model_name": "FloatProgressModel",
          "model_module_version": "1.5.0",
          "state": {
            "_dom_classes": [],
            "_model_module": "@jupyter-widgets/controls",
            "_model_module_version": "1.5.0",
            "_model_name": "FloatProgressModel",
            "_view_count": null,
            "_view_module": "@jupyter-widgets/controls",
            "_view_module_version": "1.5.0",
            "_view_name": "ProgressView",
            "bar_style": "success",
            "description": "",
            "description_tooltip": null,
            "layout": "IPY_MODEL_701d148b22ec43dc9e9a599efc7208da",
            "max": 1500,
            "min": 0,
            "orientation": "horizontal",
            "style": "IPY_MODEL_81324f6581f34731804e17fadb6e5dd9",
            "value": 1500
          }
        },
        "e7d51dacfc0144d6a40c0a99b3d9f9c1": {
          "model_module": "@jupyter-widgets/controls",
          "model_name": "HTMLModel",
          "model_module_version": "1.5.0",
          "state": {
            "_dom_classes": [],
            "_model_module": "@jupyter-widgets/controls",
            "_model_module_version": "1.5.0",
            "_model_name": "HTMLModel",
            "_view_count": null,
            "_view_module": "@jupyter-widgets/controls",
            "_view_module_version": "1.5.0",
            "_view_name": "HTMLView",
            "description": "",
            "description_tooltip": null,
            "layout": "IPY_MODEL_c5829e3613f8439e803bfb1fd0582a18",
            "placeholder": "​",
            "style": "IPY_MODEL_48e6a919102346a4ae1ceb96cb20e595",
            "value": " 1500/1500 [00:07&lt;00:00, 291.78 examples/s]"
          }
        },
        "0a5a356fbd584bd49643e09328689cf3": {
          "model_module": "@jupyter-widgets/base",
          "model_name": "LayoutModel",
          "model_module_version": "1.2.0",
          "state": {
            "_model_module": "@jupyter-widgets/base",
            "_model_module_version": "1.2.0",
            "_model_name": "LayoutModel",
            "_view_count": null,
            "_view_module": "@jupyter-widgets/base",
            "_view_module_version": "1.2.0",
            "_view_name": "LayoutView",
            "align_content": null,
            "align_items": null,
            "align_self": null,
            "border": null,
            "bottom": null,
            "display": null,
            "flex": null,
            "flex_flow": null,
            "grid_area": null,
            "grid_auto_columns": null,
            "grid_auto_flow": null,
            "grid_auto_rows": null,
            "grid_column": null,
            "grid_gap": null,
            "grid_row": null,
            "grid_template_areas": null,
            "grid_template_columns": null,
            "grid_template_rows": null,
            "height": null,
            "justify_content": null,
            "justify_items": null,
            "left": null,
            "margin": null,
            "max_height": null,
            "max_width": null,
            "min_height": null,
            "min_width": null,
            "object_fit": null,
            "object_position": null,
            "order": null,
            "overflow": null,
            "overflow_x": null,
            "overflow_y": null,
            "padding": null,
            "right": null,
            "top": null,
            "visibility": null,
            "width": null
          }
        },
        "c2dfd20990724b5a8be3e89221b0778b": {
          "model_module": "@jupyter-widgets/base",
          "model_name": "LayoutModel",
          "model_module_version": "1.2.0",
          "state": {
            "_model_module": "@jupyter-widgets/base",
            "_model_module_version": "1.2.0",
            "_model_name": "LayoutModel",
            "_view_count": null,
            "_view_module": "@jupyter-widgets/base",
            "_view_module_version": "1.2.0",
            "_view_name": "LayoutView",
            "align_content": null,
            "align_items": null,
            "align_self": null,
            "border": null,
            "bottom": null,
            "display": null,
            "flex": null,
            "flex_flow": null,
            "grid_area": null,
            "grid_auto_columns": null,
            "grid_auto_flow": null,
            "grid_auto_rows": null,
            "grid_column": null,
            "grid_gap": null,
            "grid_row": null,
            "grid_template_areas": null,
            "grid_template_columns": null,
            "grid_template_rows": null,
            "height": null,
            "justify_content": null,
            "justify_items": null,
            "left": null,
            "margin": null,
            "max_height": null,
            "max_width": null,
            "min_height": null,
            "min_width": null,
            "object_fit": null,
            "object_position": null,
            "order": null,
            "overflow": null,
            "overflow_x": null,
            "overflow_y": null,
            "padding": null,
            "right": null,
            "top": null,
            "visibility": null,
            "width": null
          }
        },
        "76aa20af694e4d71b276b22ba23759a4": {
          "model_module": "@jupyter-widgets/controls",
          "model_name": "DescriptionStyleModel",
          "model_module_version": "1.5.0",
          "state": {
            "_model_module": "@jupyter-widgets/controls",
            "_model_module_version": "1.5.0",
            "_model_name": "DescriptionStyleModel",
            "_view_count": null,
            "_view_module": "@jupyter-widgets/base",
            "_view_module_version": "1.2.0",
            "_view_name": "StyleView",
            "description_width": ""
          }
        },
        "701d148b22ec43dc9e9a599efc7208da": {
          "model_module": "@jupyter-widgets/base",
          "model_name": "LayoutModel",
          "model_module_version": "1.2.0",
          "state": {
            "_model_module": "@jupyter-widgets/base",
            "_model_module_version": "1.2.0",
            "_model_name": "LayoutModel",
            "_view_count": null,
            "_view_module": "@jupyter-widgets/base",
            "_view_module_version": "1.2.0",
            "_view_name": "LayoutView",
            "align_content": null,
            "align_items": null,
            "align_self": null,
            "border": null,
            "bottom": null,
            "display": null,
            "flex": null,
            "flex_flow": null,
            "grid_area": null,
            "grid_auto_columns": null,
            "grid_auto_flow": null,
            "grid_auto_rows": null,
            "grid_column": null,
            "grid_gap": null,
            "grid_row": null,
            "grid_template_areas": null,
            "grid_template_columns": null,
            "grid_template_rows": null,
            "height": null,
            "justify_content": null,
            "justify_items": null,
            "left": null,
            "margin": null,
            "max_height": null,
            "max_width": null,
            "min_height": null,
            "min_width": null,
            "object_fit": null,
            "object_position": null,
            "order": null,
            "overflow": null,
            "overflow_x": null,
            "overflow_y": null,
            "padding": null,
            "right": null,
            "top": null,
            "visibility": null,
            "width": null
          }
        },
        "81324f6581f34731804e17fadb6e5dd9": {
          "model_module": "@jupyter-widgets/controls",
          "model_name": "ProgressStyleModel",
          "model_module_version": "1.5.0",
          "state": {
            "_model_module": "@jupyter-widgets/controls",
            "_model_module_version": "1.5.0",
            "_model_name": "ProgressStyleModel",
            "_view_count": null,
            "_view_module": "@jupyter-widgets/base",
            "_view_module_version": "1.2.0",
            "_view_name": "StyleView",
            "bar_color": null,
            "description_width": ""
          }
        },
        "c5829e3613f8439e803bfb1fd0582a18": {
          "model_module": "@jupyter-widgets/base",
          "model_name": "LayoutModel",
          "model_module_version": "1.2.0",
          "state": {
            "_model_module": "@jupyter-widgets/base",
            "_model_module_version": "1.2.0",
            "_model_name": "LayoutModel",
            "_view_count": null,
            "_view_module": "@jupyter-widgets/base",
            "_view_module_version": "1.2.0",
            "_view_name": "LayoutView",
            "align_content": null,
            "align_items": null,
            "align_self": null,
            "border": null,
            "bottom": null,
            "display": null,
            "flex": null,
            "flex_flow": null,
            "grid_area": null,
            "grid_auto_columns": null,
            "grid_auto_flow": null,
            "grid_auto_rows": null,
            "grid_column": null,
            "grid_gap": null,
            "grid_row": null,
            "grid_template_areas": null,
            "grid_template_columns": null,
            "grid_template_rows": null,
            "height": null,
            "justify_content": null,
            "justify_items": null,
            "left": null,
            "margin": null,
            "max_height": null,
            "max_width": null,
            "min_height": null,
            "min_width": null,
            "object_fit": null,
            "object_position": null,
            "order": null,
            "overflow": null,
            "overflow_x": null,
            "overflow_y": null,
            "padding": null,
            "right": null,
            "top": null,
            "visibility": null,
            "width": null
          }
        },
        "48e6a919102346a4ae1ceb96cb20e595": {
          "model_module": "@jupyter-widgets/controls",
          "model_name": "DescriptionStyleModel",
          "model_module_version": "1.5.0",
          "state": {
            "_model_module": "@jupyter-widgets/controls",
            "_model_module_version": "1.5.0",
            "_model_name": "DescriptionStyleModel",
            "_view_count": null,
            "_view_module": "@jupyter-widgets/base",
            "_view_module_version": "1.2.0",
            "_view_name": "StyleView",
            "description_width": ""
          }
        }
      }
    },
    "accelerator": "GPU"
  },
  "cells": [
    {
      "cell_type": "markdown",
      "source": [
        "### Installation\n",
        "\n"
      ],
      "metadata": {
        "id": "_ZsshoAFiqqw"
      }
    },
    {
      "cell_type": "markdown",
      "source": [
        "**Step 1: Install Necessary Libraries**\n",
        "\n",
        "We will first install necessary libraries below:"
      ],
      "metadata": {
        "id": "Y_vHE2SQ0Zkp"
      }
    },
    {
      "cell_type": "code",
      "source": [
        "%%capture\n",
        "import os\n",
        "if \"COLAB_\" not in \"\".join(os.environ.keys()):\n",
        "    !pip install unsloth\n",
        "else:\n",
        "    # Do this only in Colab notebooks! Otherwise use pip install unsloth\n",
        "    !pip install --no-deps bitsandbytes accelerate xformers==0.0.29.post3 peft trl==0.15.2 triton cut_cross_entropy unsloth_zoo\n",
        "    !pip install sentencepiece protobuf \"datasets>=3.4.1\" huggingface_hub hf_transfer\n",
        "    !pip install --no-deps unsloth"
      ],
      "metadata": {
        "id": "7s8OeRkV9hOO"
      },
      "execution_count": null,
      "outputs": []
    },
    {
      "cell_type": "code",
      "source": [
        "# from google.colab import drive;\n",
        "# drive.mount('/content/drive',force_remount=True)\n",
        "\n",
        "from google.colab import drive\n",
        "import os\n",
        "import shutil\n",
        "\n",
        "# Check if the mount point directory exists and is not empty, and clear it\n",
        "mountpoint = '/content/drive'\n",
        "if os.path.isdir(mountpoint) and os.listdir(mountpoint):\n",
        "    print(f\"Mountpoint '{mountpoint}' is not empty. Removing contents...\")\n",
        "    # Remove all contents of the directory\n",
        "    for item in os.listdir(mountpoint):\n",
        "        item_path = os.path.join(mountpoint, item)\n",
        "        if os.path.isfile(item_path):\n",
        "            os.remove(item_path)\n",
        "        elif os.path.isdir(item_path):\n",
        "            shutil.rmtree(item_path)\n",
        "    print(f\"Contents of '{mountpoint}' removed.\")\n",
        "\n",
        "\n",
        "drive.mount('/content/drive',force_remount=True)"
      ],
      "metadata": {
        "colab": {
          "base_uri": "https://localhost:8080/"
        },
        "id": "06Wg98JCV_jJ",
        "outputId": "abcd8dde-b093-4dab-cbc8-df4d073bd242"
      },
      "execution_count": null,
      "outputs": [
        {
          "output_type": "stream",
          "name": "stdout",
          "text": [
            "Mounted at /content/drive\n"
          ]
        }
      ]
    },
    {
      "cell_type": "code",
      "source": [
        "!pip install evaluate nltk rouge_score -q -U"
      ],
      "metadata": {
        "id": "_4DEqBNjYgxl",
        "colab": {
          "base_uri": "https://localhost:8080/"
        },
        "outputId": "ed18f02a-9588-4839-afaa-b40a47ceecbd"
      },
      "execution_count": null,
      "outputs": [
        {
          "output_type": "stream",
          "name": "stdout",
          "text": [
            "  Preparing metadata (setup.py) ... \u001b[?25l\u001b[?25hdone\n",
            "\u001b[2K   \u001b[90m━━━━━━━━━━━━━━━━━━━━━━━━━━━━━━━━━━━━━━━━\u001b[0m \u001b[32m84.0/84.0 kB\u001b[0m \u001b[31m7.3 MB/s\u001b[0m eta \u001b[36m0:00:00\u001b[0m\n",
            "\u001b[?25h  Building wheel for rouge_score (setup.py) ... \u001b[?25l\u001b[?25hdone\n"
          ]
        }
      ]
    },
    {
      "cell_type": "code",
      "source": [
        "import nltk\n",
        "# Download NLTK Data for Tokenization\n",
        "nltk.download('punkt')"
      ],
      "metadata": {
        "id": "QI6Wy2UkYlLw",
        "colab": {
          "base_uri": "https://localhost:8080/"
        },
        "outputId": "37b4d70e-66f1-4d98-c62c-2a41eb3f6e5c"
      },
      "execution_count": null,
      "outputs": [
        {
          "output_type": "stream",
          "name": "stderr",
          "text": [
            "[nltk_data] Downloading package punkt to /root/nltk_data...\n",
            "[nltk_data]   Unzipping tokenizers/punkt.zip.\n"
          ]
        },
        {
          "output_type": "execute_result",
          "data": {
            "text/plain": [
              "True"
            ]
          },
          "metadata": {},
          "execution_count": 4
        }
      ]
    },
    {
      "cell_type": "code",
      "source": [
        "import os\n",
        "os.environ[\"PYTORCH_CUDA_ALLOC_CONF\"] = \"garbage_collection_threshold:0.6,max_split_size_mb:128\""
      ],
      "metadata": {
        "id": "7Mxd8xvd40M5"
      },
      "execution_count": null,
      "outputs": []
    },
    {
      "cell_type": "code",
      "source": [
        "!pip freeze | grep triton"
      ],
      "metadata": {
        "id": "fx8lq-xiR97i",
        "colab": {
          "base_uri": "https://localhost:8080/"
        },
        "outputId": "7e29d829-80e9-475c-87e6-4c93509a20b0"
      },
      "execution_count": null,
      "outputs": [
        {
          "output_type": "stream",
          "name": "stdout",
          "text": [
            "triton==3.2.0\n"
          ]
        }
      ]
    },
    {
      "cell_type": "code",
      "source": [
        "!pip freeze | grep torch"
      ],
      "metadata": {
        "id": "y0lkawhOR_9q",
        "colab": {
          "base_uri": "https://localhost:8080/"
        },
        "outputId": "cf67c5c0-38fb-45ae-bea9-9fde1cffc501"
      },
      "execution_count": null,
      "outputs": [
        {
          "output_type": "stream",
          "name": "stdout",
          "text": [
            "torch @ https://download.pytorch.org/whl/cu124/torch-2.6.0%2Bcu124-cp311-cp311-linux_x86_64.whl\n",
            "torchao==0.10.0\n",
            "torchaudio @ https://download.pytorch.org/whl/cu124/torchaudio-2.6.0%2Bcu124-cp311-cp311-linux_x86_64.whl\n",
            "torchdata==0.11.0\n",
            "torchsummary==1.5.1\n",
            "torchtune==0.6.1\n",
            "torchvision @ https://download.pytorch.org/whl/cu124/torchvision-0.21.0%2Bcu124-cp311-cp311-linux_x86_64.whl\n"
          ]
        }
      ]
    },
    {
      "cell_type": "code",
      "source": [
        "!nvcc --version"
      ],
      "metadata": {
        "id": "HOecQEZpSDBN",
        "colab": {
          "base_uri": "https://localhost:8080/"
        },
        "outputId": "72142f56-1812-462a-b289-fef068a85d7a"
      },
      "execution_count": null,
      "outputs": [
        {
          "output_type": "stream",
          "name": "stdout",
          "text": [
            "nvcc: NVIDIA (R) Cuda compiler driver\n",
            "Copyright (c) 2005-2024 NVIDIA Corporation\n",
            "Built on Thu_Jun__6_02:18:23_PDT_2024\n",
            "Cuda compilation tools, release 12.5, V12.5.82\n",
            "Build cuda_12.5.r12.5/compiler.34385749_0\n"
          ]
        }
      ]
    },
    {
      "cell_type": "code",
      "source": [
        "## Environment Variables and Warnings\n",
        "# We configure environment variables for GPU usage and suppress tokenizer parallelism warnings.\n",
        "import os\n",
        "os.environ[\"CUDA_VISIBLE_DEVICES\"] = \"0\"\n",
        "os.environ[\"TOKENIZERS_PARALLELISM\"] = \"false\""
      ],
      "metadata": {
        "id": "BXbWaS0A2NYf"
      },
      "execution_count": null,
      "outputs": []
    },
    {
      "cell_type": "code",
      "source": [
        "# ignore potential warnings during training that don’t affect the outcome.\n",
        "import warnings\n",
        "warnings.filterwarnings(\"ignore\")"
      ],
      "metadata": {
        "id": "m-ficLiy2Jho"
      },
      "execution_count": null,
      "outputs": []
    },
    {
      "cell_type": "markdown",
      "source": [
        "### Unsloth"
      ],
      "metadata": {
        "id": "arCgOIZti3QF"
      }
    },
    {
      "cell_type": "markdown",
      "source": [
        "https://unsloth.ai/blog/gemma3\n",
        "https://docs.unsloth.ai/get-started/fine-tuning-guide\n",
        "https://unsloth.ai/\n",
        "\n",
        "Unsloth makes finetuning large language models like Llama-3, Mistral, Phi-4 and Gemma 2x faster, use 70% less memory, and with no degradation in accuracy!\n",
        "\n",
        "\"Unsloth\" is a Python library and framework specifically designed to make fine-tuning Large Language Models (LLMs) like Llama, Mistral, and Gemma (which you are using) significantly faster and more memory-efficient.\n",
        "\n",
        "**What is Unsloth?**\n",
        "\n",
        "Think of Unsloth as an optimization layer that sits on top of the standard Hugging Face Transformers library. While Hugging Face provides the general framework for LLMs, Unsloth introduces highly optimized, low-level computations (often written in custom GPU kernels using languages like Triton) that directly target the bottlenecks in LLM training, especially during fine-tuning with techniques like LoRA (Low-Rank Adaptation) and QLoRA (Quantized LoRA).\n",
        "\n",
        "**Why is Unsloth \"Better\"?**\n",
        "\n",
        "Unsloth claims and demonstrates several key advantages that make it \"better\" for LLM fine-tuning, particularly for users with limited GPU resources (like in Google Colab):\n",
        "\n",
        "**Speed**:\n",
        "2x to 30x Faster Training: Unsloth achieves significantly faster training times compared to traditional Hugging Face methods (even with Flash Attention 2 enabled). This is due to its hand-written, optimized GPU kernels that replace less efficient PyTorch operations.\n",
        "This means you can complete your fine-tuning in hours instead of days, accelerating your experimentation and development cycle.\n",
        "\n",
        "**Memory Efficiency**:\n",
        "70% to 90% Less GPU Memory Usage: Unsloth drastically reduces the VRAM (GPU memory) required for fine-tuning. This is a game-changer, allowing you to:\n",
        "\n",
        "Fine-tune much larger models (e.g., 7B or even 8B parameter models) on GPUs with limited memory (like Colab's T4 GPUs).\n",
        "Use larger batch sizes, which can sometimes lead to more stable training and better performance.\n",
        "\n",
        "This is crucial for Google Colab users, as it allows you to get more out of the free or cheaper GPU tiers.\n",
        "\n",
        "**No Accuracy Degradation**:\n",
        "\n",
        "Crucially, Unsloth achieves these speed and memory improvements without sacrificing model accuracy. It performs exact computations (no approximations) but does so more efficiently.\n",
        "\n",
        "**Simplicity and Integration**:\n",
        "\n",
        "Simple API: Unsloth offers a very straightforward API that seamlessly integrates with the Hugging Face ecosystem (Transformers, PEFT, TRL's SFTTrainer). You just need to import FastLanguageModel from unsloth and use its from_pretrained method, and the rest of your training code often remains very similar.\n",
        "\n",
        "Built-in Optimizations: It automates many optimizations (like efficient LoRA application, gradient checkpointing, paged optimizers, efficient attention mechanisms like Flash Attention 2) that would otherwise require complex manual setup or deep knowledge of the underlying libraries.\n",
        "\n",
        "**Broad Model Support**:\n",
        "\n",
        "Unsloth supports a wide range of popular open-source LLMs, including Llama (1, 2, 3), Mistral, Phi, and Gemma, making it a versatile tool for many projects.\n",
        "\n",
        "In summary, Unsloth makes LLM fine-tuning accessible, faster, and more efficient, allowing more developers and researchers to experiment with and deploy custom LLMs even on consumer-grade hardware or free cloud platforms like Google Colab. It's why you often see it recommended and used in Colab notebooks for fine-tuning.\n"
      ],
      "metadata": {
        "id": "DlXpAO-3e-_c"
      }
    },
    {
      "cell_type": "markdown",
      "source": [
        "**Setting up unsloth**\n",
        "\n",
        "Includes LoRA Adapters"
      ],
      "metadata": {
        "id": "XTDX5G5rbwMh"
      }
    },
    {
      "cell_type": "markdown",
      "source": [
        "**FastLanguageModel**: This class is optimized for fine-tuning and inference of text-only language models such as LLaMA, Mistral, Phi, and Gemma. It provides streamlined methods for loading models, applying Parameter-Efficient Fine-Tuning (PEFT) techniques like LoRA, and enabling faster inference.\n",
        "\n",
        "Key Features:\n",
        "\n",
        "- Supports loading pre-trained models with options for quantization (e.g., 4-bit) to reduce memory usage.\n",
        "- Integrates with PEFT methods to facilitate efficient fine-tuning.\n",
        "- Offers methods like for_inference() to enable optimized inference pathways.\n",
        "\n",
        "**FastModel** extends the capabilities of FastLanguageModel by adding support for vision-language models, enabling fine-tuning of models that process both text and visual data.\n",
        "\n",
        "Here we are using **FastModel**\n",
        "\n",
        "  "
      ],
      "metadata": {
        "id": "qth6blD_5_jX"
      }
    },
    {
      "cell_type": "markdown",
      "source": [
        "**Step 2: Loading the Model**\n",
        "\n",
        " The code below loads the pre-trained Gemma 3 4b language model using the unsloth library. It sets configuration options like a maximum sequence length of 1024 tokens and enables 4-bit quantization to reduce memory usage. The data type (dtype) is auto-detected, and the model and tokenizer are loaded for use in further language processing tasks. This setup optimizes memory efficiency while working with large language models."
      ],
      "metadata": {
        "id": "pX7kRm5C0eW3"
      }
    },
    {
      "cell_type": "code",
      "source": [
        "# from unsloth import FastLanguageModel\n",
        "# from unsloth import is_bfloat16_supported\n",
        "from unsloth import FastModel #for both language and vision finetuning\n",
        "import torch\n",
        "\n",
        "fourbit_models = [\n",
        "    # 4bit dynamic quants for superior accuracy and low memory use\n",
        "    \"unsloth/gemma-3-1b-it-unsloth-bnb-4bit\",\n",
        "    \"unsloth/gemma-3-4b-it-unsloth-bnb-4bit\",\n",
        "    \"unsloth/gemma-3-12b-it-unsloth-bnb-4bit\",\n",
        "    \"unsloth/gemma-3-27b-it-unsloth-bnb-4bit\",\n",
        "\n",
        "    # Other popular models!\n",
        "    \"unsloth/Llama-3.1-8B\",\n",
        "    \"unsloth/Llama-3.2-3B\",\n",
        "    \"unsloth/Llama-3.3-70B\",\n",
        "    \"unsloth/mistral-7b-instruct-v0.3\",\n",
        "    \"unsloth/Phi-4\",\n",
        "] # More models at https://huggingface.co/unsloth\n",
        "\n",
        "# Set Configuration Parameters\n",
        "dtype = (\n",
        "    None  # None for auto detection. Float16 for Tesla T4, V100, Bfloat16 for Ampere+\n",
        ")\n",
        "load_in_4bit = True  # Use 4bit quantization to reduce memory usage. Can be False.\n",
        "\n",
        "# Load Pre-trained Model (base_with_adapter_model)\n",
        "model, tokenizer = FastModel.from_pretrained(\n",
        "    model_name=\"unsloth/gemma-3-4b-it\", #\"unsloth/gemma-3-4b-it\" \"unsloth/gemma-2-9b\"\n",
        "    # max_seq_length=max_seq_length,\n",
        "    max_seq_length=1024, # Choose any for long context! # Choose any! We auto support RoPE Scaling internally! This defines the maximum number of tokens for input sequences.\n",
        "    dtype=dtype,\n",
        "    # 4 bit quantization to reduce memory\n",
        "    load_in_4bit=load_in_4bit, ### Reduces the model's memory footprint, allowing for faster computation and the ability to run larger models on hardware with limited resources.\n",
        "    load_in_8bit = False, # [NEW!] A bit more accurate, uses 2x memory\n",
        "    full_finetuning = False, # [NEW!] We have full finetuning now!\n",
        "    )"
      ],
      "metadata": {
        "id": "DE8b3R4ibovZ",
        "colab": {
          "base_uri": "https://localhost:8080/",
          "height": 568,
          "referenced_widgets": [
            "f0ef7f353cf746639298bb16890ca82d",
            "347edd90cc124a8ca6439f1f66f97ba9",
            "0ac874030a734723b427909ea8e9cfd1",
            "9b16a5951b0646d58bb4870f13ad743f",
            "0a31aef5a4e04c718d7b774baf08f7c1",
            "8db216ba8ce44dff9044cb8362a3520f",
            "0261845d0a8b4b5590764553e3d724c4",
            "bd219d660cd54672acfdcb6787531520",
            "82973229795a470c8535e27d0104abb8",
            "fbad0d71a990447383341a0737936ed1",
            "b2effccef8dc4c6289856e88bcc4a88c",
            "693f2878d8d44325944ecec750f4e4a5",
            "fa51a42398754d5b97efecefa2728a12",
            "2e26f33bed8a43c5ba246d5bbfcb9801",
            "75a8ee37a8c44e62bad7741aaed9676d",
            "3bed71360c4e42aa945cc332b0e29971",
            "3e2dc476bccc42f8920d4704348668a8",
            "1bc7674a3c614b9eb8b8de9a350792e4",
            "9f0dd1cd5780452c9dfd27a398d1d0ff",
            "7e16c77e219440ada7216554d45b6601",
            "c891d05a51eb4c4c9614a5ea6d508804",
            "14fd1355cbec46b18fc0c3013dde9de3",
            "7fe58ba0672941ab816bb65207e8d67a",
            "6c296038b7e543c9bbdd68ade4928fb9",
            "f6910a3095474b2cbbf5e3a125342bd9",
            "c874c899ea154c049d231ceeaf719496",
            "2e70ba55280c43b29419487f7e4a13e4",
            "105a81fdaeeb4a00ac30ff33024aac21",
            "6a135763fb48458e8108d69877b2a9e1",
            "c75be6e37f354dc9bd1196074ee478b6",
            "e86a3f229ab84780ac4a232224ec9294",
            "00894c4a86ad4e39ad7163cac81b48df",
            "75f6c4af08ee4d19b40f8b1d8bf6791d",
            "26192d243c264b7a874a11b9b9324b79",
            "79407b39eac440378a5f88fe15793c64",
            "ed6bdc0d757c491c9301971c16a544ee",
            "0f255376177842e3926e0629e32fa5b4",
            "5da70da5a35a4a17a03975bcbeeee9d8",
            "8d703356fa0a45d8a5651f19f52a3e1a",
            "16606a69b6a4460cbeedbff5a2ceb962",
            "38af1bae8a3b42b18be1941f523484fd",
            "73d73577718d4c4c92bbeaf88f525e76",
            "82e5721147ff4f87b42f8ac54dcfbf40",
            "e0b9bd02bd2d4e27b9e875b56824c3f4",
            "8cca9db7e90742ebacd9c6a41f735dd0",
            "9a1cf41f980141b5a91cbeefab85b7aa",
            "d44d278ee6154d9fb6ce40d598799011",
            "366b971bddf74983be1646af21dd2543",
            "12f44331544f41f3a16c1a9894e9d1e4",
            "39118ed4978b4222b4c2da8c4281cd80",
            "73e4e91ad19f449d95f6cb83ce3f01b6",
            "efa513cf9f364a9eb0ba32a43fe87e22",
            "56b9c7bd1886432180081209e68e62db",
            "e6f6945f05db46abae208804ab7085bd",
            "facc53acf0c4401c9e800edecda58bd0",
            "c43a30565a4643d5982ed3ec1879f0d4",
            "a517cd0ae1a146b3aad48ca603e26826",
            "fb66c6ab89474265aca1b53ddda3c066",
            "cc1075fe1fb540ba9c2b392807eb5832",
            "d916e6482b294d6a94e07ad42e35382c",
            "72f8a32b2f1640c7982a2e32916578da",
            "ac83940bb0674603b647eb5fe23afa01",
            "043bfe0db90f44109bdbb1b6db0d5cc7",
            "1f79ceeccab9422a87d0857ca8adeaa3",
            "9cad559fdef74288adf327436bbb6324",
            "228b7d0bc4064e17a1786ad7939c08cd",
            "f20bdd95a992493abe34e388c62889d9",
            "25c83095d4154b22ac2624ac4c6fb755",
            "567c08c24dc1462585099a1f5955b627",
            "2c046ce266bc4ffb9c2905676c8ea3b1",
            "a6984b30e6e44e5ea3bc9f7a972e402d",
            "40d46f2aec244634ae5cf021116a5037",
            "c543b019659c4867a32c65ec14e6f0fa",
            "90f8c38f40574e08a718bae6dd8ef1ea",
            "1c68a1c9c87848f7900d469fdbe5a5e6",
            "b4ee2a32984a41fd91358a418898f663",
            "c7099c9b70ce465d9580233c5a551964",
            "ed7b8e362368460d8ae933c2a623c725",
            "fa799e677493463d931cc27d366d2e60",
            "e21bfb427f154cb1b25312e63086f5f0",
            "67161e8e65324ebfa6acd5bc0863a3fc",
            "3f0b2599cab140218cfb2d00eec53a69",
            "b6fd9845ca30491698683864845bb73c",
            "5acefa90f0f44721a9b4565d30cbb59b",
            "89c9fe3acc7a49ad8749da0db76adca8",
            "2269f17aef4e49d9abcf5d55ca554352",
            "8695d8ccc2604a358a1c30feab009417",
            "1c4002239a9042ccb74500576f365d6a",
            "71b926f0652747b7bacfbf876907b1b2",
            "b88656a719304c62a253334ec179593a",
            "26299285952c4c9ba87046bcce0f5fbf",
            "4b4820f2acb142f38501aff724a44de1",
            "8c5fca743147456abdd84c01f7dcc09f",
            "f3349c850a3549b59798f37e046d15f2",
            "ed1ea9e840674f2594fa1d8ae088b6de",
            "f72983aa6e844f0c9c1399bad7f69d66",
            "3cfcb74b1e924bf0813bab0799c8d1f8",
            "06fef93974584d5392fc544fcb0b2aa4",
            "32d38cedf62c440389b996d05b4228af",
            "9c689d82bb8241b0a52dc1e571f9fc79",
            "2f0b664a30514a979c261dccce004a15",
            "ad825c5921234db684170c2889685ab8",
            "70557ea6ffc64046bab86461580b1b58",
            "9c7f7a9de2cf4558bfcc905b6a508d60",
            "795815d0ed6047c89571eeaf23c8ea8e",
            "38362267221c49d6964186b147fe1339",
            "5db30a5b22b6476daa30d572fc55a906",
            "4b07ace73eea4bb283e49bd34410e0ac",
            "fae23ad2311f4fd59db9aec41cc3d606",
            "0aa67b8e3ded4a4dac27b1b039c25913",
            "c6f807c93a2e4d559130cf77c3355995",
            "220d3fdc6aab42508e7ed9df73b886d6",
            "085457ee336c4c6e81d8812c59ed85f4",
            "2f170c5013df4f8f8ea389c6b3c419d3",
            "251d6b09dad9447c90975b95272f7980",
            "b88c21493975425293ae47d642b1b1de",
            "c6cf05d763e7481ca62faccb2fb4c82e",
            "de72acee49d14a94a5453291587338cb",
            "d65d6e785f494b408f2fa936c9d30d07",
            "84113e3adc9d408e8bc2a21bf2d65de0",
            "1ed1b8ba0035459d9f394320772c78fb"
          ]
        },
        "outputId": "6c2b1b76-59b1-412a-d09b-d22bf7717cc1"
      },
      "execution_count": null,
      "outputs": [
        {
          "output_type": "stream",
          "name": "stdout",
          "text": [
            "🦥 Unsloth: Will patch your computer to enable 2x faster free finetuning.\n",
            "🦥 Unsloth Zoo will now patch everything to make training faster!\n",
            "==((====))==  Unsloth 2025.5.7: Fast Gemma3 patching. Transformers: 4.51.3.\n",
            "   \\\\   /|    Tesla T4. Num GPUs = 1. Max memory: 14.741 GB. Platform: Linux.\n",
            "O^O/ \\_/ \\    Torch: 2.6.0+cu124. CUDA: 7.5. CUDA Toolkit: 12.4. Triton: 3.2.0\n",
            "\\        /    Bfloat16 = FALSE. FA [Xformers = 0.0.29.post3. FA2 = False]\n",
            " \"-____-\"     Free license: http://github.com/unslothai/unsloth\n",
            "Unsloth: Fast downloading is enabled - ignore downloading bars which are red colored!\n",
            "Unsloth: Using float16 precision for gemma3 won't work! Using float32.\n"
          ]
        },
        {
          "output_type": "display_data",
          "data": {
            "text/plain": [
              "model.safetensors:   0%|          | 0.00/4.56G [00:00<?, ?B/s]"
            ],
            "application/vnd.jupyter.widget-view+json": {
              "version_major": 2,
              "version_minor": 0,
              "model_id": "f0ef7f353cf746639298bb16890ca82d"
            }
          },
          "metadata": {}
        },
        {
          "output_type": "display_data",
          "data": {
            "text/plain": [
              "generation_config.json:   0%|          | 0.00/210 [00:00<?, ?B/s]"
            ],
            "application/vnd.jupyter.widget-view+json": {
              "version_major": 2,
              "version_minor": 0,
              "model_id": "693f2878d8d44325944ecec750f4e4a5"
            }
          },
          "metadata": {}
        },
        {
          "output_type": "display_data",
          "data": {
            "text/plain": [
              "processor_config.json:   0%|          | 0.00/70.0 [00:00<?, ?B/s]"
            ],
            "application/vnd.jupyter.widget-view+json": {
              "version_major": 2,
              "version_minor": 0,
              "model_id": "7fe58ba0672941ab816bb65207e8d67a"
            }
          },
          "metadata": {}
        },
        {
          "output_type": "display_data",
          "data": {
            "text/plain": [
              "chat_template.json:   0%|          | 0.00/1.61k [00:00<?, ?B/s]"
            ],
            "application/vnd.jupyter.widget-view+json": {
              "version_major": 2,
              "version_minor": 0,
              "model_id": "26192d243c264b7a874a11b9b9324b79"
            }
          },
          "metadata": {}
        },
        {
          "output_type": "display_data",
          "data": {
            "text/plain": [
              "chat_template.jinja:   0%|          | 0.00/1.53k [00:00<?, ?B/s]"
            ],
            "application/vnd.jupyter.widget-view+json": {
              "version_major": 2,
              "version_minor": 0,
              "model_id": "8cca9db7e90742ebacd9c6a41f735dd0"
            }
          },
          "metadata": {}
        },
        {
          "output_type": "display_data",
          "data": {
            "text/plain": [
              "preprocessor_config.json:   0%|          | 0.00/570 [00:00<?, ?B/s]"
            ],
            "application/vnd.jupyter.widget-view+json": {
              "version_major": 2,
              "version_minor": 0,
              "model_id": "c43a30565a4643d5982ed3ec1879f0d4"
            }
          },
          "metadata": {}
        },
        {
          "output_type": "stream",
          "name": "stderr",
          "text": [
            "Using a slow image processor as `use_fast` is unset and a slow processor was saved with this model. `use_fast=True` will be the default behavior in v4.52, even if the model was saved with a slow processor. This will result in minor differences in outputs. You'll still be able to use a slow processor with `use_fast=False`.\n"
          ]
        },
        {
          "output_type": "display_data",
          "data": {
            "text/plain": [
              "tokenizer_config.json:   0%|          | 0.00/1.16M [00:00<?, ?B/s]"
            ],
            "application/vnd.jupyter.widget-view+json": {
              "version_major": 2,
              "version_minor": 0,
              "model_id": "f20bdd95a992493abe34e388c62889d9"
            }
          },
          "metadata": {}
        },
        {
          "output_type": "display_data",
          "data": {
            "text/plain": [
              "tokenizer.model:   0%|          | 0.00/4.69M [00:00<?, ?B/s]"
            ],
            "application/vnd.jupyter.widget-view+json": {
              "version_major": 2,
              "version_minor": 0,
              "model_id": "ed7b8e362368460d8ae933c2a623c725"
            }
          },
          "metadata": {}
        },
        {
          "output_type": "display_data",
          "data": {
            "text/plain": [
              "tokenizer.json:   0%|          | 0.00/33.4M [00:00<?, ?B/s]"
            ],
            "application/vnd.jupyter.widget-view+json": {
              "version_major": 2,
              "version_minor": 0,
              "model_id": "71b926f0652747b7bacfbf876907b1b2"
            }
          },
          "metadata": {}
        },
        {
          "output_type": "display_data",
          "data": {
            "text/plain": [
              "added_tokens.json:   0%|          | 0.00/35.0 [00:00<?, ?B/s]"
            ],
            "application/vnd.jupyter.widget-view+json": {
              "version_major": 2,
              "version_minor": 0,
              "model_id": "9c689d82bb8241b0a52dc1e571f9fc79"
            }
          },
          "metadata": {}
        },
        {
          "output_type": "display_data",
          "data": {
            "text/plain": [
              "special_tokens_map.json:   0%|          | 0.00/670 [00:00<?, ?B/s]"
            ],
            "application/vnd.jupyter.widget-view+json": {
              "version_major": 2,
              "version_minor": 0,
              "model_id": "c6f807c93a2e4d559130cf77c3355995"
            }
          },
          "metadata": {}
        }
      ]
    },
    {
      "cell_type": "code",
      "source": [
        "# Define the prompt style for translation tasks\n",
        "prompt_style = \"\"\"Below is an instruction that describes a task, paired with an input that provides further context.\n",
        "Write a response that appropriately completes the request.\n",
        "\n",
        "### Instruction:\n",
        "Translate the following English text to Hindi.\n",
        "\n",
        "### Input:\n",
        "{}\n",
        "\n",
        "### Response:\n",
        "<think>\n",
        "\"\"\""
      ],
      "metadata": {
        "id": "1VNFq6inRiE6"
      },
      "execution_count": null,
      "outputs": []
    },
    {
      "cell_type": "markdown",
      "source": [
        "**Model Before Fine Tuning**"
      ],
      "metadata": {
        "id": "jhP23Mwrcrx6"
      }
    },
    {
      "cell_type": "code",
      "source": [
        "question = \"What is the capital of India?\"\n",
        "\n",
        "FastModel.for_inference(model)  # Unsloth has 2x faster inference!\n",
        "inputs = tokenizer([prompt_style.format(question, \"\")], return_tensors=\"pt\").to(\"cuda\")\n",
        "\n",
        "outputs = model.generate(\n",
        "    input_ids=inputs.input_ids,\n",
        "    attention_mask=inputs.attention_mask,\n",
        "    max_new_tokens=1024,\n",
        "    use_cache=True,\n",
        ")\n",
        "response = tokenizer.batch_decode(outputs)\n",
        "print(response[0].split(\"### Response:\")[1])"
      ],
      "metadata": {
        "id": "Io1zWGdjRHS_",
        "colab": {
          "base_uri": "https://localhost:8080/"
        },
        "outputId": "e94cf18c-7260-46e0-8b4b-ac8d5a850e48"
      },
      "execution_count": null,
      "outputs": [
        {
          "output_type": "stream",
          "name": "stdout",
          "text": [
            "\n",
            "<think>\n",
            "The question asks for the capital of India.  I need to provide the Hindi translation of that sentence.\n",
            "</think>\n",
            "भारत की राजधानी क्या है?\n",
            "<end_of_turn>\n"
          ]
        }
      ]
    },
    {
      "cell_type": "markdown",
      "source": [
        "**Testing pre-trained model with examples before finetuning**"
      ],
      "metadata": {
        "id": "yaq2A_GLjW_L"
      }
    },
    {
      "cell_type": "code",
      "source": [
        "def test_model_translation(model, tokenizer, sentences, prompt_template):\n",
        "    \"\"\"Test model on multiple sentences and return only the Hindi translations\"\"\"\n",
        "    FastModel.for_inference(model)  # Enable optimized inference\n",
        "    translations = []\n",
        "\n",
        "    for sentence in sentences:\n",
        "        prompt = prompt_template.format(sentence)\n",
        "        inputs = tokenizer([prompt], return_tensors=\"pt\").to(\"cuda\")\n",
        "\n",
        "        outputs = model.generate(\n",
        "            input_ids=inputs.input_ids,\n",
        "            attention_mask=inputs.attention_mask,\n",
        "            max_new_tokens=256,\n",
        "            use_cache=True,\n",
        "        )\n",
        "\n",
        "        response = tokenizer.batch_decode(outputs, skip_special_tokens=True)[0]\n",
        "\n",
        "        # Extract only the Hindi part from the response\n",
        "        if \"Hindi:\" in response:\n",
        "            hindi_only = response.split(\"Hindi:\")[1].strip()\n",
        "        else:\n",
        "            hindi_only = response.strip()\n",
        "\n",
        "        translations.append(hindi_only)\n",
        "\n",
        "    return translations\n",
        "\n",
        "# Test sentences covering different complexity levels\n",
        "test_sentences = [\n",
        "    \"The Constitution of India is the supreme law of the land and provides the framework for the country's legal system.\",\n",
        "    \"The Supreme Court of India, established in 1950, serves as the highest judicial forum and final court of appeal.\",\n",
        "    \"Filing a First Information Report (FIR) at the police station is mandatory to initiate criminal proceedings under the Code of Criminal Procedure.\",\n",
        "    \"Section 302 of the Indian Penal Code prescribes punishment for murder, which may extend to death penalty or life imprisonment.\",\n",
        "    \"The writ of habeas corpus can be filed in a High Court if a person is illegally detained or imprisoned.\",\n",
        "    \"Under the Indian Evidence Act, a dying declaration is admissible as evidence in court proceedings.\",\n",
        "    \"The Right to Information Act of 2005 empowers citizens to request information from public authorities.\",\n",
        "    \"Anticipatory bail under Section 438 of the Criminal Procedure Code allows a person to seek bail in anticipation of arrest.\",\n",
        "    \"The doctrine of stare decisis is followed by Indian courts, wherein precedents set by higher courts are binding on lower courts.\",\n",
        "    \"The Advocate General is appointed by the Governor and serves as the highest law officer of a state.\"\n",
        "]\n",
        "\n",
        "# Define a more effective prompt template that explicitly asks for ONLY the translation\n",
        "improved_prompt_template = \"\"\"Translate the following English legal text to Hindi. Provide ONLY the Hindi translation, with no explanations, transliterations, or additional text:\n",
        "\n",
        "English: {}\n",
        "\n",
        "Hindi:\"\"\"\n",
        "\n",
        "# Get translations with the improved prompt\n",
        "print(\"Getting Hindi translations...\")\n",
        "hindi_translations = test_model_translation(model, tokenizer, test_sentences, improved_prompt_template)\n",
        "\n",
        "# Print only the Hindi translations\n",
        "print(\"Hindi Translations:\")\n",
        "for translation in hindi_translations:\n",
        "    print(translation)\n",
        "\n",
        "# Free up GPU memory\n",
        "torch.cuda.empty_cache()"
      ],
      "metadata": {
        "colab": {
          "base_uri": "https://localhost:8080/"
        },
        "id": "jjEJ5Zb7zM0O",
        "outputId": "f0bce2a1-b3e4-472a-a78f-773580edac7c"
      },
      "execution_count": null,
      "outputs": [
        {
          "output_type": "stream",
          "name": "stdout",
          "text": [
            "Getting Hindi translations...\n",
            "Hindi Translations:\n",
            "भारत का संविधान देश का सर्वोच्च कानून है और देश के कानूनी प्रणाली के लिए एक ढांचा प्रदान करता है।\n",
            "भारत का सर्वोच्च न्यायालय, जिसकी स्थापना 1950 में हुई, भारत का उच्चतम न्यायिक मंच और अंतिम अपील न्यायालय है।\n",
            "पुलिस स्टेशन में प्रथम सूचना रिपोर्ट (एफआईआर) दर्ज कराना अनिवार्य है, आपराधिक कार्यवाही शुरू करने के लिए आपराधिक प्रक्रिया संहिता के तहत।\n",
            "भारतीय दंड संहिता की धारा 302 हत्या के लिए दंड का prescribes करती है, जिसमें मृत्युदंड या आजीवन कारावास तक का punishment हो सकता है।\n",
            "उच्च न्यायालय में एक व्यक्ति के अवैध रूप से हिरासत में लिए जाने या कारावास में होने की स्थिति में ही habeas corpus की याचिका दायर की जा सकती है।\n",
            "भारतीय साक्ष्य अधिनियम के तहत, एक मरणासन्न घोषणा अदालत की कार्यवाही में सबूत के रूप में स्वीकार्य है।\n",
            "2005 का सूचना अधिकार अधिनियम नागरिकों को सार्वजनिक अधिकारियों से जानकारी मांगने का अधिकार देता है।\n",
            "seção 438 के आपराधिक प्रक्रिया संहिता के तहत अग्रिम जमानत, एक व्यक्ति को गिरफ्तारी की आशंका में जमानत के लिए आवेदन करने की अनुमति देता है।\n",
            "भारतीय न्यायालय भी 'स्टेरे डेसिस' के सिद्धांत का पालन करते हैं, जिसमें उच्च न्यायालयों द्वारा स्थापित पूर्व उदाहरण निचले न्यायालयों के लिए बाध्यकारी होते हैं।\n",
            "राज्य के उच्चतम कानूनी अधिकारी के रूप में, राज्यपाल द्वारा नियुक्त और नियुक्त अधिवक्ता सामान्य (राज्य वकील) सेवाएं प्रदान करते हैं।\n"
          ]
        }
      ]
    },
    {
      "cell_type": "code",
      "source": [
        "hindi_translations"
      ],
      "metadata": {
        "colab": {
          "base_uri": "https://localhost:8080/"
        },
        "id": "iRgk7FwpYOLy",
        "outputId": "9203fdf8-ac5c-4066-eb41-ae38ffa61633"
      },
      "execution_count": null,
      "outputs": [
        {
          "output_type": "execute_result",
          "data": {
            "text/plain": [
              "['भारत का संविधान देश का सर्वोच्च कानून है और देश के कानूनी प्रणाली के लिए एक ढांचा प्रदान करता है।',\n",
              " 'भारत का सर्वोच्च न्यायालय, जिसकी स्थापना 1950 में हुई, भारत का उच्चतम न्यायिक मंच और अंतिम अपील न्यायालय है।',\n",
              " 'पुलिस स्टेशन में प्रथम सूचना रिपोर्ट (एफआईआर) दर्ज कराना अनिवार्य है, आपराधिक कार्यवाही शुरू करने के लिए आपराधिक प्रक्रिया संहिता के तहत।',\n",
              " 'भारतीय दंड संहिता की धारा 302 हत्या के लिए दंड का prescribes करती है, जिसमें मृत्युदंड या आजीवन कारावास तक का punishment हो सकता है।',\n",
              " 'उच्च न्यायालय में एक व्यक्ति के अवैध रूप से हिरासत में लिए जाने या कारावास में होने की स्थिति में ही habeas corpus की याचिका दायर की जा सकती है।',\n",
              " 'भारतीय साक्ष्य अधिनियम के तहत, एक मरणासन्न घोषणा अदालत की कार्यवाही में सबूत के रूप में स्वीकार्य है।',\n",
              " '2005 का सूचना अधिकार अधिनियम नागरिकों को सार्वजनिक अधिकारियों से जानकारी मांगने का अधिकार देता है।',\n",
              " 'seção 438 के आपराधिक प्रक्रिया संहिता के तहत अग्रिम जमानत, एक व्यक्ति को गिरफ्तारी की आशंका में जमानत के लिए आवेदन करने की अनुमति देता है।',\n",
              " \"भारतीय न्यायालय भी 'स्टेरे डेसिस' के सिद्धांत का पालन करते हैं, जिसमें उच्च न्यायालयों द्वारा स्थापित पूर्व उदाहरण निचले न्यायालयों के लिए बाध्यकारी होते हैं।\",\n",
              " 'राज्य के उच्चतम कानूनी अधिकारी के रूप में, राज्यपाल द्वारा नियुक्त और नियुक्त अधिवक्ता सामान्य (राज्य वकील) सेवाएं प्रदान करते हैं।']"
            ]
          },
          "metadata": {},
          "execution_count": 15
        }
      ]
    },
    {
      "cell_type": "markdown",
      "source": [
        "**Step 3: Adding LoRA Adapters for Efficient Fine-tuning**\n",
        "\n",
        "For Adding LoRA Adapters, we only need to update 1 to 10% of all parameters. The code below utilizes the FastLanguageModel.get_peft_model function to adapt a model using LoRA (Low-Rank Adaptation) techniques. It specifies parameters such as the rank (r = 16), target modules for adaptation, and optimization settings like lora_alpha and bias.\n",
        "\n",
        "The code can enables “unsloth” for efficient memory usage and sets a random state for reproducibility. Here we have not used this parameter."
      ],
      "metadata": {
        "id": "BRGCcZTt0j85"
      }
    },
    {
      "cell_type": "markdown",
      "source": [
        "    - The get_peft_model() function modifies the original pre-trained model to incorporate the PEFT techniques.\n",
        "    That means this will add the LoRA adapter to the model layers. For example, these two small low metrics will be added to the multi-head mechanism and feed-forward network, etc.\n",
        "\n",
        "    - The rank of each metric is set to 16. The higher rank value improves the model’s ability to adapt but at the cost of more memory usage and computational overhead.\n",
        "\n",
        "    - traget_modules specifies the layers of the model where LoRA will be applied. The layers typically include projects and other key components.\n",
        "\n",
        "    - lora_alpha controls the impact of the low-rank updates on the pre-trained model weights."
      ],
      "metadata": {
        "id": "v9UZ5_4qVqCj"
      }
    },
    {
      "cell_type": "markdown",
      "source": [
        "# Do model patching and add fast LoRA weights"
      ],
      "metadata": {
        "id": "V1OfZZYeCQwV"
      }
    },
    {
      "cell_type": "code",
      "source": [
        "#merge adapter parameters with base model (base_with_adapter_model)\n",
        "# model = model.merge_and_unload() # now we just have a regular AutoModelForCausalLM Transformers model"
      ],
      "metadata": {
        "id": "xMIYkTUjDI0r"
      },
      "execution_count": null,
      "outputs": []
    },
    {
      "cell_type": "code",
      "source": [
        "# base_model_with_new_adapter\n",
        "model = FastModel.get_peft_model(\n",
        "    model,\n",
        "    r = 16, # Choose any number > 0 ! Suggested 8, 16, 32, 64, 128 # Larger = higher accuracy, but might overfit, r=16,  # Increased from 8 to 16 for better adaptation capacity\n",
        "    target_modules = [\"q_proj\", \"k_proj\", \"v_proj\", \"o_proj\",\n",
        "                      \"gate_proj\", \"up_proj\", \"down_proj\",],\n",
        "    lora_alpha = 32,  # Recommended alpha == r at least #8 # Increased from 16 to 32 (2x rank)\n",
        "    lora_dropout = 0.05, # Supports any, but = 0 is optimized # Added small dropout for regularization\n",
        "    bias = \"none\",    # Supports any, but = \"none\" is optimized\n",
        "    # [NEW] \"unsloth\" uses 30% less VRAM, fits 2x larger batch sizes!\n",
        "    use_gradient_checkpointing = \"unsloth\", # True or \"unsloth\" for very long context\n",
        "    # use_gradient_checkpointing = False, # Disable Gradient Checkpointing: When applying the LoRA adapters using FastLanguageModel.get_peft_model (this would have been done before saving the checkpoint that was loaded in the final working notebook), the following was set:\n",
        "    random_state = 42, # Changed from 3407 to more standard 42\n",
        "    use_rslora = True,  # We support rank stabilized LoRA # Enable rank-stabilized LoRA for better convergence\n",
        "    loftq_config = None, # And LoftQ\n",
        "    finetune_vision_layers     = False, # Turn off for just text!\n",
        "    finetune_language_layers   = True,  # Should leave on!\n",
        "    finetune_attention_modules = True,  # Attention good for GRPO\n",
        "    finetune_mlp_modules       = True,  # SHould leave on always!\n",
        ")"
      ],
      "metadata": {
        "id": "kM7C69jA0pI0",
        "colab": {
          "base_uri": "https://localhost:8080/"
        },
        "outputId": "dbdcfdf8-3282-429c-8580-86e13443790d"
      },
      "execution_count": null,
      "outputs": [
        {
          "output_type": "stream",
          "name": "stdout",
          "text": [
            "Unsloth: Making `base_model.model.vision_tower.vision_model` require gradients\n"
          ]
        }
      ]
    },
    {
      "cell_type": "code",
      "source": [
        "# Print the patched layers information\n",
        "model.print_trainable_parameters()"
      ],
      "metadata": {
        "colab": {
          "base_uri": "https://localhost:8080/"
        },
        "id": "Hb0z4RXLWVJ3",
        "outputId": "7eddb773-6c8d-44e4-873a-1e240cd45801"
      },
      "execution_count": null,
      "outputs": [
        {
          "output_type": "stream",
          "name": "stdout",
          "text": [
            "trainable params: 32,788,480 || all params: 4,332,867,952 || trainable%: 0.7567\n"
          ]
        }
      ]
    },
    {
      "cell_type": "code",
      "source": [
        "# print(model)"
      ],
      "metadata": {
        "id": "kbeicXk2KloS"
      },
      "execution_count": null,
      "outputs": []
    },
    {
      "cell_type": "markdown",
      "source": [
        "**HuggingFace Login**"
      ],
      "metadata": {
        "id": "wjquX4j0EXAx"
      }
    },
    {
      "cell_type": "code",
      "source": [
        "from huggingface_hub import login\n",
        "from google.colab import userdata\n",
        "hf_token = userdata.get(\"HF_TOKEN\") #Replace with your Huggingface token\n",
        "login(hf_token)"
      ],
      "metadata": {
        "id": "bdCbM85OoBUB"
      },
      "execution_count": null,
      "outputs": []
    },
    {
      "cell_type": "markdown",
      "source": [
        "### Data Preparation"
      ],
      "metadata": {
        "id": "Ngrx2HDdjgCT"
      }
    },
    {
      "cell_type": "markdown",
      "source": [
        "**Loading dataset**"
      ],
      "metadata": {
        "id": "8WEvDOvSEbPu"
      }
    },
    {
      "cell_type": "code",
      "source": [
        "from datasets import load_dataset\n",
        "dataset = load_dataset(\"shrimantasatpati/legal-en-hi-anuvaad\")\n",
        "dataset"
      ],
      "metadata": {
        "colab": {
          "base_uri": "https://localhost:8080/",
          "height": 220,
          "referenced_widgets": [
            "255d4d4f152d4797b9714e107a27d66d",
            "503c5a76367a45f78e8f5c85a9bbfa92",
            "54afd23feb694d6eb766565d4c0eaa16",
            "f6697dd13e8b411a92e0fe890f86ed74",
            "7c4958ab2c97452a8395cdaa225e6ed2",
            "5e3e681fd9104bf2b8bd0c7a902e0115",
            "ec2713c59cfd49ef941bd551141e9711",
            "82ac7f97eeb64e9b90f96fac63f35e05",
            "9c88305048ec4ef18cb974a0ac3c89a4",
            "8c3856a7dc7e4da4bc71feed776564ae",
            "bdc6f6357425433c94b030feb5a32413",
            "59fe70a331db4b5d922c6cd3a87a6e64",
            "c9f9167a794a4077a9ff4d41d01068ed",
            "4ca49b9369e04044bbfdd1295a5a87ac",
            "2d798086ae13475bbc65bbc0b7c0fc56",
            "e0c3179d0e4b416fb50f8c153206710a",
            "2ec5435e03f74027b5878a1150c604ca",
            "7d8a795bdd2440d582b40125b7ebb9be",
            "0f165d94734d4b91afe84c7d2e992997",
            "3b7ba2da767148a687c4ed972f906705",
            "1edc28109b5c4ef7ba448fd906d324d4",
            "93246ee5ac16424198dcbf3244fc8a59",
            "0ffd9739333c4ab1aa9e968df8ccba9c",
            "58cf8d9b848c478da57059a8c900bb57",
            "af13879bfef24fcabce24abe21103ed8",
            "d56be52ac8ed43a6a6ab6b7c44b3d83c",
            "342ed9bcf39b4ec9ae00bb35bbc598c6",
            "e07199be98b345a6995481dbd75e2c84",
            "5c3b0dfa7ac044879bd9355d4c9348d4",
            "e572377643c5420a8413b4e51610f18e",
            "5a7a193d5c014fe88ac26c0f59a39f9e",
            "0875ac5306fc4e2298cae99bfcabdc31",
            "43f7eb29b2fd4428b361a6c666e48f29"
          ]
        },
        "id": "U0PJLxG7szSY",
        "outputId": "95b1c82e-82d7-417b-a1b3-b47b50af0715"
      },
      "execution_count": null,
      "outputs": [
        {
          "output_type": "display_data",
          "data": {
            "text/plain": [
              "README.md:   0%|          | 0.00/332 [00:00<?, ?B/s]"
            ],
            "application/vnd.jupyter.widget-view+json": {
              "version_major": 2,
              "version_minor": 0,
              "model_id": "255d4d4f152d4797b9714e107a27d66d"
            }
          },
          "metadata": {}
        },
        {
          "output_type": "display_data",
          "data": {
            "text/plain": [
              "train-00000-of-00001.parquet:   0%|          | 0.00/5.87M [00:00<?, ?B/s]"
            ],
            "application/vnd.jupyter.widget-view+json": {
              "version_major": 2,
              "version_minor": 0,
              "model_id": "59fe70a331db4b5d922c6cd3a87a6e64"
            }
          },
          "metadata": {}
        },
        {
          "output_type": "display_data",
          "data": {
            "text/plain": [
              "Generating train split:   0%|          | 0/30000 [00:00<?, ? examples/s]"
            ],
            "application/vnd.jupyter.widget-view+json": {
              "version_major": 2,
              "version_minor": 0,
              "model_id": "0ffd9739333c4ab1aa9e968df8ccba9c"
            }
          },
          "metadata": {}
        },
        {
          "output_type": "execute_result",
          "data": {
            "text/plain": [
              "DatasetDict({\n",
              "    train: Dataset({\n",
              "        features: ['english_sentence', 'hindi_sentence'],\n",
              "        num_rows: 30000\n",
              "    })\n",
              "})"
            ]
          },
          "metadata": {},
          "execution_count": 21
        }
      ]
    },
    {
      "cell_type": "markdown",
      "source": [
        "**Step 4: Defining the Alpaca Format For Preparing the Dataset**\n",
        "\n",
        "The code below defines a prompt formatting function for preparing training data in a structured format. It starts by creating a template (alpaca_prompt) that includes placeholders for the instruction, input, and output. The formatting_prompts_func function takes in a batch of examples, extracts the English (english_sentence) and Hindi (hindi_sentence) text, and formats them into the defined template. It adds an EOS_TOKEN (End-of-Sequence token) at the end of each formatted prompt to prevent the model from generating responses indefinitely. The final output is a dictionary with the formatted text for each example, ready for model training or fine-tuning.\n",
        "\n",
        "**Step 5: Loading the Dataset in the alpaca format**\n",
        "\n",
        "The dataset is prepared in the correct format, with each entry consisting of a properly structured instruction-input-output prompt for English-Hindi translation tasks."
      ],
      "metadata": {
        "id": "fsNPXFmucM_e"
      }
    },
    {
      "cell_type": "code",
      "source": [
        "# Define the Alpaca prompt template\n",
        "alpaca_prompt = \"\"\"Below is an instruction that describes a task, paired with an input that provides further context.\n",
        "Write a response that appropriately completes the request.\n",
        "\n",
        "### Instruction:\n",
        "Translate the English text to Hindi accurately, preserving the meaning and style.\n",
        "\n",
        "### Input:\n",
        "{}\n",
        "\n",
        "### Response:\n",
        "<think>\n",
        "Let me translate this English text to Hindi while preserving its meaning and nuances.\n",
        "</think>\n",
        "{}\"\"\"\n",
        "\n",
        "# # EOS_TOKEN should be defined based on your tokenizer\n",
        "# Add end of sequence token\n",
        "EOS_TOKEN = tokenizer.eos_token # Must add EOS_TOKEN\n",
        "\n",
        "# Formatting function that processes individual examples to work with the SFTTrainer\n",
        "def formatting_func(example):\n",
        "    input_text = example['english_sentence']\n",
        "    output = example['hindi_sentence']\n",
        "    # Return the formatted text string for this example\n",
        "    return {\"text\": alpaca_prompt.format(input_text, output) + EOS_TOKEN}\n",
        "\n",
        "# Apply the formatting function to create a formatted dataset\n",
        "formatted_dataset = dataset.map(formatting_func)\n",
        "\n",
        "# Show formatted dataset\n",
        "print(f\"Original dataset size: {len(dataset['train'])}\")\n",
        "print(f\"Formatted dataset size: {len(formatted_dataset['train'])}\")\n",
        "print(\"\\n\\n\",formatted_dataset)\n",
        "print(\"\\n\")\n",
        "print(f\"\\nSample formatted text:\")\n",
        "print(formatted_dataset[\"train\"][0]['text'][:500] + \"...\")"
      ],
      "metadata": {
        "id": "QcwpZerA0sDi",
        "colab": {
          "base_uri": "https://localhost:8080/"
        },
        "outputId": "88774257-4578-4e4d-9334-5eaceb3c1913"
      },
      "execution_count": null,
      "outputs": [
        {
          "output_type": "stream",
          "name": "stdout",
          "text": [
            "Original dataset size: 30000\n",
            "Formatted dataset size: 30000\n",
            "\n",
            "\n",
            " DatasetDict({\n",
            "    train: Dataset({\n",
            "        features: ['english_sentence', 'hindi_sentence', 'text'],\n",
            "        num_rows: 30000\n",
            "    })\n",
            "})\n",
            "\n",
            "\n",
            "\n",
            "Sample formatted text:\n",
            "Below is an instruction that describes a task, paired with an input that provides further context.\n",
            "Write a response that appropriately completes the request.\n",
            "\n",
            "### Instruction:\n",
            "Translate the English text to Hindi accurately, preserving the meaning and style.\n",
            "\n",
            "### Input:\n",
            "sharda\n",
            "\n",
            "### Response:\n",
            "<think>\n",
            "Let me translate this English text to Hindi while preserving its meaning and nuances.\n",
            "</think>\n",
            "शारदा<end_of_turn>...\n"
          ]
        }
      ]
    },
    {
      "cell_type": "markdown",
      "source": [
        "### Train model"
      ],
      "metadata": {
        "id": "SbqsltTpjzAH"
      }
    },
    {
      "cell_type": "markdown",
      "source": [
        "#### Split Dataset for Training and Evaluation"
      ],
      "metadata": {
        "id": "bqIRGukXOkd8"
      }
    },
    {
      "cell_type": "markdown",
      "source": [
        "# Create train/test split (95% train, 5% test)"
      ],
      "metadata": {
        "id": "Xw7wlo2yw6-P"
      }
    },
    {
      "cell_type": "code",
      "source": [
        "# Create train/test split (90% train, 10% test)\n",
        "# Call train_test_split on the 'train' split of the DatasetDict\n",
        "train_test_split = formatted_dataset['train'].train_test_split(test_size=0.05, seed=42)\n",
        "train_dataset = train_test_split['train']\n",
        "eval_dataset = train_test_split['test']\n",
        "print(f\"Training examples: {len(train_dataset)}\")\n",
        "print(f\"Evaluation examples: {len(eval_dataset)}\")"
      ],
      "metadata": {
        "id": "e6qrki04Og2-",
        "colab": {
          "base_uri": "https://localhost:8080/"
        },
        "outputId": "7f2e262a-6b36-4a64-aa1d-3308cb052b9d"
      },
      "execution_count": null,
      "outputs": [
        {
          "output_type": "stream",
          "name": "stdout",
          "text": [
            "Training examples: 28500\n",
            "Evaluation examples: 1500\n"
          ]
        }
      ]
    },
    {
      "cell_type": "code",
      "source": [
        "print(train_dataset)"
      ],
      "metadata": {
        "id": "_zwrNcsuJhGq",
        "colab": {
          "base_uri": "https://localhost:8080/"
        },
        "outputId": "f8f6e596-29a7-48f4-ac84-430919de50d8"
      },
      "execution_count": null,
      "outputs": [
        {
          "output_type": "stream",
          "name": "stdout",
          "text": [
            "Dataset({\n",
            "    features: ['english_sentence', 'hindi_sentence', 'text'],\n",
            "    num_rows: 28500\n",
            "})\n"
          ]
        }
      ]
    },
    {
      "cell_type": "code",
      "source": [
        "print(eval_dataset)"
      ],
      "metadata": {
        "id": "FjXmSsa2Jk0Y",
        "colab": {
          "base_uri": "https://localhost:8080/"
        },
        "outputId": "3cad91a8-b01e-42c2-94e9-9cfad4bc8fb8"
      },
      "execution_count": null,
      "outputs": [
        {
          "output_type": "stream",
          "name": "stdout",
          "text": [
            "Dataset({\n",
            "    features: ['english_sentence', 'hindi_sentence', 'text'],\n",
            "    num_rows: 1500\n",
            "})\n"
          ]
        }
      ]
    },
    {
      "cell_type": "markdown",
      "source": [
        "**Step 6: Defining Huggingface TRL’s SFTTrainer for Training the Model**\n",
        "\n",
        "The code below initializes an SFTTrainer for fine-tuning a model using the trl library. It sets up training parameters such as batch size, gradient accumulation steps, and learning rate within TrainingArguments. The trainer also configures logging and optimization settings, including the use of mixed precision (fp16 or bf16) based on hardware support. The training process is optimized with an AdamW optimizer and a linear learning rate scheduler.\n",
        "\n",
        "https://github.com/huggingface/trl"
      ],
      "metadata": {
        "id": "ry6Y-wir06sW"
      }
    },
    {
      "cell_type": "code",
      "source": [
        "!pip install wandb -q -U"
      ],
      "metadata": {
        "id": "ooi2AhEgbdJD"
      },
      "execution_count": null,
      "outputs": []
    },
    {
      "cell_type": "code",
      "source": [
        "import wandb"
      ],
      "metadata": {
        "id": "EuhxINkmboTj"
      },
      "execution_count": null,
      "outputs": []
    },
    {
      "cell_type": "code",
      "source": [
        "# import wandb\n",
        "# from google.colab import userdata\n",
        "# import os\n",
        "\n",
        "# # --- Your existing W&B token setup ---\n",
        "wb_token = userdata.get(\"wandb\")\n",
        "wandb.login(key=wb_token)\n",
        "\n",
        "# # --- Define a persistent path for your W&B run ID ---\n",
        "# wandb_run_id_file = \"/content/drive/My Drive/outputs/gemma_legal_en_hi/wandb_run_id.txt\"\n",
        "\n",
        "# --- Manually set the run ID you found on the W&B dashboard ---\n",
        "# !!! REPLACE 'YOUR_RETRIEVED_RUN_ID_HERE' with the actual ID you copied from W&B !!!\n",
        "# current_run_id = \"YOUR_RETRIEVED_RUN_ID_HERE\"\n",
        "\n",
        "# # --- Attempt to load an existing W&B run ID (this part becomes mostly for future runs) ---\n",
        "# # If you want to use the file for future auto-resumes, keep this block.\n",
        "# # If you always want to manually specify, you can simplify.\n",
        "# if os.path.exists(wandb_run_id_file):\n",
        "#     with open(wandb_run_id_file, \"r\") as f:\n",
        "#         # Check if the ID from file is different, if so, prefer the manually set one\n",
        "#         # or handle based on your preference. For now, we'll override if manually set.\n",
        "#         file_run_id = f.read().strip()\n",
        "#         if file_run_id and current_run_id is None: # Only use file ID if no manual ID\n",
        "#             current_run_id = file_run_id\n",
        "#     print(f\"Using W&B run ID: {current_run_id}\")\n",
        "\n",
        "\n",
        "# --- Initialize or Resume Weights & Biases Run ---\n",
        "run = wandb.init(\n",
        "    project='Fine-tuning Gemma-3-4B on English-Hindi Dataset',\n",
        "    job_type=\"training\",\n",
        "    # id=current_run_id, # Pass the loaded ID here\n",
        "    id = \"z7trnb82\",\n",
        "    resume=\"allow\",      # Use \"must\" to ensure it connects to this specific run ID.\n",
        "                        # It will error if the ID doesn't exist or isn't resumable.\n",
        "    config={\n",
        "        \"model\": \"gemma-3-4b-it\",\n",
        "        \"lora_r\": 16,\n",
        "        \"lora_alpha\": 32,\n",
        "        \"lora_dropout\": 0.05,\n",
        "        \"batch_size\": 2,\n",
        "        \"learning_rate\": 5e-5,\n",
        "        \"epochs\": 3,\n",
        "    },\n",
        "    anonymous=\"allow\" # Set to \"allow\" if you want to permit anonymous logging when the ID is not found or not resumable.\n",
        "                      # For specific ID, you might want to remove this if you only want to resume.\n",
        ")\n",
        "\n",
        "# # --- Save the current run ID for future resumptions ---\n",
        "# # This ensures that if you start a new run (e.g., after a full Colab reset and no ID provided)\n",
        "# # its ID is saved for the next time.\n",
        "# with open(wandb_run_id_file, \"w\") as f:\n",
        "#     f.write(run.id)\n",
        "# print(f\"Saved current W&B run ID: {run.id} to {wandb_run_id_file}\")\n",
        "\n",
        "# # ... rest of your trainer setup and trainer.train() call"
      ],
      "metadata": {
        "colab": {
          "base_uri": "https://localhost:8080/",
          "height": 211
        },
        "id": "WNwHzt2vVVSh",
        "outputId": "5e477056-08f9-4ae5-da00-39c8bb57ad0e"
      },
      "execution_count": null,
      "outputs": [
        {
          "output_type": "stream",
          "name": "stderr",
          "text": [
            "\u001b[34m\u001b[1mwandb\u001b[0m: \u001b[33mWARNING\u001b[0m If you're specifying your api key in code, ensure this code is not shared publicly.\n",
            "\u001b[34m\u001b[1mwandb\u001b[0m: \u001b[33mWARNING\u001b[0m Consider setting the WANDB_API_KEY environment variable, or running `wandb login` from the command line.\n",
            "\u001b[34m\u001b[1mwandb\u001b[0m: No netrc file found, creating one.\n",
            "\u001b[34m\u001b[1mwandb\u001b[0m: Appending key for api.wandb.ai to your netrc file: /root/.netrc\n",
            "\u001b[34m\u001b[1mwandb\u001b[0m: Currently logged in as: \u001b[33mprojpartnersllc\u001b[0m (\u001b[33mprojpartnersllc-projectpartnersllc\u001b[0m) to \u001b[32mhttps://api.wandb.ai\u001b[0m. Use \u001b[1m`wandb login --relogin`\u001b[0m to force relogin\n"
          ]
        },
        {
          "output_type": "display_data",
          "data": {
            "text/plain": [
              "<IPython.core.display.HTML object>"
            ],
            "text/html": [
              "Tracking run with wandb version 0.19.11"
            ]
          },
          "metadata": {}
        },
        {
          "output_type": "display_data",
          "data": {
            "text/plain": [
              "<IPython.core.display.HTML object>"
            ],
            "text/html": [
              "Run data is saved locally in <code>/content/wandb/run-20250527_154850-z7trnb82</code>"
            ]
          },
          "metadata": {}
        },
        {
          "output_type": "display_data",
          "data": {
            "text/plain": [
              "<IPython.core.display.HTML object>"
            ],
            "text/html": [
              "Resuming run <strong><a href='https://wandb.ai/projpartnersllc-projectpartnersllc/Fine-tuning%20Gemma-3-4B%20on%20English-Hindi%20Dataset/runs/z7trnb82?apiKey=85e578c3a30d6ff9c2ed9d9d9bae270746d5ba4c' target=\"_blank\">floral-capybara-18</a></strong> to <a href='https://wandb.ai/projpartnersllc-projectpartnersllc/Fine-tuning%20Gemma-3-4B%20on%20English-Hindi%20Dataset?apiKey=85e578c3a30d6ff9c2ed9d9d9bae270746d5ba4c' target=\"_blank\">Weights & Biases</a> (<a href='https://wandb.me/developer-guide' target=\"_blank\">docs</a>)<br>"
            ]
          },
          "metadata": {}
        },
        {
          "output_type": "display_data",
          "data": {
            "text/plain": [
              "<IPython.core.display.HTML object>"
            ],
            "text/html": [
              " View project at <a href='https://wandb.ai/projpartnersllc-projectpartnersllc/Fine-tuning%20Gemma-3-4B%20on%20English-Hindi%20Dataset?apiKey=85e578c3a30d6ff9c2ed9d9d9bae270746d5ba4c' target=\"_blank\">https://wandb.ai/projpartnersllc-projectpartnersllc/Fine-tuning%20Gemma-3-4B%20on%20English-Hindi%20Dataset?apiKey=85e578c3a30d6ff9c2ed9d9d9bae270746d5ba4c</a>"
            ]
          },
          "metadata": {}
        },
        {
          "output_type": "display_data",
          "data": {
            "text/plain": [
              "<IPython.core.display.HTML object>"
            ],
            "text/html": [
              " View run at <a href='https://wandb.ai/projpartnersllc-projectpartnersllc/Fine-tuning%20Gemma-3-4B%20on%20English-Hindi%20Dataset/runs/z7trnb82?apiKey=85e578c3a30d6ff9c2ed9d9d9bae270746d5ba4c' target=\"_blank\">https://wandb.ai/projpartnersllc-projectpartnersllc/Fine-tuning%20Gemma-3-4B%20on%20English-Hindi%20Dataset/runs/z7trnb82?apiKey=85e578c3a30d6ff9c2ed9d9d9bae270746d5ba4c</a>"
            ]
          },
          "metadata": {}
        },
        {
          "output_type": "display_data",
          "data": {
            "text/plain": [
              "<IPython.core.display.HTML object>"
            ],
            "text/html": [
              "Do NOT share these links with anyone. They can be used to claim your runs."
            ]
          },
          "metadata": {}
        }
      ]
    },
    {
      "cell_type": "code",
      "source": [
        "\n",
        "# import wandb\n",
        "\n",
        "# wb_token = userdata.get(\"wandb\")\n",
        "\n",
        "# wandb.login(key=wb_token)\n",
        "# run = wandb.init(\n",
        "#     project='Fine-tuning Gemma-3-4B on English-Hindi Dataset',\n",
        "#     job_type=\"training\",\n",
        "#     config={\n",
        "#     \"model\": \"gemma-3-4b-it\",\n",
        "#     \"lora_r\": 16,\n",
        "#     \"lora_alpha\": 32,\n",
        "#     \"lora_dropout\": 0.05,\n",
        "#     \"batch_size\": 2,\n",
        "#     \"learning_rate\": 5e-5,\n",
        "#     \"epochs\": 3,\n",
        "# },\n",
        "#     anonymous=\"allow\"\n",
        "# )"
      ],
      "metadata": {
        "id": "97-4PEvIQqDp"
      },
      "execution_count": null,
      "outputs": []
    },
    {
      "cell_type": "markdown",
      "source": [
        "**Train the model**\n",
        "\n",
        "Now let's use Huggingface TRL's `SFTTrainer`! More docs here: [TRL SFT docs](https://huggingface.co/docs/trl/sft_trainer). We do 60 steps to speed things up, but you can set `num_train_epochs=1` for a full run, and turn off `max_steps=None`."
      ],
      "metadata": {
        "id": "FviGLTxIA4c8"
      }
    },
    {
      "cell_type": "markdown",
      "source": [
        "    - Here gradient_accumulation_steps is set to 8 because that model’s weight update won’t happen after each batch. So this will accumulate the gradient over 8 batches before updating.\n",
        "\n",
        "    - Here warmup_steps gradually increase the learning rate at the start of training for 5 steps. After achieving the maximum, it will be reduced the defined value.\n",
        "\n",
        "    - To prevent overfitting, here we are applying some weight decay to the model weights."
      ],
      "metadata": {
        "id": "jn0LG_2nXrmZ"
      }
    },
    {
      "cell_type": "code",
      "source": [
        "# Configure SFT Trainer\n",
        "from trl import SFTTrainer\n",
        "from transformers import TrainingArguments\n",
        "from unsloth import is_bfloat16_supported"
      ],
      "metadata": {
        "id": "aR2xT9vmZFaw"
      },
      "execution_count": null,
      "outputs": []
    },
    {
      "cell_type": "code",
      "source": [
        "# Configure SFT Trainer with improved parameters\n",
        "trainer = SFTTrainer(\n",
        "    model=model,\n",
        "    tokenizer=tokenizer,\n",
        "    train_dataset=train_dataset,\n",
        "    eval_dataset=eval_dataset,  # Added evaluation dataset\n",
        "    dataset_text_field=\"text\",\n",
        "    max_seq_length=1024, # Max Sequence Length: Reduced to 1024 during tokenization\n",
        "    dataset_num_proc=4,  # Increased from 2 to 4 for faster processing\n",
        "    packing=False,  # Keep packing off for translation tasks\n",
        "    args=TrainingArguments(\n",
        "        per_device_train_batch_size=2,  # Increased from 1 to 2\n",
        "        per_device_eval_batch_size=4,   # Added evaluation batch size\n",
        "        gradient_accumulation_steps=4,  # Reduced from 8 to 4 (effective batch size = 8)\n",
        "\n",
        "        # Improved training schedule\n",
        "        num_train_epochs=3,             # Train for multiple epochs instead of fixed steps\n",
        "        # max_steps=-1,                 # Use epochs instead of steps\n",
        "        # max_steps = 4000,\n",
        "\n",
        "        # Per device batch size: 2\n",
        "        # Gradient accumulation steps: 4\n",
        "        # Effective batch size per step: 8 examples\n",
        "        # This means after 60 steps, your model will have seen only 480 translation examples (60 × 8).\n",
        "        # For translation fine-tuning, I would recommend:\n",
        "\n",
        "        # At least 1,000-3,000 steps for minimal adaptation\n",
        "        # For robust performance, closer to 10,000+ steps would be better\n",
        "\n",
        "        # Better learning rate schedule\n",
        "        learning_rate=5e-5,             # Increased from 2e-4 to 5e-5 for stability\n",
        "        warmup_ratio=0.1,               # Use ratio instead of steps (10% of training)\n",
        "        # warmup_steps = 5,\n",
        "        # It automatically scales with your total training length\n",
        "        # For your task, 10% warmup allows the model to gradually adapt to the translation task\n",
        "\n",
        "        # Mixed precision settings based on hardware\n",
        "        bf16=is_bfloat16_supported(),\n",
        "        fp16=not is_bfloat16_supported(),\n",
        "\n",
        "        # Improved logging and evaluation\n",
        "        # logging_steps=25,               # 50 # Log more frequently for small datasets\n",
        "        # eval_steps=50,                 # Added regular evaluation # Evaluate frequently to catch overfitting (~3 times per epoch)\n",
        "        # save_steps=500,                 # Save checkpoints more frequently\n",
        "        logging_steps=50, # Can increase slightly from 25 to 50 if logs get too verbose\n",
        "        eval_steps=500, # <--- Adjust eval_steps to evaluate roughly 5-10 times per epoch\n",
        "        save_steps=500, # <--- Keep save_steps aligned or slightly less frequent than eval\n",
        "        eval_strategy=\"steps\",          # Explicitly set eval strategy to match save strategy\n",
        "        save_strategy=\"steps\",          # Explicitly set save strategy\n",
        "\n",
        "        # Optimizer and weight decay\n",
        "        optim=\"adamw_8bit\", # It uses 8-bit precision for optimizer states, significantly reducing memory usage #adamfusedtorch\n",
        "        weight_decay=0.01,\n",
        "        lr_scheduler_type=\"cosine\", # \"linear\"\n",
        "\n",
        "        # It gradually reduces learning rate, improving convergence\n",
        "        # Translation tasks benefit from the smoother learning rate decay pattern\n",
        "        # Helps prevent overfitting in the later stages of fine-tuning\n",
        "        # Cosine decay is still good for longer runs\n",
        "\n",
        "        # Output directory and reporting\n",
        "        # output_dir=\"outputs\",\n",
        "        output_dir = \"/content/drive/My Drive/outputs\",\n",
        "        report_to=\"wandb\",\n",
        "\n",
        "        # Seed for reproducibility\n",
        "        seed=42, #3407,\n",
        "        save_total_limit = 2,\n",
        "        load_best_model_at_end=True, # CRUCIAL for small datasets\n",
        "        metric_for_best_model=\"eval_loss\", # Start with loss. Can switch to \"eval_bleu\" etc. if you set up compute_metrics\n",
        "        greater_is_better=False, # For loss, False is better\n",
        "        # gradient_checkpointing=True, # Only if you run into OOM\n",
        "        # gradient_checkpointing_kwargs={'use_reentrant': False},\n",
        "    )\n",
        ")"
      ],
      "metadata": {
        "colab": {
          "base_uri": "https://localhost:8080/",
          "height": 99,
          "referenced_widgets": [
            "2a1b9264bb844cd89b856353cf2f175c",
            "699967587a25463ea936f7d1b278ea89",
            "d492e986dec744eca9f881b825b9cc1b",
            "d76d5e8df77f4f00a2d489d884aa4715",
            "660dd077ffda4c8993d78d64ca30ffac",
            "bbe30af8beb249179dbc430f2627bf52",
            "7b82bc579f7044b8851dc7c3e14e5dc3",
            "a06f363fa8b040ce8f22e6a15d5958eb",
            "b137f6cc64ef4bb2af846232e7cd4263",
            "89270e432bc9411fa54e74847e48f8c7",
            "98cfec2f0f0e4ebc844f1cdb61fe07bf",
            "03e831d55e9f419a8bc46e231c2ea1a9",
            "00d3ea49f73b4cf6b4261e03e7f71ae4",
            "2f9a4b44a5024a9ea98a961ffd4dfbcd",
            "e7d51dacfc0144d6a40c0a99b3d9f9c1",
            "0a5a356fbd584bd49643e09328689cf3",
            "c2dfd20990724b5a8be3e89221b0778b",
            "76aa20af694e4d71b276b22ba23759a4",
            "701d148b22ec43dc9e9a599efc7208da",
            "81324f6581f34731804e17fadb6e5dd9",
            "c5829e3613f8439e803bfb1fd0582a18",
            "48e6a919102346a4ae1ceb96cb20e595"
          ]
        },
        "id": "d95sFKv4lt4A",
        "outputId": "2fb5e226-e15e-470a-95d8-5908aa6d6351"
      },
      "execution_count": null,
      "outputs": [
        {
          "output_type": "stream",
          "name": "stdout",
          "text": [
            "Unsloth: Switching to float32 training since model cannot work with float16\n"
          ]
        },
        {
          "output_type": "display_data",
          "data": {
            "text/plain": [
              "Unsloth: Tokenizing [\"text\"] (num_proc=4):   0%|          | 0/28500 [00:00<?, ? examples/s]"
            ],
            "application/vnd.jupyter.widget-view+json": {
              "version_major": 2,
              "version_minor": 0,
              "model_id": "2a1b9264bb844cd89b856353cf2f175c"
            }
          },
          "metadata": {}
        },
        {
          "output_type": "display_data",
          "data": {
            "text/plain": [
              "Unsloth: Tokenizing [\"text\"] (num_proc=4):   0%|          | 0/1500 [00:00<?, ? examples/s]"
            ],
            "application/vnd.jupyter.widget-view+json": {
              "version_major": 2,
              "version_minor": 0,
              "model_id": "03e831d55e9f419a8bc46e231c2ea1a9"
            }
          },
          "metadata": {}
        }
      ]
    },
    {
      "cell_type": "code",
      "source": [
        "# @title Show current memory stats\n",
        "gpu_stats = torch.cuda.get_device_properties(0)\n",
        "start_gpu_memory = round(torch.cuda.max_memory_reserved() / 1024 / 1024 / 1024, 3)\n",
        "max_memory = round(gpu_stats.total_memory / 1024 / 1024 / 1024, 3)\n",
        "print(f\"GPU = {gpu_stats.name}. Max memory = {max_memory} GB.\")\n",
        "print(f\"{start_gpu_memory} GB of memory reserved.\")"
      ],
      "metadata": {
        "id": "prc9CyOMHE1f",
        "colab": {
          "base_uri": "https://localhost:8080/"
        },
        "outputId": "5348b4fb-bff2-432f-d2c9-9092d61e8850"
      },
      "execution_count": null,
      "outputs": [
        {
          "output_type": "stream",
          "name": "stdout",
          "text": [
            "GPU = Tesla T4. Max memory = 14.741 GB.\n",
            "5.57 GB of memory reserved.\n"
          ]
        }
      ]
    },
    {
      "cell_type": "markdown",
      "source": [
        "Let's train the model! To resume a training run, set `trainer.train(resume_from_checkpoint = True)`"
      ],
      "metadata": {
        "id": "sJLUCbnFHMeB"
      }
    },
    {
      "cell_type": "markdown",
      "source": [
        "Okay, let's update the calculation for 30,000 examples.\n",
        "\n",
        "First, we need to determine the number of training examples from your 30,000 total. Assuming your 95% train / 5% eval split:\n",
        "\n",
        "    Number of Training Examples: 30,000 total examples×0.95=28,500 training examples\n",
        "\n",
        "Now, let's use your provided formula and batch size configuration:\n",
        "\n",
        "    Effective Batch Size: 8 (calculated as per_device_train_batch_size (2) x Gradient accumulation steps (4) = 8 examples/step)\n",
        "\n",
        "Calculation for Steps per Epoch:\n",
        "\n",
        "    Steps per Epoch: 28,500 examples/8 examples/step=3562.5 steps/epoch\n",
        "\n",
        "Similar to before, the trainer will likely round down or truncate this to the nearest whole number for the number of updates per epoch. So, this means approximately 3562 steps per epoch.\n",
        "\n",
        "Calculating Total Steps based on Recommended Epochs (3 to 5 Epochs):\n",
        "\n",
        "    For 3 Epochs:\n",
        "        Total Steps: 3562 steps/epoch×3 epochs=10,686 total steps\n",
        "\n",
        "    For 5 Epochs:\n",
        "        Total Steps: 3562 steps/epoch×5 epochs=17,810 total steps\n",
        "\n",
        "This updated calculation shows that even with 3 to 5 epochs, you'll be performing a significantly higher number of training steps compared to your previous run, providing much more opportunity for your model to learn from the larger dataset."
      ],
      "metadata": {
        "id": "oRy3swbptQgS"
      }
    },
    {
      "cell_type": "markdown",
      "source": [
        "**Step 7: Starting the Training**"
      ],
      "metadata": {
        "id": "jH1Grye01ERp"
      }
    },
    {
      "cell_type": "code",
      "source": [
        "# import zipfile\n",
        "\n",
        "# zip_path = \"/content/drive/My Drive/outputs\"\n",
        "# output_dir = \"/content/drive/My Drive/outputs\"  # Unzip to the same directory\n",
        "\n",
        "# # Ensure the output directory exists\n",
        "# os.makedirs(output_dir, exist_ok=True)\n",
        "# zip_file_path = os.path.join(zip_path, \"checkpoint-1000.zip\") # Assuming the zip file is named checkpoint-1000.zip inside the directory\n",
        "\n",
        "# # Check if the zip file exists before attempting to extract\n",
        "# if os.path.exists(zip_file_path):\n",
        "#   print(f\"Unzipping {zip_file_path} to {output_dir}\")\n",
        "#   with zipfile.ZipFile(zip_file_path, 'r') as zip_ref:\n",
        "#       zip_ref.extractall(output_dir)\n",
        "#   print(\"Unzipping complete.\")\n",
        "# else:\n",
        "#   print(f\"Zip file not found at {zip_file_path}\")"
      ],
      "metadata": {
        "id": "nCgGN1DZTLt9"
      },
      "execution_count": null,
      "outputs": []
    },
    {
      "cell_type": "code",
      "source": [
        "import os\n",
        "import zipfile\n",
        "# 2. Define paths\n",
        "# This is the EXACT path to your .zip file on Google Drive (confirmed by your screenshot)\n",
        "zip_path = \"/content/drive/My Drive/outputs/checkpoint-1000.zip\"\n",
        "# This is the local Colab directory where the zip contents will be extracted.\n",
        "# IMPORTANT: This path is temporary and will be DELETED when your Colab session ends.\n",
        "unzip_dest = \"/content/unzipped_checkpoint_1000\"\n",
        "\n",
        "# 3. Create local destination directory and unzip the file\n",
        "print(f\"Creating local directory '{unzip_dest}' and unzipping...\")\n",
        "try:\n",
        "    os.makedirs(unzip_dest, exist_ok=True)\n",
        "    with zipfile.ZipFile(zip_path, 'r') as zip_ref:\n",
        "        zip_ref.extractall(unzip_dest)\n",
        "    print(f\"Successfully unzipped '{zip_path}' to '{unzip_dest}'\")\n",
        "    # Verify contents of the unzipped directory\n",
        "    !ls -l {unzip_dest}\n",
        "except Exception as e:\n",
        "    print(f\"Error during unzipping: {e}\")\n",
        "    print(\"This might be due to a network glitch, temporary Colab issue, or a corrupted zip file.\")\n",
        "    raise SystemExit(\"Unzipping failed.\")"
      ],
      "metadata": {
        "colab": {
          "base_uri": "https://localhost:8080/"
        },
        "id": "9VRxKZ_KazuF",
        "outputId": "900262af-27b5-42c8-b9ab-020719070d83"
      },
      "execution_count": null,
      "outputs": [
        {
          "output_type": "stream",
          "name": "stdout",
          "text": [
            "Creating local directory '/content/unzipped_checkpoint_1000' and unzipping...\n",
            "Successfully unzipped '/content/drive/My Drive/outputs/checkpoint-1000.zip' to '/content/unzipped_checkpoint_1000'\n",
            "total 4\n",
            "drwxr-xr-x 3 root root 4096 May 27 15:49 content\n"
          ]
        }
      ]
    },
    {
      "cell_type": "code",
      "source": [
        "# Begin training process and collect training statistics\n",
        "print(\"Starting model training...\")\n",
        "torch.cuda.empty_cache()\n",
        "# trainer_stats = trainer.train()\n",
        "# trainer_stats = trainer.train(resume_from_checkpoint = True)\n",
        "trainer_stats = trainer.train(resume_from_checkpoint = \"/content/drive/MyDrive/outputs/checkpoint-3500\")\n",
        "# trainer_stats = trainer.train()\n",
        "print(\"Training complete!\")"
      ],
      "metadata": {
        "id": "WJ6cShNI1FJ_",
        "colab": {
          "base_uri": "https://localhost:8080/",
          "height": 185
        },
        "outputId": "599ce2a9-b705-430d-f163-a73310cfd71b"
      },
      "execution_count": null,
      "outputs": [
        {
          "output_type": "stream",
          "name": "stdout",
          "text": [
            "Starting model training...\n"
          ]
        },
        {
          "output_type": "stream",
          "name": "stderr",
          "text": [
            "==((====))==  Unsloth - 2x faster free finetuning | Num GPUs used = 1\n",
            "   \\\\   /|    Num examples = 28,500 | Num Epochs = 3 | Total steps = 10,686\n",
            "O^O/ \\_/ \\    Batch size per device = 2 | Gradient accumulation steps = 4\n",
            "\\        /    Data Parallel GPUs = 1 | Total batch size (2 x 4 x 1) = 8\n",
            " \"-____-\"     Trainable parameters = 32,788,480/4,000,000,000 (0.82% trained)\n"
          ]
        },
        {
          "output_type": "display_data",
          "data": {
            "text/plain": [
              "<IPython.core.display.HTML object>"
            ],
            "text/html": [
              "\n",
              "    <div>\n",
              "      \n",
              "      <progress value='3645' max='10686' style='width:300px; height:20px; vertical-align: middle;'></progress>\n",
              "      [ 3645/10686 09:14 < 7:34:39, 0.26 it/s, Epoch 1.02/3]\n",
              "    </div>\n",
              "    <table border=\"1\" class=\"dataframe\">\n",
              "  <thead>\n",
              " <tr style=\"text-align: left;\">\n",
              "      <th>Step</th>\n",
              "      <th>Training Loss</th>\n",
              "      <th>Validation Loss</th>\n",
              "    </tr>\n",
              "  </thead>\n",
              "  <tbody>\n",
              "  </tbody>\n",
              "</table><p>"
            ]
          },
          "metadata": {}
        }
      ]
    },
    {
      "cell_type": "code",
      "source": [
        "!zip -r checkpoint-4000.zip \"/content/drive/MyDrive/outputs/checkpoint-4000\""
      ],
      "metadata": {
        "id": "Mcobl1SvuhhM"
      },
      "execution_count": null,
      "outputs": []
    },
    {
      "cell_type": "code",
      "source": [
        "from google.colab import files\n",
        "\n",
        "files.download(\"/content/checkpoint-4000.zip\")"
      ],
      "metadata": {
        "id": "Q7Ll1_8VuqKY"
      },
      "execution_count": null,
      "outputs": []
    },
    {
      "cell_type": "code",
      "source": [
        "# !zip -r checkpoint-1500.zip \"/content/drive/MyDrive/outputs/checkpoint-1500\""
      ],
      "metadata": {
        "colab": {
          "base_uri": "https://localhost:8080/"
        },
        "id": "NcpBWRXekbx5",
        "outputId": "0bb8da10-be6a-4fcd-f208-8d172a7599ed"
      },
      "execution_count": null,
      "outputs": [
        {
          "output_type": "stream",
          "name": "stdout",
          "text": [
            "  adding: content/drive/MyDrive/outputs/checkpoint-1500/ (stored 0%)\n",
            "  adding: content/drive/MyDrive/outputs/checkpoint-1500/README.md (deflated 66%)\n",
            "  adding: content/drive/MyDrive/outputs/checkpoint-1500/adapter_model.safetensors (deflated 13%)\n",
            "  adding: content/drive/MyDrive/outputs/checkpoint-1500/adapter_config.json (deflated 56%)\n",
            "  adding: content/drive/MyDrive/outputs/checkpoint-1500/preprocessor_config.json (deflated 55%)\n",
            "  adding: content/drive/MyDrive/outputs/checkpoint-1500/tokenizer_config.json (deflated 96%)\n",
            "  adding: content/drive/MyDrive/outputs/checkpoint-1500/special_tokens_map.json (deflated 77%)\n",
            "  adding: content/drive/MyDrive/outputs/checkpoint-1500/added_tokens.json (stored 0%)\n",
            "  adding: content/drive/MyDrive/outputs/checkpoint-1500/tokenizer.model (deflated 52%)\n",
            "  adding: content/drive/MyDrive/outputs/checkpoint-1500/tokenizer.json (deflated 83%)\n",
            "  adding: content/drive/MyDrive/outputs/checkpoint-1500/chat_template.json (deflated 70%)\n",
            "  adding: content/drive/MyDrive/outputs/checkpoint-1500/processor_config.json (deflated 11%)\n",
            "  adding: content/drive/MyDrive/outputs/checkpoint-1500/training_args.bin (deflated 51%)\n",
            "  adding: content/drive/MyDrive/outputs/checkpoint-1500/optimizer.pt (deflated 12%)\n",
            "  adding: content/drive/MyDrive/outputs/checkpoint-1500/scheduler.pt (deflated 56%)\n",
            "  adding: content/drive/MyDrive/outputs/checkpoint-1500/rng_state.pth (deflated 25%)\n",
            "  adding: content/drive/MyDrive/outputs/checkpoint-1500/trainer_state.json (deflated 75%)\n"
          ]
        }
      ]
    },
    {
      "cell_type": "code",
      "source": [
        "# from google.colab import files\n",
        "\n",
        "# files.download(\"/content/checkpoint-1500.zip\")"
      ],
      "metadata": {
        "colab": {
          "base_uri": "https://localhost:8080/",
          "height": 17
        },
        "id": "IXB5cLQrk3f6",
        "outputId": "704e0ad7-e030-46f3-ebcd-cf56b771c436"
      },
      "execution_count": null,
      "outputs": [
        {
          "output_type": "display_data",
          "data": {
            "text/plain": [
              "<IPython.core.display.Javascript object>"
            ],
            "application/javascript": [
              "\n",
              "    async function download(id, filename, size) {\n",
              "      if (!google.colab.kernel.accessAllowed) {\n",
              "        return;\n",
              "      }\n",
              "      const div = document.createElement('div');\n",
              "      const label = document.createElement('label');\n",
              "      label.textContent = `Downloading \"${filename}\": `;\n",
              "      div.appendChild(label);\n",
              "      const progress = document.createElement('progress');\n",
              "      progress.max = size;\n",
              "      div.appendChild(progress);\n",
              "      document.body.appendChild(div);\n",
              "\n",
              "      const buffers = [];\n",
              "      let downloaded = 0;\n",
              "\n",
              "      const channel = await google.colab.kernel.comms.open(id);\n",
              "      // Send a message to notify the kernel that we're ready.\n",
              "      channel.send({})\n",
              "\n",
              "      for await (const message of channel.messages) {\n",
              "        // Send a message to notify the kernel that we're ready.\n",
              "        channel.send({})\n",
              "        if (message.buffers) {\n",
              "          for (const buffer of message.buffers) {\n",
              "            buffers.push(buffer);\n",
              "            downloaded += buffer.byteLength;\n",
              "            progress.value = downloaded;\n",
              "          }\n",
              "        }\n",
              "      }\n",
              "      const blob = new Blob(buffers, {type: 'application/binary'});\n",
              "      const a = document.createElement('a');\n",
              "      a.href = window.URL.createObjectURL(blob);\n",
              "      a.download = filename;\n",
              "      div.appendChild(a);\n",
              "      a.click();\n",
              "      div.remove();\n",
              "    }\n",
              "  "
            ]
          },
          "metadata": {}
        },
        {
          "output_type": "display_data",
          "data": {
            "text/plain": [
              "<IPython.core.display.Javascript object>"
            ],
            "application/javascript": [
              "download(\"download_f11336d8-b7df-43e3-a648-332855a93a53\", \"checkpoint-1500.zip\", 177087887)"
            ]
          },
          "metadata": {}
        }
      ]
    },
    {
      "cell_type": "code",
      "source": [
        "# !zip -r checkpoint-1000.zip \"/content/drive/My Drive/outputs/checkpoint-1000\""
      ],
      "metadata": {
        "id": "e3WPZQWjzoLI"
      },
      "execution_count": null,
      "outputs": []
    },
    {
      "cell_type": "code",
      "source": [
        "# !zip -r checkpoint-1000.zip \"/content/drive/My Drive/outputs/checkpoint-500\""
      ],
      "metadata": {
        "id": "wa9ZHsqoEXz3"
      },
      "execution_count": null,
      "outputs": []
    },
    {
      "cell_type": "code",
      "source": [
        "# @title Show final memory and time stats\n",
        "used_memory = round(torch.cuda.max_memory_reserved() / 1024 / 1024 / 1024, 3)\n",
        "used_memory_for_lora = round(used_memory - start_gpu_memory, 3)\n",
        "used_percentage = round(used_memory / max_memory * 100, 3)\n",
        "lora_percentage = round(used_memory_for_lora / max_memory * 100, 3)\n",
        "print(f\"{trainer_stats.metrics['train_runtime']} seconds used for training.\")\n",
        "print(\n",
        "    f\"{round(trainer_stats.metrics['train_runtime']/60, 2)} minutes used for training.\"\n",
        ")\n",
        "print(f\"Peak reserved memory = {used_memory} GB.\")\n",
        "print(f\"Peak reserved memory for training = {used_memory_for_lora} GB.\")\n",
        "print(f\"Peak reserved memory % of max memory = {used_percentage} %.\")\n",
        "print(f\"Peak reserved memory for training % of max memory = {lora_percentage} %.\")"
      ],
      "metadata": {
        "id": "1NI7eiaAIQZ1"
      },
      "execution_count": null,
      "outputs": []
    },
    {
      "cell_type": "code",
      "source": [
        "# The model loaded at the end will be the best one according to eval_loss\n",
        "print(f\"Best eval loss: {trainer.state.best_metric}\")\n",
        "print(f\"Best checkpoint: {trainer.state.best_model_checkpoint}\")"
      ],
      "metadata": {
        "id": "8jYWa9epZAG6"
      },
      "execution_count": null,
      "outputs": []
    },
    {
      "cell_type": "code",
      "source": [
        "# Save the fine-tuned model\n",
        "wandb.finish()"
      ],
      "metadata": {
        "id": "J3wvyIrcTH4s"
      },
      "execution_count": null,
      "outputs": []
    },
    {
      "cell_type": "markdown",
      "source": [
        "### Inference from finetuned model"
      ],
      "metadata": {
        "id": "Hob1kTLMkDdr"
      }
    },
    {
      "cell_type": "markdown",
      "source": [
        "**Step 8: Inference from the Fine Tuned Model**\n",
        "\n",
        "The code below sets up inference for the fine-tuned model using FastModel. It first prepares a prompt (alpaca_prompt) for translation from English to Hindi by formatting it with an example input. The prompt is tokenized and transferred to a GPU (cuda) for efficient computation. The model then generates a response with a maximum of 64 new tokens, and the output is decoded back into text. Finally, it extracts the part of the output after the “### Response:” section, which contains the generated Hindi translation."
      ],
      "metadata": {
        "id": "GLlM7WHf1KKc"
      }
    },
    {
      "cell_type": "markdown",
      "source": [
        "Let's run the model via Unsloth native inference! According to the Gemma-3 team, the recommended settings for inference are temperature = 1.0, top_p = 0.95, top_k = 64, Here we want exact output, so we are not using the usual hyperparameters"
      ],
      "metadata": {
        "id": "sqyUyRE_GMji"
      }
    },
    {
      "cell_type": "code",
      "source": [
        "# Prepare Model for Inference\n",
        "FastModel.for_inference(model) # Enable native 2x faster inference\n",
        "# Define optimized inference prompt template\n",
        "inference_prompt = \"\"\"Below is an instruction that describes a task, paired with an input that provides further context.\n",
        "Write a response that appropriately completes the request.\n",
        "\n",
        "### Instruction:\n",
        "Translate the English text to Hindi accurately, preserving the meaning and style.\n",
        "\n",
        "### Input:\n",
        "{}\n",
        "\n",
        "### Response:\n",
        "\"\"\"\n",
        "print(\"Model prepared for inference\")\n",
        "\n",
        "def translate_to_hindi(english_text):\n",
        "    \"\"\"Translate English text to Hindi using fine-tuned model\"\"\"\n",
        "    inputs = tokenizer(\n",
        "        [inference_prompt.format(english_text)],\n",
        "        return_tensors=\"pt\"\n",
        "    ).to(\"cuda\")\n",
        "\n",
        "    # Generate with improved parameters\n",
        "    outputs = model.generate(\n",
        "        **inputs,\n",
        "        max_new_tokens=256,  # Adjusted based on expected output length\n",
        "        temperature=0.0,     # Lower temperature for translation tasks\n",
        "        top_p=0.95,          # Keep high diversity but filter unlikely tokens\n",
        "        do_sample=False,     # Deterministic for translation\n",
        "        use_cache=True\n",
        "    )\n",
        "\n",
        "    # Extract translation from response\n",
        "    full_response = tokenizer.batch_decode(outputs, skip_special_tokens=True)[0]\n",
        "\n",
        "    # Extract the part after \"### Response:\"\n",
        "    if \"### Response:\" in full_response:\n",
        "        translation = full_response.split(\"### Response:\")[1].strip()\n",
        "    else:\n",
        "        translation = full_response.strip()\n",
        "\n",
        "    # Clean up any EOS tokens\n",
        "    if EOS_TOKEN in translation:\n",
        "        translation = translation.split(EOS_TOKEN)[0].strip()\n",
        "\n",
        "    return translation\n",
        "\n",
        "# Get translations from fine-tuned model\n",
        "print(\"Getting translations from fine-tuned model...\")\n",
        "test_sentences = [\"The Constitution of India is the supreme law of the land and provides the framework for the country's legal system.\"]\n",
        "fine_tuned_translations = []\n",
        "for sentence in test_sentences:\n",
        "    translation = translate_to_hindi(sentence)\n",
        "    fine_tuned_translations.append(translation)\n",
        "    print(f\"English: {sentence}\")\n",
        "    print(f\"Hindi: {translation}\")\n",
        "    print()"
      ],
      "metadata": {
        "id": "RrlkACcj1HCt"
      },
      "execution_count": null,
      "outputs": []
    },
    {
      "cell_type": "markdown",
      "source": [
        "**Step 9: Saving the Model & Pushing to Hugging Face**\n",
        "\n",
        "The following code is for saving the trained model and pushing it to Hugging Face Hub. You would need to give it the HF token for writing to the Hub."
      ],
      "metadata": {
        "id": "K81Er2fh1OeS"
      }
    },
    {
      "cell_type": "code",
      "source": [
        "# Save LoRA adapters locally\n",
        "\n",
        "# After fine-tuning, you can save the model with the adapters and tokenizer locally using these steps:\n",
        "model.save_pretrained(\"lora_model\")  # Local saving\n",
        "tokenizer.save_pretrained(\"lora_model\")\n",
        "\n",
        "model.push_to_hub(\"shrimantasatpati/english_to_hindi_legal_FT_gemma3_4b_it\") # Online saving\n",
        "tokenizer.push_to_hub(\"shrimantasatpati/english_to_hindi_legal_FT_gemma3_4b_it\") # Online saving\n",
        "print(f\"Model and tokenizer pushed to Hugging Face Hub\")"
      ],
      "metadata": {
        "id": "WGKdYxPb1Rk-"
      },
      "execution_count": null,
      "outputs": []
    },
    {
      "cell_type": "markdown",
      "source": [
        "**Test Individual Sentences**"
      ],
      "metadata": {
        "id": "VeB0wCjbP8y-"
      }
    },
    {
      "cell_type": "code",
      "source": [
        "# Test with various examples\n",
        "test_sentences = [\n",
        "    \"The Constitution of India is the supreme law of the land and provides the framework for the country's legal system.\",\n",
        "    \"The Supreme Court of India, established in 1950, serves as the highest judicial forum and final court of appeal.\",\n",
        "    \"Filing a First Information Report (FIR) at the police station is mandatory to initiate criminal proceedings under the Code of Criminal Procedure.\",\n",
        "    \"Section 302 of the Indian Penal Code prescribes punishment for murder, which may extend to death penalty or life imprisonment.\",\n",
        "    \"The writ of habeas corpus can be filed in a High Court if a person is illegally detained or imprisoned.\",\n",
        "    \"Under the Indian Evidence Act, a dying declaration is admissible as evidence in court proceedings.\",\n",
        "    \"The Right to Information Act of 2005 empowers citizens to request information from public authorities.\",\n",
        "    \"Anticipatory bail under Section 438 of the Criminal Procedure Code allows a person to seek bail in anticipation of arrest.\",\n",
        "    \"The doctrine of stare decisis is followed by Indian courts, wherein precedents set by higher courts are binding on lower courts.\",\n",
        "    \"The Advocate General is appointed by the Governor and serves as the highest law officer of a state.\"\n",
        "]\n",
        "\n",
        "# Get translations from fine-tuned model\n",
        "print(\"Getting translations from fine-tuned model...\")\n",
        "fine_tuned_translations = []\n",
        "for sentence in test_sentences:\n",
        "    translation = translate_to_hindi(sentence)\n",
        "    fine_tuned_translations.append(translation)\n",
        "    print(f\"English: {sentence}\")\n",
        "    print(f\"Hindi: {translation}\")\n",
        "    print()"
      ],
      "metadata": {
        "id": "VmIrG9ucfG5x"
      },
      "execution_count": null,
      "outputs": []
    },
    {
      "cell_type": "code",
      "source": [
        "fine_tuned_translations = [\n",
        "    \"भारत का संविधान देश का सर्वोच्च कानून है और देश के कानूनी प्रणाली के लिए एक रूपरेखा प्रदान करता है।\",\n",
        "    \"भारत का सर्वोच्च न्यायालय, 1950 में स्थापित, उच्चतम न्यायिक मंच और अंतिम अपील न्यायालय है ।\",\n",
        "    \"प्रथम सूचना रिपोर्ट (एफआईआर) को अपराध-मामलों के आरंभ के लिए संहिता के अधीन कार्यवाही शुरू करने के लिए पुलिस थाने में दाखिल करना अनिवार्य है।\",\n",
        "    \"धारा 302, दंड संहिता, उन लोगों के विरुद्ध मृत्युदंड या जीवन पर्यंत कारावास का अर्थ है जो किसी की हत्या करते हैं।\",\n",
        "    \"उच्च न्यायालय में किसी व्यक्ति को अवैध रूप से हिरासत या कारावास में रखा गया है या नहीं, यह जांच करने के लिए हबियस कॉर्पस का רשימה दायर किया जा सकता है।\",\n",
        "    \"भारतीय साक्ष्य अधिनियम के तहत, मृत्यु की घोषणा को अदालत की कार्यवाही में साक्ष्य के रूप में ग्राह्म है।\",\n",
        "    \"सूचना अधिनियम 2005 नागरिकों को सार्वजनिक प्राधिकरणों से सूचना मांगने का अधिकार देता है।\",\n",
        "    \"भारतीय दंड प्रक्रिया संहिता की धारा 438 के अधीन अग्रिम जमानत, किसी व्यक्ति को उन किए जाने वाले संसpection की अग्रसरिता में जमानत की मांग करने की अनुमति देती है ।\",\n",
        "    \"डॉक्टरिन ऑफ स्टेयर डिसिसस का भारतीय अदालतों द्वारा पालन किया जाता है, जहां उच्च न्यायालय द्वारा निर्धारित पूर्वधारणाएं निम्न न्यायालयों के लिए बाध्यकारी होती हैं ।\",\n",
        "    \"राज्य सरकार के अधीन महा kuasa नियुक्त किया जाता है। महा kuasa राज्य सरकार की उच्चतम विधि संबंधी अधिकारी नियुक्त करता है और उसे सेवा प्रदान करता है।\"\n",
        "]"
      ],
      "metadata": {
        "id": "10JRbHOHDSdT"
      },
      "execution_count": null,
      "outputs": []
    },
    {
      "cell_type": "code",
      "source": [
        "fine_tuned_translations"
      ],
      "metadata": {
        "id": "0YYgIoHHD29N"
      },
      "execution_count": null,
      "outputs": []
    },
    {
      "cell_type": "code",
      "source": [
        "!zip -r /content/finetune_gemma_3_4b_it_en_hi.zip lora_model outputs wandb\n",
        "from google.colab import files\n",
        "files.download('/content/finetune_gemma_3_4b_it_en_hi.zip')"
      ],
      "metadata": {
        "id": "LjnMbR4GLfzU"
      },
      "execution_count": null,
      "outputs": []
    },
    {
      "cell_type": "code",
      "source": [
        "# Source English sentences\n",
        "source_sentences = [\n",
        "    \"The Constitution of India is the supreme law of the land and provides the framework for the country's legal system.\",\n",
        "    \"The Supreme Court of India, established in 1950, serves as the highest judicial forum and final court of appeal.\",\n",
        "    \"Filing a First Information Report (FIR) at the police station is mandatory to initiate criminal proceedings under the Code of Criminal Procedure.\",\n",
        "    \"Section 302 of the Indian Penal Code prescribes punishment for murder, which may extend to death penalty or life imprisonment.\",\n",
        "    \"The writ of habeas corpus can be filed in a High Court if a person is illegally detained or imprisoned.\",\n",
        "    \"Under the Indian Evidence Act, a dying declaration is admissible as evidence in court proceedings.\",\n",
        "    \"The Right to Information Act of 2005 empowers citizens to request information from public authorities.\",\n",
        "    \"Anticipatory bail under Section 438 of the Criminal Procedure Code allows a person to seek bail in anticipation of arrest.\",\n",
        "    \"The doctrine of stare decisis is followed by Indian courts, wherein precedents set by higher courts are binding on lower courts.\",\n",
        "    \"The Advocate General is appointed by the Governor and serves as the highest law officer of a state.\"\n",
        "]\n",
        "\n",
        "# Reference Hindi translations (Google Translate)\n",
        "reference_translations = [\n",
        "\n",
        "\"भारत का संविधान देश का सर्वोच्च कानून है और देश की कानूनी व्यवस्था के लिए रूपरेखा प्रदान करता है।\",\n",
        "\n",
        "\"भारत का सर्वोच्च न्यायालय, 1950 में स्थापित, सर्वोच्च न्यायिक मंच और अपील की अंतिम अदालत के रूप में कार्य करता है।\",\n",
        "\n",
        "\"दंड प्रक्रिया संहिता के तहत आपराधिक कार्यवाही शुरू करने के लिए पुलिस स्टेशन में प्रथम सूचना रिपोर्ट (एफआईआर) दर्ज करना अनिवार्य है।\",\n",
        "\n",
        "\"भारतीय दंड संहिता की धारा 302 हत्या के लिए सजा निर्धारित करती है, जो मृत्युदंड या आजीवन कारावास तक हो सकती है।\",\n",
        "\n",
        "\"यदि किसी व्यक्ति को अवैध रूप से हिरासत में लिया जाता है या कैद किया जाता है तो उच्च न्यायालय में बंदी प्रत्यक्षीकरण याचिका दायर की जा सकती है।\",\n",
        "\n",
        "\"भारतीय साक्ष्य अधिनियम के तहत, अदालती कार्यवाही में मृत्युपूर्व बयान साक्ष्य के रूप में स्वीकार्य है।\",\n",
        "\n",
        "\"सूचना का अधिकार अधिनियम 2005 नागरिकों को सार्वजनिक अधिकारियों से जानकारी मांगने का अधिकार देता है।\",\n",
        "\n",
        "\"दंड प्रक्रिया संहिता की धारा 438 के तहत अग्रिम जमानत किसी व्यक्ति को गिरफ्तारी की आशंका में जमानत मांगने की अनुमति देती है।\",\n",
        "\n",
        "\"भारतीय दंड संहिता में स्टेयर डेसिसिस के सिद्धांत का पालन किया जाता है। न्यायालय, जहाँ उच्च न्यायालयों द्वारा निर्धारित मिसालें निचली अदालतों पर बाध्यकारी होती हैं।\",\n",
        "\n",
        "\"महाधिवक्ता की नियुक्ति राज्यपाल द्वारा की जाती है और वह राज्य के सर्वोच्च विधि अधिकारी के रूप में कार्य करता है।\"\n",
        "]\n",
        "\n",
        "# Model outputs before fine-tuning\n",
        "baseline_translations = ['भारत का संविधान देश का सर्वोच्च कानून है और देश के कानूनी प्रणाली के लिए ढांचा प्रदान करता है।',\n",
        " 'भारत की सर्वोच्च न्यायालय, जिसकी स्थापना 1950 में हुई, भारत की उच्चतम न्यायिक मंच और अंतिम अपील न्यायालय के रूप में कार्य करती है।',\n",
        " 'पुलिस स्टेशन में प्रथम सूचना रिपोर्ट (एफआईआर) दर्ज कराना अनिवार्य है आपराधिक प्रक्रिया संहिता के तहत आपराधिक कार्यवाही शुरू करने के लिए।',\n",
        " 'भारतीय दंड संहिता की धारा 302 हत्या के लिए दंड का प्रावधान करती है, जो मृत्युदंड या आजीवन कारावास तक हो सकता है।',\n",
        " 'किसी व्यक्ति के अवैध रूप से हिरासत में लिए जाने या कैद किए जाने पर उच्च न्यायालय में हेबेरस कॉर्पस की याचिका दायर की जा सकती है।',\n",
        " 'भारतीय साक्ष्य अधिनियम के तहत, एक मृत्यु घोषणा अदालत की कार्यवाही में सबूत के रूप में स्वीकार्य है।',\n",
        " 'सूचना अधिकार अधिनियम 2005 नागरिकों को सार्वजनिक अधिकारियों से जानकारी मांगने का अधिकार देता है।',\n",
        " 'धारा 438 के आपराधिक प्रक्रिया संहिता के तहत अग्रिम जमानत, एक व्यक्ति को गिरफ्तारी की आशंका में जमानत की मांग करने की अनुमति देती है।',\n",
        " \"भारतीय न्यायालय भी 'स्टेरे डेसिस' के सिद्धांत का पालन करते हैं, जिसमें उच्च न्यायालयों द्वारा स्थापित पूर्व निर्णय निचले न्यायालयों के लिए बाध्यकारी होते हैं।\",\n",
        " 'महाधिवक्ता राज्यपाल द्वारा नियुक्त किए जाते हैं और वे एक राज्य के सर्वोच्च कानूनी अधिकारी के रूप में कार्य करते हैं।']\n",
        "\n",
        "# Model outputs after fine-tuning\n",
        "fine_tuned_translations = ['भारत का संविधान देश का सर्वोच्च कानून है और देश के कानूनी प्रणाली के लिए एक रूपरेखा प्रदान करता है।',\n",
        " 'भारत का सर्वोच्च न्यायालय, 1950 में स्थापित, उच्चतम न्यायिक मंच और अंतिम अपील न्यायालय है ।',\n",
        " 'प्रथम सूचना रिपोर्ट (एफआईआर) को अपराध-मामलों के आरंभ के लिए संहिता के अधीन कार्यवाही शुरू करने के लिए पुलिस थाने में दाखिल करना अनिवार्य है।',\n",
        " 'धारा 302, दंड संहिता, उन लोगों के विरुद्ध मृत्युदंड या जीवन पर्यंत कारावास का अर्थ है जो किसी की हत्या करते हैं।',\n",
        " 'उच्च न्यायालय में किसी व्यक्ति को अवैध रूप से हिरासत या कारावास में रखा गया है या नहीं, यह जांच करने के लिए हबियस कॉर्पस का רשימה दायर किया जा सकता है।',\n",
        " 'भारतीय साक्ष्य अधिनियम के तहत, मृत्यु की घोषणा को अदालत की कार्यवाही में साक्ष्य के रूप में ग्राह्म है।',\n",
        " 'सूचना अधिनियम 2005 नागरिकों को सार्वजनिक प्राधिकरणों से सूचना मांगने का अधिकार देता है।',\n",
        " 'भारतीय दंड प्रक्रिया संहिता की धारा 438 के अधीन अग्रिम जमानत, किसी व्यक्ति को उन किए जाने वाले संसpection की अग्रसरिता में जमानत की मांग करने की अनुमति देती है ।',\n",
        " 'डॉक्टरिन ऑफ स्टेयर डिसिसस का भारतीय अदालतों द्वारा पालन किया जाता है, जहां उच्च न्यायालय द्वारा निर्धारित पूर्वधारणाएं निम्न न्यायालयों के लिए बाध्यकारी होती हैं ।',\n",
        " 'राज्य सरकार के अधीन महा kuasa नियुक्त किया जाता है। महा kuasa राज्य सरकार की उच्चतम विधि संबंधी अधिकारी नियुक्त करता है और उसे सेवा प्रदान करता है।']"
      ],
      "metadata": {
        "id": "2wv_It81e97s"
      },
      "execution_count": null,
      "outputs": []
    },
    {
      "cell_type": "code",
      "source": [
        "!pip install sacrebleu -q -U\n",
        "!pip install rouge -q -U\n",
        "!pip install sacremoses -q -U"
      ],
      "metadata": {
        "id": "ZDK5xdLRfl-4"
      },
      "execution_count": null,
      "outputs": []
    },
    {
      "cell_type": "code",
      "source": [
        "import numpy as np\n",
        "from nltk.translate.bleu_score import sentence_bleu, SmoothingFunction\n",
        "from rouge import Rouge\n",
        "import sacrebleu\n",
        "import sacremoses"
      ],
      "metadata": {
        "id": "H9fg8qjMK1Tx"
      },
      "execution_count": null,
      "outputs": []
    },
    {
      "cell_type": "code",
      "source": [
        "# Clean translations function\n",
        "def clean_translation(text):\n",
        "    import re\n",
        "    # Remove transliterations in parentheses\n",
        "    cleaned = re.sub(r'\\([^)]*\\)', '', text)\n",
        "    # Remove line breaks\n",
        "    cleaned = re.sub(r'\\n', ' ', cleaned)\n",
        "    return cleaned.strip()\n",
        "\n",
        "# Clean all translations\n",
        "baseline_clean = [clean_translation(t) for t in baseline_translations]\n",
        "finetuned_clean = [clean_translation(t) for t in fine_tuned_translations]\n",
        "\n",
        "# Helper functions for metrics\n",
        "def tokenize(sentence):\n",
        "    return sentence.split()\n",
        "\n",
        "# 1. BLEU Score Calculation\n",
        "def calculate_bleu(candidates, references):\n",
        "    smoothing = SmoothingFunction().method1\n",
        "    bleu_scores = []\n",
        "\n",
        "    for candidate, reference in zip(candidates, references):\n",
        "        candidate_tokens = tokenize(candidate)\n",
        "        reference_tokens = [tokenize(reference)]\n",
        "        bleu = sentence_bleu(reference_tokens, candidate_tokens, smoothing_function=smoothing)\n",
        "        bleu_scores.append(bleu)\n",
        "\n",
        "    avg_bleu = np.mean(bleu_scores)\n",
        "    return bleu_scores, avg_bleu\n",
        "\n",
        "# 2. ROUGE Score Calculation\n",
        "def calculate_rouge(candidates, references):\n",
        "    rouge = Rouge()\n",
        "    rouge_scores = []\n",
        "\n",
        "    for candidate, reference in zip(candidates, references):\n",
        "        try:\n",
        "            scores = rouge.get_scores(candidate, reference)[0]\n",
        "            rouge_scores.append({\n",
        "                'rouge-1': scores['rouge-1']['f'],\n",
        "                'rouge-2': scores['rouge-2']['f'],\n",
        "                'rouge-l': scores['rouge-l']['f']\n",
        "            })\n",
        "        except Exception:\n",
        "            rouge_scores.append({\n",
        "                'rouge-1': 0.0, 'rouge-2': 0.0, 'rouge-l': 0.0\n",
        "            })\n",
        "\n",
        "    avg_rouge_1 = np.mean([s['rouge-1'] for s in rouge_scores])\n",
        "    avg_rouge_2 = np.mean([s['rouge-2'] for s in rouge_scores])\n",
        "    avg_rouge_l = np.mean([s['rouge-l'] for s in rouge_scores])\n",
        "\n",
        "    return rouge_scores, {'rouge-1': avg_rouge_1, 'rouge-2': avg_rouge_2, 'rouge-l': avg_rouge_l}\n",
        "\n",
        "# 3. chrF Score Calculation\n",
        "def calculate_chrf(candidates, references):\n",
        "    chrf_scores = []\n",
        "\n",
        "    for candidate, reference in zip(candidates, references):\n",
        "        chrf = sacrebleu.corpus_chrf([candidate], [[reference]])\n",
        "        chrf_scores.append(chrf.score)\n",
        "\n",
        "    avg_chrf = np.mean(chrf_scores)\n",
        "    return chrf_scores, avg_chrf\n",
        "\n",
        "# Calculate all metrics\n",
        "print(\"Evaluating Baseline vs. Fine-tuned Translations\")\n",
        "baseline_bleu_scores, baseline_avg_bleu = calculate_bleu(baseline_clean, reference_translations)\n",
        "baseline_rouge_scores, baseline_avg_rouge = calculate_rouge(baseline_clean, reference_translations)\n",
        "baseline_chrf_scores, baseline_avg_chrf = calculate_chrf(baseline_clean, reference_translations)\n",
        "\n",
        "finetuned_bleu_scores, finetuned_avg_bleu = calculate_bleu(finetuned_clean, reference_translations)\n",
        "finetuned_rouge_scores, finetuned_avg_rouge = calculate_rouge(finetuned_clean, reference_translations)\n",
        "finetuned_chrf_scores, finetuned_avg_chrf = calculate_chrf(finetuned_clean, reference_translations)\n",
        "\n",
        "# Print results\n",
        "print(\"\\n===== OVERALL RESULTS =====\")\n",
        "print(f\"Baseline Average BLEU: {baseline_avg_bleu:.4f}\")\n",
        "print(f\"Baseline Average ROUGE-1: {baseline_avg_rouge['rouge-1']:.4f}\")\n",
        "print(f\"Baseline Average ROUGE-2: {baseline_avg_rouge['rouge-2']:.4f}\")\n",
        "print(f\"Baseline Average ROUGE-L: {baseline_avg_rouge['rouge-l']:.4f}\")\n",
        "print(f\"Baseline Average chrF: {baseline_avg_chrf:.4f}\")\n",
        "\n",
        "print(\"\\n\")\n",
        "print(f\"Fine-tuned Average BLEU: {finetuned_avg_bleu:.4f}\")\n",
        "print(f\"Fine-tuned Average ROUGE-1: {finetuned_avg_rouge['rouge-1']:.4f}\")\n",
        "print(f\"Fine-tuned Average ROUGE-2: {finetuned_avg_rouge['rouge-2']:.4f}\")\n",
        "print(f\"Fine-tuned Average ROUGE-L: {finetuned_avg_rouge['rouge-l']:.4f}\")\n",
        "print(f\"Fine-tuned Average chrF: {finetuned_avg_chrf:.4f}\")\n",
        "\n",
        "# Calculate improvement percentages\n",
        "bleu_improvement = ((finetuned_avg_bleu - baseline_avg_bleu) / baseline_avg_bleu) * 100\n",
        "rouge1_improvement = ((finetuned_avg_rouge['rouge-1'] - baseline_avg_rouge['rouge-1']) / baseline_avg_rouge['rouge-1']) * 100\n",
        "rouge2_improvement = ((finetuned_avg_rouge['rouge-2'] - baseline_avg_rouge['rouge-2']) / baseline_avg_rouge['rouge-2']) * 100\n",
        "rougeL_improvement = ((finetuned_avg_rouge['rouge-l'] - baseline_avg_rouge['rouge-l']) / baseline_avg_rouge['rouge-l']) * 100\n",
        "chrf_improvement = ((finetuned_avg_chrf - baseline_avg_chrf) / baseline_avg_chrf) * 100\n",
        "\n",
        "print(\"\\n===== IMPROVEMENT SUMMARY =====\")\n",
        "print(f\"BLEU Score: {bleu_improvement:.2f}% improvement\")\n",
        "print(f\"ROUGE-1 Score: {rouge1_improvement:.2f}% improvement\")\n",
        "print(f\"ROUGE-2 Score: {rouge2_improvement:.2f}% improvement\")\n",
        "print(f\"ROUGE-L Score: {rougeL_improvement:.2f}% improvement\")\n",
        "print(f\"chrF Score: {chrf_improvement:.2f}% improvement\")\n",
        "\n",
        "# Create a zip archive for all outputs\n",
        "import shutil\n",
        "archive_name = f\"finetune_gemma_3_4b_it_en_hi_output_complete\"\n",
        "shutil.make_archive(archive_name, 'zip', \"outputs\")\n",
        "print(f\"Created archive {archive_name}.zip with all model outputs\")"
      ],
      "metadata": {
        "id": "K41KuSExMZaW"
      },
      "execution_count": null,
      "outputs": []
    }
  ]
}